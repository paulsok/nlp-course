{
  "cells": [
    {
      "cell_type": "markdown",
      "metadata": {
        "id": "4txvfR70EUmc"
      },
      "source": [
        "**Maximum likelihood estimatation from observed and unobserved data**\n",
        "\n",
        "You are given a bag containing red and blue coins. All the red coins have the same probability of heads. All the blue coins have the same probability of heads (possibly different from that of the red coins).\n",
        "\n",
        "Your task is to estimate the proportion of red coins in the bag and the probability of heads for both the red and the blue coin."
      ]
    },
    {
      "cell_type": "code",
      "execution_count": null,
      "metadata": {
        "scrolled": true,
        "colab": {
          "base_uri": "https://localhost:8080/",
          "height": 109,
          "referenced_widgets": [
            "a0c0e96479a142739216c2d6217e6664",
            "0a422e0b55354ebfbe574d63d1df02b9",
            "afe6c27d61fe48138d3b4e5361b24ae2",
            "79d7da28ddad4e928c21cb21b0b0a4de",
            "ee98c95caf5e46fab84c7284c3ff01a7",
            "7532db86f3af4cd4a22adbe6c9383136",
            "b4407b6d898240db9087da1507e8de02",
            "01f93d20bb6b4b2dbdf71bebbc82c823",
            "3483fdcf82c04cca93065f160b1cd67f"
          ]
        },
        "id": "CVRMu1heEUmd",
        "outputId": "81f40375-e7dc-4de2-c0d0-ebe14926ea9b"
      },
      "outputs": [
        {
          "output_type": "display_data",
          "data": {
            "text/plain": [
              "FloatSlider(value=0.5, description='prob_red', max=1.0)"
            ],
            "application/vnd.jupyter.widget-view+json": {
              "version_major": 2,
              "version_minor": 0,
              "model_id": "a0c0e96479a142739216c2d6217e6664"
            }
          },
          "metadata": {}
        },
        {
          "output_type": "display_data",
          "data": {
            "text/plain": [
              "FloatSlider(value=0.8, description='head_red', max=1.0)"
            ],
            "application/vnd.jupyter.widget-view+json": {
              "version_major": 2,
              "version_minor": 0,
              "model_id": "79d7da28ddad4e928c21cb21b0b0a4de"
            }
          },
          "metadata": {}
        },
        {
          "output_type": "display_data",
          "data": {
            "text/plain": [
              "FloatSlider(value=0.2, description='head_blue', max=1.0)"
            ],
            "application/vnd.jupyter.widget-view+json": {
              "version_major": 2,
              "version_minor": 0,
              "model_id": "b4407b6d898240db9087da1507e8de02"
            }
          },
          "metadata": {}
        }
      ],
      "source": [
        "import ipywidgets as widgets\n",
        "prob_red = widgets.FloatSlider(min=0.0, max=1.0, value=0.5, description='prob_red')\n",
        "prob_head_red = widgets.FloatSlider(min=0.0, max=1.0, value=0.8, description='head_red')\n",
        "prob_head_blue = widgets.FloatSlider(min=0.0, max=1.0, value=0.2, description='head_blue')\n",
        "display(prob_red, prob_head_red, prob_head_blue)"
      ]
    },
    {
      "cell_type": "markdown",
      "metadata": {
        "id": "noH_XJLwEUme"
      },
      "source": [
        "Use these widgets to control the model."
      ]
    },
    {
      "cell_type": "code",
      "execution_count": null,
      "metadata": {
        "id": "BBdHTvEwEUme"
      },
      "outputs": [],
      "source": [
        "import random\n",
        "def choose_coin():\n",
        "    return 'R' if random.random() < prob_red.value else 'B'\n",
        "\n",
        "def flip_coin(coin):\n",
        "    uar = random.random()\n",
        "    if coin == 'R':\n",
        "        if uar < prob_head_red.value:\n",
        "            return 'H'\n",
        "    elif uar < prob_head_blue.value:\n",
        "        return 'H'\n",
        "    return 'T'\n",
        "\n",
        "def flip_random_coin_n_times(n, hidden=False):\n",
        "    coin = choose_coin()\n",
        "    return ('_' if hidden else coin, ''.join([flip_coin(coin) for i in range(n)]))\n",
        "\n",
        "def flip_m_random_coins_n_times(m, n, hidden=False):\n",
        "    return [flip_random_coin_n_times(n, hidden) for i in range(m)]"
      ]
    },
    {
      "cell_type": "markdown",
      "metadata": {
        "id": "YZ3AHRoOEUmf"
      },
      "source": [
        "Use the above methods to sample from the model. The optional parameter 'hidden' controls whether the colour of the coin is observed in the samples."
      ]
    },
    {
      "cell_type": "code",
      "execution_count": null,
      "metadata": {
        "colab": {
          "base_uri": "https://localhost:8080/"
        },
        "id": "cEfE9XfgEUmf",
        "outputId": "42d3ee7d-104b-44ba-b060-9293925b9e41"
      },
      "outputs": [
        {
          "output_type": "execute_result",
          "data": {
            "text/plain": [
              "[('B',\n",
              "  'TTTTTTTTTTTTTTTTTTTTHTTTTHTTTTTTTTTHTTHTTTTTTHHTHHTTTTTTHTTTTTTHHTTTTHTTTTTHTHTTTTHTHTTTTHTTHHTTTTTT'),\n",
              " ('R',\n",
              "  'HHHHHHHHHHHHHHHHHHHHHHHTHHHHHHTHHHHHHHHHHTHHHTHHHHHTHHHTHHHHHTHHHHTHHHHHHHHTHHHHHTHHHHTHHHHTHHHTHHHH'),\n",
              " ('R',\n",
              "  'HTTHTHHHHHHHHHHHHTHTHHHTHTHHHHTHHHHHHHHHHHHHHHHHTHTHHHHTHHHHHHHHHHHTHHHHHHHHHHHHHHHHHHTHHHHHTHHHHHHH'),\n",
              " ('B',\n",
              "  'TTTTTTHHTHTTTTTTTHTHTTTTTTTTTTTTTTHTTTTHTTHTHTTTHHTTTHTTTTTTTTTTTTTTHTTTHTHTTTTTHHTTTTTTTTTHTHHTTTTT'),\n",
              " ('R',\n",
              "  'HHHHHHHHHHHHHHHHHTHHHHHHTHTHTTHHHTHHHHHTHHHHHHHHHHHHHHTHHHHHHHHHHHHHHHHHTHHTHHHHHHHHHTHHHHHTHTTHTHTH')]"
            ]
          },
          "metadata": {},
          "execution_count": 15
        }
      ],
      "source": [
        "flip_m_random_coins_n_times(5, 100)"
      ]
    },
    {
      "cell_type": "code",
      "execution_count": null,
      "metadata": {
        "colab": {
          "base_uri": "https://localhost:8080/"
        },
        "id": "CTpb_rEiEUmf",
        "outputId": "df7a2a96-74a5-4278-a210-7a0387b383b2"
      },
      "outputs": [
        {
          "output_type": "execute_result",
          "data": {
            "text/plain": [
              "[('_',\n",
              "  'TTTTTTHHTTTTTTTTTTTTTTHTTHTTTHTHTTHTTTHTTTTHTTTTTTTTHTTTHTHTHTTTHTTTTTTTTTHTTHTHTTTTHTTHTTHTTTTTTHTT'),\n",
              " ('_',\n",
              "  'TTTTTTTTTTHTTTTTTTTTTTTTTTTTTTTHTTTTTHTTHTTTTTTTTTHTTHHTTTTHTTTTTTTTTHTTTTTTTTTTHTTTTHTTHTTTTTTTTTTT'),\n",
              " ('_',\n",
              "  'TTTHTTTHTTHTTTTTTTTTTTTHHTTTTTTTHHTTHTTTTTHHHTHTTTTTTHHTTHHTTTHTTHTTTTHTHHTTTHTTTTTHTHHTTTTTTTTTTTTT'),\n",
              " ('_',\n",
              "  'HHTHTTTTHTHHHHTTHTHTTTTTTTTTTTTTHTTTTTTHTTTTTTTHTTTTTTHTTTTHTTHTTTHTHTTTTTTTHTTTTHTTTHHTHTHTTTTTTTTT'),\n",
              " ('_',\n",
              "  'TTTTTTTTTHTHTTTHTTHTTTTTTTTTTTTTTHTTTTTTTHTTTTHTHTTTTHHHTHTTHTTTTTTTTTTTTTTHHTTTTTTTTTHTTTTTTTTTTTTH')]"
            ]
          },
          "metadata": {},
          "execution_count": 16
        }
      ],
      "source": [
        "flip_m_random_coins_n_times(5, 100, hidden=True)"
      ]
    },
    {
      "cell_type": "markdown",
      "metadata": {
        "id": "HhlHgbhGEUmf"
      },
      "source": [
        "**TASK 1** Implement the following two functions to estimate parameters for the model in the observed case. Splitting the work into two separate functions will simplify things for the next task. \n",
        "\n",
        "* How could you measure the error in your estimates?\n",
        "* How does the error decrease with the sample size?\n",
        "* If you were only allowed to flip coins a total of N times how would you choose m (the number of coins) and n the number of times to flip each coin? Why?"
      ]
    },
    {
      "cell_type": "code",
      "execution_count": null,
      "metadata": {
        "id": "XmbN1N8QEUmg"
      },
      "outputs": [],
      "source": [
        "def compute_sufficient_statistics(samples):\n",
        "    'Implement me to compute the sufficient statistics for the model from the samples.'\n",
        "    count_red = 0\n",
        "    count_blue = 0\n",
        "    count_red_head = 0\n",
        "    cond_blue_head = 0\n",
        "    for elem in samples:\n",
        "        if elem[0] == 'R':\n",
        "            count_red += len(elem[1])\n",
        "            count_red_head += elem[1].count('H')\n",
        "        else:\n",
        "            count_blue += len(elem[1])\n",
        "            cond_blue_head += elem[1].count('H')\n",
        "\n",
        "    return count_red, count_blue, count_red_head, cond_blue_head\n",
        "\n",
        "def mle(sufficient_statistics):\n",
        "    'Implement me to compute mle parameter estimates given sufficient statistics.'\n",
        "    count_red, count_blue, count_red_head, count_blue_head = sufficient_statistics\n",
        "    N = count_red + count_blue\n",
        "    prob_red = count_red / N\n",
        "    prob_head_red =  count_red_head / count_red\n",
        "    prob_head_blue = count_blue_head / count_blue\n",
        "    return prob_red, prob_head_red, prob_head_blue"
      ]
    },
    {
      "cell_type": "code",
      "execution_count": null,
      "metadata": {
        "colab": {
          "base_uri": "https://localhost:8080/"
        },
        "id": "6PjUu8CEEUmg",
        "outputId": "cc8593d8-b4af-4672-deaf-990f6ad3d745"
      },
      "outputs": [
        {
          "output_type": "stream",
          "name": "stdout",
          "text": [
            "0.5004 0.8008033573141486 0.19986789431545235\n"
          ]
        }
      ],
      "source": [
        "samples = flip_m_random_coins_n_times(10000, 100)\n",
        "statistics = compute_sufficient_statistics(samples)\n",
        "estimate_prob_red, estimate_prob_head_red, estimate_prob_head_blue = mle(statistics)\n",
        "print(estimate_prob_red, estimate_prob_head_red, estimate_prob_head_blue)"
      ]
    },
    {
      "cell_type": "markdown",
      "metadata": {
        "id": "mID18a8BEUmg"
      },
      "source": [
        "**TASK 2** Given a sample from a single coin whose colour is unobserved, estimate the posterior probability that the coin is red, given some estimates of the model parameters.\n",
        "\n",
        "* If you pass in the true model parameters (e.g. prob_red.value, prob_head_red.value and prob_head_blue.value), how quickly does the posterior change? Use the plot_distribution function to view this.\n",
        "* How does this depend on the model parameters?"
      ]
    },
    {
      "cell_type": "code",
      "execution_count": null,
      "metadata": {
        "id": "AjPAByy1EUmg"
      },
      "outputs": [],
      "source": [
        "def compute_posterior_prob_red(sample, estimate_prob_red, estimate_prob_head_red, estimate_prob_head_blue):\n",
        "    'Implement me to compute posterior probability that the sample came from the red coin.'      \n",
        "    p_x_given_r = (1 - estimate_prob_head_red) ** sample.count('T') * estimate_prob_head_red ** sample.count('H')\n",
        "    p_x_given_b = (1 - estimate_prob_head_blue) ** sample.count('T') * estimate_prob_head_blue** sample.count('H')\n",
        "\n",
        "    posterior_red = p_x_given_r * estimate_prob_red\n",
        "    posterior_blue = p_x_given_b * (1 - estimate_prob_red)\n",
        "    posterior_red = posterior_red / (posterior_red + posterior_blue)\n",
        "    return posterior_red"
      ]
    },
    {
      "cell_type": "code",
      "source": [
        "sample = flip_m_random_coins_n_times(100, 100, hidden=False)\n",
        "statistics = compute_sufficient_statistics(sample)\n",
        "estimate_prob_red, estimate_prob_head_red, estimate_prob_head_blue = mle(statistics)\n",
        "\n",
        "print(estimate_prob_red, estimate_prob_head_red, estimate_prob_head_blue)"
      ],
      "metadata": {
        "colab": {
          "base_uri": "https://localhost:8080/"
        },
        "id": "Q30DVZ-3GbOV",
        "outputId": "4f0dd79f-1175-403c-cbb8-a20339f72399"
      },
      "execution_count": null,
      "outputs": [
        {
          "output_type": "stream",
          "name": "stdout",
          "text": [
            "0.49 0.8008163265306123 0.2015686274509804\n"
          ]
        }
      ]
    },
    {
      "cell_type": "markdown",
      "metadata": {
        "id": "QB2K4CtKEUmh"
      },
      "source": [
        "**TASK 3** Reusing your code from Tasks 1 and 2, implement expectation maximization algorithm to find a (locally optimal) solution to the parameters when the colour of the coins is not observed."
      ]
    },
    {
      "cell_type": "code",
      "execution_count": null,
      "metadata": {
        "id": "-r5kBGgKEUmh"
      },
      "outputs": [],
      "source": [
        "def compute_expected_statistics(samples, estimate_prob_red, estimate_prob_head_red, estimate_prob_head_blue):\n",
        "    assert False, 'Compute the sufficient statistics for this sample given these parameter estimates.'\n",
        "    \n",
        "def expectation_maximization(samples, iterations, estimate_prob_red, estimate_prob_head_red, estimate_prob_head_blue):\n",
        "    assert False, \"Estimate the parameters using EM using the 'compute_expected_statistics' and 'mle' functions\""
      ]
    },
    {
      "cell_type": "code",
      "execution_count": null,
      "metadata": {
        "id": "-GlTCCRyEUmh",
        "outputId": "c03c10a0-b0de-4ced-cf10-1006f82d62c4"
      },
      "outputs": [
        {
          "name": "stdout",
          "output_type": "stream",
          "text": [
            "0.555294461770073 0.6019919515493285 0.3951315829659137\n",
            "0.3266628264755212 0.699974269087489 0.4178358745991849\n",
            "0.2999963891190526 0.719998947269077 0.4200019986750612\n",
            "0.2999832413939155 0.7200037090276086 0.4200055926313944\n",
            "0.2999832315266686 0.7200037114282721 0.4200055958313131\n",
            "0.29998323151917455 0.7200037114300724 0.4200055958337533\n",
            "0.29998323151916884 0.7200037114300739 0.4200055958337552\n",
            "0.29998323151916884 0.7200037114300738 0.4200055958337553\n",
            "0.29998323151916884 0.7200037114300738 0.4200055958337553\n",
            "0.29998323151916884 0.7200037114300738 0.4200055958337553\n"
          ]
        }
      ],
      "source": [
        "samples = flip_m_random_coins_n_times(10, 100, hidden=True)\n",
        "expectation_maximization(samples, 0.5, 0.7, 0.2)"
      ]
    },
    {
      "cell_type": "code",
      "execution_count": null,
      "metadata": {
        "id": "IXqzfCnwEUmh"
      },
      "outputs": [],
      "source": []
    }
  ],
  "metadata": {
    "kernelspec": {
      "display_name": "Python 3",
      "language": "python",
      "name": "python3"
    },
    "language_info": {
      "codemirror_mode": {
        "name": "ipython",
        "version": 3
      },
      "file_extension": ".py",
      "mimetype": "text/x-python",
      "name": "python",
      "nbconvert_exporter": "python",
      "pygments_lexer": "ipython3",
      "version": "3.6.5"
    },
    "colab": {
      "provenance": []
    },
    "accelerator": "GPU",
    "gpuClass": "standard",
    "widgets": {
      "application/vnd.jupyter.widget-state+json": {
        "a0c0e96479a142739216c2d6217e6664": {
          "model_module": "@jupyter-widgets/controls",
          "model_name": "FloatSliderModel",
          "model_module_version": "1.5.0",
          "state": {
            "_dom_classes": [],
            "_model_module": "@jupyter-widgets/controls",
            "_model_module_version": "1.5.0",
            "_model_name": "FloatSliderModel",
            "_view_count": null,
            "_view_module": "@jupyter-widgets/controls",
            "_view_module_version": "1.5.0",
            "_view_name": "FloatSliderView",
            "continuous_update": true,
            "description": "prob_red",
            "description_tooltip": null,
            "disabled": false,
            "layout": "IPY_MODEL_0a422e0b55354ebfbe574d63d1df02b9",
            "max": 1,
            "min": 0,
            "orientation": "horizontal",
            "readout": true,
            "readout_format": ".2f",
            "step": 0.1,
            "style": "IPY_MODEL_afe6c27d61fe48138d3b4e5361b24ae2",
            "value": 0.5
          }
        },
        "0a422e0b55354ebfbe574d63d1df02b9": {
          "model_module": "@jupyter-widgets/base",
          "model_name": "LayoutModel",
          "model_module_version": "1.2.0",
          "state": {
            "_model_module": "@jupyter-widgets/base",
            "_model_module_version": "1.2.0",
            "_model_name": "LayoutModel",
            "_view_count": null,
            "_view_module": "@jupyter-widgets/base",
            "_view_module_version": "1.2.0",
            "_view_name": "LayoutView",
            "align_content": null,
            "align_items": null,
            "align_self": null,
            "border": null,
            "bottom": null,
            "display": null,
            "flex": null,
            "flex_flow": null,
            "grid_area": null,
            "grid_auto_columns": null,
            "grid_auto_flow": null,
            "grid_auto_rows": null,
            "grid_column": null,
            "grid_gap": null,
            "grid_row": null,
            "grid_template_areas": null,
            "grid_template_columns": null,
            "grid_template_rows": null,
            "height": null,
            "justify_content": null,
            "justify_items": null,
            "left": null,
            "margin": null,
            "max_height": null,
            "max_width": null,
            "min_height": null,
            "min_width": null,
            "object_fit": null,
            "object_position": null,
            "order": null,
            "overflow": null,
            "overflow_x": null,
            "overflow_y": null,
            "padding": null,
            "right": null,
            "top": null,
            "visibility": null,
            "width": null
          }
        },
        "afe6c27d61fe48138d3b4e5361b24ae2": {
          "model_module": "@jupyter-widgets/controls",
          "model_name": "SliderStyleModel",
          "model_module_version": "1.5.0",
          "state": {
            "_model_module": "@jupyter-widgets/controls",
            "_model_module_version": "1.5.0",
            "_model_name": "SliderStyleModel",
            "_view_count": null,
            "_view_module": "@jupyter-widgets/base",
            "_view_module_version": "1.2.0",
            "_view_name": "StyleView",
            "description_width": "",
            "handle_color": null
          }
        },
        "79d7da28ddad4e928c21cb21b0b0a4de": {
          "model_module": "@jupyter-widgets/controls",
          "model_name": "FloatSliderModel",
          "model_module_version": "1.5.0",
          "state": {
            "_dom_classes": [],
            "_model_module": "@jupyter-widgets/controls",
            "_model_module_version": "1.5.0",
            "_model_name": "FloatSliderModel",
            "_view_count": null,
            "_view_module": "@jupyter-widgets/controls",
            "_view_module_version": "1.5.0",
            "_view_name": "FloatSliderView",
            "continuous_update": true,
            "description": "head_red",
            "description_tooltip": null,
            "disabled": false,
            "layout": "IPY_MODEL_ee98c95caf5e46fab84c7284c3ff01a7",
            "max": 1,
            "min": 0,
            "orientation": "horizontal",
            "readout": true,
            "readout_format": ".2f",
            "step": 0.1,
            "style": "IPY_MODEL_7532db86f3af4cd4a22adbe6c9383136",
            "value": 0.8
          }
        },
        "ee98c95caf5e46fab84c7284c3ff01a7": {
          "model_module": "@jupyter-widgets/base",
          "model_name": "LayoutModel",
          "model_module_version": "1.2.0",
          "state": {
            "_model_module": "@jupyter-widgets/base",
            "_model_module_version": "1.2.0",
            "_model_name": "LayoutModel",
            "_view_count": null,
            "_view_module": "@jupyter-widgets/base",
            "_view_module_version": "1.2.0",
            "_view_name": "LayoutView",
            "align_content": null,
            "align_items": null,
            "align_self": null,
            "border": null,
            "bottom": null,
            "display": null,
            "flex": null,
            "flex_flow": null,
            "grid_area": null,
            "grid_auto_columns": null,
            "grid_auto_flow": null,
            "grid_auto_rows": null,
            "grid_column": null,
            "grid_gap": null,
            "grid_row": null,
            "grid_template_areas": null,
            "grid_template_columns": null,
            "grid_template_rows": null,
            "height": null,
            "justify_content": null,
            "justify_items": null,
            "left": null,
            "margin": null,
            "max_height": null,
            "max_width": null,
            "min_height": null,
            "min_width": null,
            "object_fit": null,
            "object_position": null,
            "order": null,
            "overflow": null,
            "overflow_x": null,
            "overflow_y": null,
            "padding": null,
            "right": null,
            "top": null,
            "visibility": null,
            "width": null
          }
        },
        "7532db86f3af4cd4a22adbe6c9383136": {
          "model_module": "@jupyter-widgets/controls",
          "model_name": "SliderStyleModel",
          "model_module_version": "1.5.0",
          "state": {
            "_model_module": "@jupyter-widgets/controls",
            "_model_module_version": "1.5.0",
            "_model_name": "SliderStyleModel",
            "_view_count": null,
            "_view_module": "@jupyter-widgets/base",
            "_view_module_version": "1.2.0",
            "_view_name": "StyleView",
            "description_width": "",
            "handle_color": null
          }
        },
        "b4407b6d898240db9087da1507e8de02": {
          "model_module": "@jupyter-widgets/controls",
          "model_name": "FloatSliderModel",
          "model_module_version": "1.5.0",
          "state": {
            "_dom_classes": [],
            "_model_module": "@jupyter-widgets/controls",
            "_model_module_version": "1.5.0",
            "_model_name": "FloatSliderModel",
            "_view_count": null,
            "_view_module": "@jupyter-widgets/controls",
            "_view_module_version": "1.5.0",
            "_view_name": "FloatSliderView",
            "continuous_update": true,
            "description": "head_blue",
            "description_tooltip": null,
            "disabled": false,
            "layout": "IPY_MODEL_01f93d20bb6b4b2dbdf71bebbc82c823",
            "max": 1,
            "min": 0,
            "orientation": "horizontal",
            "readout": true,
            "readout_format": ".2f",
            "step": 0.1,
            "style": "IPY_MODEL_3483fdcf82c04cca93065f160b1cd67f",
            "value": 0.2
          }
        },
        "01f93d20bb6b4b2dbdf71bebbc82c823": {
          "model_module": "@jupyter-widgets/base",
          "model_name": "LayoutModel",
          "model_module_version": "1.2.0",
          "state": {
            "_model_module": "@jupyter-widgets/base",
            "_model_module_version": "1.2.0",
            "_model_name": "LayoutModel",
            "_view_count": null,
            "_view_module": "@jupyter-widgets/base",
            "_view_module_version": "1.2.0",
            "_view_name": "LayoutView",
            "align_content": null,
            "align_items": null,
            "align_self": null,
            "border": null,
            "bottom": null,
            "display": null,
            "flex": null,
            "flex_flow": null,
            "grid_area": null,
            "grid_auto_columns": null,
            "grid_auto_flow": null,
            "grid_auto_rows": null,
            "grid_column": null,
            "grid_gap": null,
            "grid_row": null,
            "grid_template_areas": null,
            "grid_template_columns": null,
            "grid_template_rows": null,
            "height": null,
            "justify_content": null,
            "justify_items": null,
            "left": null,
            "margin": null,
            "max_height": null,
            "max_width": null,
            "min_height": null,
            "min_width": null,
            "object_fit": null,
            "object_position": null,
            "order": null,
            "overflow": null,
            "overflow_x": null,
            "overflow_y": null,
            "padding": null,
            "right": null,
            "top": null,
            "visibility": null,
            "width": null
          }
        },
        "3483fdcf82c04cca93065f160b1cd67f": {
          "model_module": "@jupyter-widgets/controls",
          "model_name": "SliderStyleModel",
          "model_module_version": "1.5.0",
          "state": {
            "_model_module": "@jupyter-widgets/controls",
            "_model_module_version": "1.5.0",
            "_model_name": "SliderStyleModel",
            "_view_count": null,
            "_view_module": "@jupyter-widgets/base",
            "_view_module_version": "1.2.0",
            "_view_name": "StyleView",
            "description_width": "",
            "handle_color": null
          }
        }
      }
    }
  },
  "nbformat": 4,
  "nbformat_minor": 0
}