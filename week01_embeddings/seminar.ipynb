{
 "cells": [
  {
   "cell_type": "markdown",
   "metadata": {},
   "source": [
    "## Seminar 1: Fun with Word Embeddings (3 points)\n",
    "\n",
    "Today we gonna play with word embeddings: train our own little embedding, load one from   gensim model zoo and use it to visualize text corpora.\n",
    "\n",
    "This whole thing is gonna happen on top of embedding dataset.\n",
    "\n",
    "__Requirements:__  `pip install --upgrade nltk gensim bokeh` , but only if you're running locally."
   ]
  },
  {
   "cell_type": "code",
   "execution_count": 1,
   "metadata": {
    "collapsed": true
   },
   "outputs": [
    {
     "name": "stdout",
     "output_type": "stream",
     "text": [
      "zsh:1: no matches found: https://www.dropbox.com/s/obaitrix9jyu84r/quora.txt?dl=1\r\n"
     ]
    }
   ],
   "source": [
    "# download the data:\n",
    "!wget https://www.dropbox.com/s/obaitrix9jyu84r/quora.txt?dl=1 -O ./quora.txt\n",
    "# alternative download link: https://yadi.sk/i/BPQrUu1NaTduEw"
   ]
  },
  {
   "cell_type": "code",
   "execution_count": 2,
   "metadata": {
    "scrolled": false
   },
   "outputs": [
    {
     "data": {
      "text/plain": "\"What TV shows or books help you read people's body language?\\n\""
     },
     "execution_count": 2,
     "metadata": {},
     "output_type": "execute_result"
    }
   ],
   "source": [
    "import numpy as np\n",
    "\n",
    "data = list(open(\"./quora.txt\", encoding=\"utf-8\"))\n",
    "data[50]"
   ]
  },
  {
   "cell_type": "markdown",
   "metadata": {},
   "source": [
    "__Tokenization:__ a typical first step for an nlp task is to split raw data into words.\n",
    "The text we're working with is in raw format: with all the punctuation and smiles attached to some words, so a simple str.split won't do.\n",
    "\n",
    "Let's use __`nltk`__ - a library that handles many nlp tasks like tokenization, stemming or part-of-speech tagging."
   ]
  },
  {
   "cell_type": "code",
   "execution_count": 4,
   "metadata": {},
   "outputs": [
    {
     "name": "stdout",
     "output_type": "stream",
     "text": [
      "['What', 'TV', 'shows', 'or', 'books', 'help', 'you', 'read', 'people', \"'\", 's', 'body', 'language', '?']\n"
     ]
    }
   ],
   "source": [
    "from nltk.tokenize import WordPunctTokenizer\n",
    "tokenizer = WordPunctTokenizer()\n",
    "\n",
    "print(tokenizer.tokenize(data[50]))"
   ]
  },
  {
   "cell_type": "code",
   "execution_count": 8,
   "metadata": {
    "collapsed": true
   },
   "outputs": [],
   "source": [
    "# TASK: lowercase everything and extract tokens with tokenizer. \n",
    "# data_tok should be a list of lists of tokens for each line in data.\n",
    "\n",
    "data_tok = [tokenizer.tokenize(i.lower()) for i in data]\n"
   ]
  },
  {
   "cell_type": "code",
   "execution_count": 9,
   "metadata": {
    "collapsed": true
   },
   "outputs": [],
   "source": [
    "assert all(isinstance(row, (list, tuple)) for row in data_tok), \"please convert each line into a list of tokens (strings)\"\n",
    "assert all(all(isinstance(tok, str) for tok in row) for row in data_tok), \"please convert each line into a list of tokens (strings)\"\n",
    "is_latin = lambda tok: all('a' <= x.lower() <= 'z' for x in tok)\n",
    "assert all(map(lambda l: not is_latin(l) or l.islower(), map(' '.join, data_tok))), \"please make sure to lowercase the data\""
   ]
  },
  {
   "cell_type": "code",
   "execution_count": 10,
   "metadata": {},
   "outputs": [
    {
     "name": "stdout",
     "output_type": "stream",
     "text": [
      "[\"can i get back with my ex even though she is pregnant with another guy ' s baby ?\", 'what are some ways to overcome a fast food addiction ?']\n"
     ]
    }
   ],
   "source": [
    "print([' '.join(row) for row in data_tok[:2]])"
   ]
  },
  {
   "cell_type": "markdown",
   "metadata": {},
   "source": [
    "__Word vectors:__ as the saying goes, there's more than one way to train word embeddings. There's Word2Vec and GloVe with different objective functions. Then there's fasttext that uses character-level models to train word embeddings. \n",
    "\n",
    "The choice is huge, so let's start someplace small: __gensim__ is another nlp library that features many vector-based models incuding word2vec."
   ]
  },
  {
   "cell_type": "code",
   "execution_count": 13,
   "metadata": {
    "collapsed": true
   },
   "outputs": [],
   "source": [
    "from gensim.models import Word2Vec\n",
    "model = Word2Vec(data_tok,\n",
    "                 min_count=5,  # consider words that occured at least 5 times\n",
    "                 window=5).wv  # define context as a 5-word window around the target word"
   ]
  },
  {
   "cell_type": "code",
   "execution_count": 14,
   "metadata": {},
   "outputs": [
    {
     "data": {
      "text/plain": "array([-1.2063783 , -0.0125188 ,  1.8948251 ,  0.6764233 ,  0.94945776,\n        0.8523975 ,  1.8431157 ,  0.5057135 ,  0.2929036 , -0.00730108,\n       -0.19346052,  1.149169  ,  1.7447393 , -1.9676551 ,  1.1483237 ,\n        0.91493547, -1.2265618 , -0.24035051, -0.3268205 , -1.3661464 ,\n        0.06410222,  1.0847467 ,  0.04593437,  2.3343282 , -1.8200327 ,\n       -0.35657063,  1.6537426 , -1.6250963 , -0.70592153, -1.3454643 ,\n       -0.46206605, -2.2557557 , -0.4855547 , -1.9353952 , -1.0098225 ,\n        0.9442616 , -0.47461218,  2.1603665 , -0.21251594, -0.01013223,\n       -0.25932905,  0.01641557, -0.8106402 ,  1.4124299 ,  1.1763687 ,\n       -0.38384795, -0.73712903, -0.40571836,  0.53936535,  0.34126705,\n       -0.5326062 ,  0.37759483,  2.5069625 ,  1.4284008 ,  0.6513649 ,\n        0.12127209,  0.40075693, -0.37152493, -0.9996627 , -1.794401  ,\n       -1.0079535 , -0.4722264 , -0.21246105, -0.5304238 , -2.1222692 ,\n        1.2974982 ,  2.5775099 ,  0.14540118,  2.3504624 , -1.8457266 ,\n        1.1533568 , -0.4242277 , -2.4877703 ,  0.3142427 ,  0.95011383,\n       -0.02717237, -0.7063437 ,  1.3393592 , -1.2265979 ,  0.7415819 ,\n       -0.28817165,  1.6686302 ,  0.3340422 , -0.69481176,  2.1195133 ,\n        1.0724789 , -3.0221121 ,  1.5883    ,  1.566202  , -0.37054485,\n        1.3317342 , -1.65694   , -1.2979096 , -1.8658187 , -1.3522083 ,\n        0.09815512, -1.0176026 , -1.4008247 , -0.31918815, -0.85176593],\n      dtype=float32)"
     },
     "execution_count": 14,
     "metadata": {},
     "output_type": "execute_result"
    }
   ],
   "source": [
    "# now you can get word vectors !\n",
    "model.get_vector('anything')"
   ]
  },
  {
   "cell_type": "code",
   "execution_count": 15,
   "metadata": {},
   "outputs": [
    {
     "data": {
      "text/plain": "[('sauce', 0.9001659154891968),\n ('rice', 0.8931809663772583),\n ('butter', 0.8784315586090088),\n ('cheese', 0.8752470016479492),\n ('chocolate', 0.8691183924674988),\n ('chicken', 0.86147540807724),\n ('fruit', 0.8529016375541687),\n ('corn', 0.8525280356407166),\n ('meat', 0.8463989496231079),\n ('potato', 0.8457324504852295)]"
     },
     "execution_count": 15,
     "metadata": {},
     "output_type": "execute_result"
    }
   ],
   "source": [
    "# or query similar words directly. Go play with it!\n",
    "model.most_similar('bread')"
   ]
  },
  {
   "cell_type": "markdown",
   "metadata": {},
   "source": [
    "### Using pre-trained model\n",
    "\n",
    "Took it a while, huh? Now imagine training life-sized (100~300D) word embeddings on gigabytes of text: wikipedia articles or twitter posts. \n",
    "\n",
    "Thankfully, nowadays you can get a pre-trained word embedding model in 2 lines of code (no sms required, promise)."
   ]
  },
  {
   "cell_type": "code",
   "execution_count": 17,
   "metadata": {
    "collapsed": true
   },
   "outputs": [
    {
     "ename": "ValueError",
     "evalue": "unable to read local cache '/Users/paulsokolov/gensim-data/information.json' during fallback, connect to the Internet and retry",
     "output_type": "error",
     "traceback": [
      "\u001B[0;31m---------------------------------------------------------------------------\u001B[0m",
      "\u001B[0;31mFileNotFoundError\u001B[0m                         Traceback (most recent call last)",
      "File \u001B[0;32m~/Downloads/nlp_course/nlp/lib/python3.10/site-packages/gensim/downloader.py:219\u001B[0m, in \u001B[0;36m_load_info\u001B[0;34m(url, encoding)\u001B[0m\n\u001B[1;32m    215\u001B[0m \u001B[38;5;28;01mtry\u001B[39;00m:\n\u001B[1;32m    216\u001B[0m     \u001B[38;5;66;03m#\u001B[39;00m\n\u001B[1;32m    217\u001B[0m     \u001B[38;5;66;03m# We need io.open here because Py2 open doesn't support encoding keyword\u001B[39;00m\n\u001B[1;32m    218\u001B[0m     \u001B[38;5;66;03m#\u001B[39;00m\n\u001B[0;32m--> 219\u001B[0m     \u001B[38;5;28;01mwith\u001B[39;00m \u001B[43mio\u001B[49m\u001B[38;5;241;43m.\u001B[39;49m\u001B[43mopen\u001B[49m\u001B[43m(\u001B[49m\u001B[43mcache_path\u001B[49m\u001B[43m,\u001B[49m\u001B[43m \u001B[49m\u001B[38;5;124;43m'\u001B[39;49m\u001B[38;5;124;43mr\u001B[39;49m\u001B[38;5;124;43m'\u001B[39;49m\u001B[43m,\u001B[49m\u001B[43m \u001B[49m\u001B[43mencoding\u001B[49m\u001B[38;5;241;43m=\u001B[39;49m\u001B[43mencoding\u001B[49m\u001B[43m)\u001B[49m \u001B[38;5;28;01mas\u001B[39;00m fin:\n\u001B[1;32m    220\u001B[0m         \u001B[38;5;28;01mreturn\u001B[39;00m json\u001B[38;5;241m.\u001B[39mload(fin)\n",
      "\u001B[0;31mFileNotFoundError\u001B[0m: [Errno 2] No such file or directory: '/Users/paulsokolov/gensim-data/information.json'",
      "\nDuring handling of the above exception, another exception occurred:\n",
      "\u001B[0;31mValueError\u001B[0m                                Traceback (most recent call last)",
      "Cell \u001B[0;32mIn [17], line 2\u001B[0m\n\u001B[1;32m      1\u001B[0m \u001B[38;5;28;01mimport\u001B[39;00m \u001B[38;5;21;01mgensim\u001B[39;00m\u001B[38;5;21;01m.\u001B[39;00m\u001B[38;5;21;01mdownloader\u001B[39;00m \u001B[38;5;28;01mas\u001B[39;00m \u001B[38;5;21;01mapi\u001B[39;00m\n\u001B[0;32m----> 2\u001B[0m model \u001B[38;5;241m=\u001B[39m \u001B[43mapi\u001B[49m\u001B[38;5;241;43m.\u001B[39;49m\u001B[43mload\u001B[49m\u001B[43m(\u001B[49m\u001B[38;5;124;43m'\u001B[39;49m\u001B[38;5;124;43mglove-twitter-100\u001B[39;49m\u001B[38;5;124;43m'\u001B[39;49m\u001B[43m)\u001B[49m\n",
      "File \u001B[0;32m~/Downloads/nlp_course/nlp/lib/python3.10/site-packages/gensim/downloader.py:490\u001B[0m, in \u001B[0;36mload\u001B[0;34m(name, return_path)\u001B[0m\n\u001B[1;32m    436\u001B[0m \u001B[38;5;124;03m\"\"\"Download (if needed) dataset/model and load it to memory (unless `return_path` is set).\u001B[39;00m\n\u001B[1;32m    437\u001B[0m \n\u001B[1;32m    438\u001B[0m \u001B[38;5;124;03mParameters\u001B[39;00m\n\u001B[0;32m   (...)\u001B[0m\n\u001B[1;32m    487\u001B[0m \n\u001B[1;32m    488\u001B[0m \u001B[38;5;124;03m\"\"\"\u001B[39;00m\n\u001B[1;32m    489\u001B[0m _create_base_dir()\n\u001B[0;32m--> 490\u001B[0m file_name \u001B[38;5;241m=\u001B[39m \u001B[43m_get_filename\u001B[49m\u001B[43m(\u001B[49m\u001B[43mname\u001B[49m\u001B[43m)\u001B[49m\n\u001B[1;32m    491\u001B[0m \u001B[38;5;28;01mif\u001B[39;00m file_name \u001B[38;5;129;01mis\u001B[39;00m \u001B[38;5;28;01mNone\u001B[39;00m:\n\u001B[1;32m    492\u001B[0m     \u001B[38;5;28;01mraise\u001B[39;00m \u001B[38;5;167;01mValueError\u001B[39;00m(\u001B[38;5;124m\"\u001B[39m\u001B[38;5;124mIncorrect model/corpus name\u001B[39m\u001B[38;5;124m\"\u001B[39m)\n",
      "File \u001B[0;32m~/Downloads/nlp_course/nlp/lib/python3.10/site-packages/gensim/downloader.py:426\u001B[0m, in \u001B[0;36m_get_filename\u001B[0;34m(name)\u001B[0m\n\u001B[1;32m    412\u001B[0m \u001B[38;5;28;01mdef\u001B[39;00m \u001B[38;5;21m_get_filename\u001B[39m(name):\n\u001B[1;32m    413\u001B[0m     \u001B[38;5;124;03m\"\"\"Retrieve the filename of the dataset/model.\u001B[39;00m\n\u001B[1;32m    414\u001B[0m \n\u001B[1;32m    415\u001B[0m \u001B[38;5;124;03m    Parameters\u001B[39;00m\n\u001B[0;32m   (...)\u001B[0m\n\u001B[1;32m    424\u001B[0m \n\u001B[1;32m    425\u001B[0m \u001B[38;5;124;03m    \"\"\"\u001B[39;00m\n\u001B[0;32m--> 426\u001B[0m     information \u001B[38;5;241m=\u001B[39m \u001B[43minfo\u001B[49m\u001B[43m(\u001B[49m\u001B[43m)\u001B[49m\n\u001B[1;32m    427\u001B[0m     corpora \u001B[38;5;241m=\u001B[39m information[\u001B[38;5;124m'\u001B[39m\u001B[38;5;124mcorpora\u001B[39m\u001B[38;5;124m'\u001B[39m]\n\u001B[1;32m    428\u001B[0m     models \u001B[38;5;241m=\u001B[39m information[\u001B[38;5;124m'\u001B[39m\u001B[38;5;124mmodels\u001B[39m\u001B[38;5;124m'\u001B[39m]\n",
      "File \u001B[0;32m~/Downloads/nlp_course/nlp/lib/python3.10/site-packages/gensim/downloader.py:268\u001B[0m, in \u001B[0;36minfo\u001B[0;34m(name, show_only_latest, name_only)\u001B[0m\n\u001B[1;32m    228\u001B[0m \u001B[38;5;28;01mdef\u001B[39;00m \u001B[38;5;21minfo\u001B[39m(name\u001B[38;5;241m=\u001B[39m\u001B[38;5;28;01mNone\u001B[39;00m, show_only_latest\u001B[38;5;241m=\u001B[39m\u001B[38;5;28;01mTrue\u001B[39;00m, name_only\u001B[38;5;241m=\u001B[39m\u001B[38;5;28;01mFalse\u001B[39;00m):\n\u001B[1;32m    229\u001B[0m     \u001B[38;5;124;03m\"\"\"Provide the information related to model/dataset.\u001B[39;00m\n\u001B[1;32m    230\u001B[0m \n\u001B[1;32m    231\u001B[0m \u001B[38;5;124;03m    Parameters\u001B[39;00m\n\u001B[0;32m   (...)\u001B[0m\n\u001B[1;32m    266\u001B[0m \n\u001B[1;32m    267\u001B[0m \u001B[38;5;124;03m    \"\"\"\u001B[39;00m\n\u001B[0;32m--> 268\u001B[0m     information \u001B[38;5;241m=\u001B[39m \u001B[43m_load_info\u001B[49m\u001B[43m(\u001B[49m\u001B[43m)\u001B[49m\n\u001B[1;32m    270\u001B[0m     \u001B[38;5;28;01mif\u001B[39;00m name \u001B[38;5;129;01mis\u001B[39;00m \u001B[38;5;129;01mnot\u001B[39;00m \u001B[38;5;28;01mNone\u001B[39;00m:\n\u001B[1;32m    271\u001B[0m         corpora \u001B[38;5;241m=\u001B[39m information[\u001B[38;5;124m'\u001B[39m\u001B[38;5;124mcorpora\u001B[39m\u001B[38;5;124m'\u001B[39m]\n",
      "File \u001B[0;32m~/Downloads/nlp_course/nlp/lib/python3.10/site-packages/gensim/downloader.py:222\u001B[0m, in \u001B[0;36m_load_info\u001B[0;34m(url, encoding)\u001B[0m\n\u001B[1;32m    220\u001B[0m         \u001B[38;5;28;01mreturn\u001B[39;00m json\u001B[38;5;241m.\u001B[39mload(fin)\n\u001B[1;32m    221\u001B[0m \u001B[38;5;28;01mexcept\u001B[39;00m \u001B[38;5;167;01mIOError\u001B[39;00m:\n\u001B[0;32m--> 222\u001B[0m     \u001B[38;5;28;01mraise\u001B[39;00m \u001B[38;5;167;01mValueError\u001B[39;00m(\n\u001B[1;32m    223\u001B[0m         \u001B[38;5;124m'\u001B[39m\u001B[38;5;124munable to read local cache \u001B[39m\u001B[38;5;132;01m%r\u001B[39;00m\u001B[38;5;124m during fallback, \u001B[39m\u001B[38;5;124m'\u001B[39m\n\u001B[1;32m    224\u001B[0m         \u001B[38;5;124m'\u001B[39m\u001B[38;5;124mconnect to the Internet and retry\u001B[39m\u001B[38;5;124m'\u001B[39m \u001B[38;5;241m%\u001B[39m cache_path\n\u001B[1;32m    225\u001B[0m     )\n",
      "\u001B[0;31mValueError\u001B[0m: unable to read local cache '/Users/paulsokolov/gensim-data/information.json' during fallback, connect to the Internet and retry"
     ]
    }
   ],
   "source": [
    "import gensim.downloader as api\n",
    "model = api.load('glove-twitter-100')"
   ]
  },
  {
   "cell_type": "code",
   "execution_count": 18,
   "metadata": {},
   "outputs": [
    {
     "data": {
      "text/plain": "[('photographer', 0.5484299659729004),\n ('writer', 0.523286759853363),\n ('rich', 0.5182702541351318),\n ('billionaire', 0.5173025131225586),\n ('youtuber', 0.5140107870101929),\n ('freelancer', 0.5098686218261719),\n ('millionaire', 0.5049063563346863),\n ('entrepreneurs', 0.49806588888168335),\n ('investment', 0.493388295173645),\n ('tutor', 0.4920383393764496)]"
     },
     "execution_count": 18,
     "metadata": {},
     "output_type": "execute_result"
    }
   ],
   "source": [
    "model.most_similar(positive=[\"coder\", \"money\"], negative=[\"brain\"])"
   ]
  },
  {
   "cell_type": "markdown",
   "metadata": {},
   "source": [
    "### Visualizing word vectors\n",
    "\n",
    "One way to see if our vectors are any good is to plot them. Thing is, those vectors are in 30D+ space and we humans are more used to 2-3D.\n",
    "\n",
    "Luckily, we machine learners know about __dimensionality reduction__ methods.\n",
    "\n",
    "Let's use that to plot 1000 most frequent words"
   ]
  },
  {
   "cell_type": "code",
   "execution_count": 19,
   "metadata": {},
   "outputs": [
    {
     "name": "stdout",
     "output_type": "stream",
     "text": [
      "['?', 'job', '&', 'class', 'degree', '^', 'effects', 'three', 'reasons', 'recover']\n"
     ]
    }
   ],
   "source": [
    "words = model.index_to_key[:1000] \n",
    "\n",
    "print(words[::100])"
   ]
  },
  {
   "cell_type": "code",
   "execution_count": 26,
   "metadata": {},
   "outputs": [],
   "source": [
    "# for each word, compute it's vector with model\n",
    "word_vectors = np.array([model.get_vector(i) for i in words])"
   ]
  },
  {
   "cell_type": "code",
   "execution_count": 27,
   "metadata": {
    "collapsed": true
   },
   "outputs": [],
   "source": [
    "assert isinstance(word_vectors, np.ndarray)\n",
    "assert word_vectors.shape == (len(words), 100)\n",
    "assert np.isfinite(word_vectors).all()"
   ]
  },
  {
   "cell_type": "markdown",
   "metadata": {},
   "source": [
    "#### Linear projection: PCA\n",
    "\n",
    "The simplest linear dimensionality reduction method is __P__rincipial __C__omponent __A__nalysis.\n",
    "\n",
    "In geometric terms, PCA tries to find axes along which most of the variance occurs. The \"natural\" axes, if you wish.\n",
    "\n",
    "<img src=\"https://github.com/yandexdataschool/Practical_RL/raw/master/yet_another_week/_resource/pca_fish.png\" style=\"width:30%\">\n",
    "\n",
    "\n",
    "Under the hood, it attempts to decompose object-feature matrix $X$ into two smaller matrices: $W$ and $\\hat W$ minimizing _mean squared error_:\n",
    "\n",
    "$$\\|(X W) \\hat{W} - X\\|^2_2 \\to_{W, \\hat{W}} \\min$$\n",
    "- $X \\in \\mathbb{R}^{n \\times m}$ - object matrix (**centered**);\n",
    "- $W \\in \\mathbb{R}^{m \\times d}$ - matrix of direct transformation;\n",
    "- $\\hat{W} \\in \\mathbb{R}^{d \\times m}$ - matrix of reverse transformation;\n",
    "- $n$ samples, $m$ original dimensions and $d$ target dimensions;\n",
    "\n"
   ]
  },
  {
   "cell_type": "code",
   "execution_count": 28,
   "metadata": {
    "collapsed": true
   },
   "outputs": [
    {
     "name": "stdout",
     "output_type": "stream",
     "text": [
      "-1.525879e-08\n"
     ]
    }
   ],
   "source": [
    "from sklearn.decomposition import PCA\n",
    "\n",
    "# map word vectors onto 2d plane with PCA. Use good old sklearn api (fit, transform)\n",
    "# after that, normalize vectors to make sure they have zero mean and unit variance\n",
    "word_vectors_pca = PCA(n_components=2).fit_transform(word_vectors)\n",
    "\n",
    "# and maybe MORE OF YOUR CODE here :)\n",
    "print(word_vectors_pca.mean())"
   ]
  },
  {
   "cell_type": "code",
   "execution_count": 31,
   "metadata": {
    "collapsed": true
   },
   "outputs": [],
   "source": [
    "assert word_vectors_pca.shape == (len(word_vectors), 2), \"there must be a 2d vector for each word\"\n",
    "assert max(abs(word_vectors_pca.mean(0))) < 1e-5, \"points must be zero-centered\"\n",
    "assert max(abs(1.0 - word_vectors_pca.std(0))) < 1e1, \"points must have unit variance\""
   ]
  },
  {
   "cell_type": "markdown",
   "metadata": {},
   "source": [
    "#### Let's draw it!"
   ]
  },
  {
   "cell_type": "code",
   "execution_count": 33,
   "metadata": {},
   "outputs": [
    {
     "data": {
      "text/html": "<style>\n        .bk-notebook-logo {\n            display: block;\n            width: 20px;\n            height: 20px;\n            background-image: url(data:image/png;base64,iVBORw0KGgoAAAANSUhEUgAAABQAAAAUCAYAAACNiR0NAAAABHNCSVQICAgIfAhkiAAAAAlwSFlzAAALEgAACxIB0t1+/AAAABx0RVh0U29mdHdhcmUAQWRvYmUgRmlyZXdvcmtzIENTNui8sowAAAOkSURBVDiNjZRtaJVlGMd/1/08zzln5zjP1LWcU9N0NkN8m2CYjpgQYQXqSs0I84OLIC0hkEKoPtiH3gmKoiJDU7QpLgoLjLIQCpEsNJ1vqUOdO7ppbuec5+V+rj4ctwzd8IIbbi6u+8f1539dt3A78eXC7QizUF7gyV1fD1Yqg4JWz84yffhm0qkFqBogB9rM8tZdtwVsPUhWhGcFJngGeWrPzHm5oaMmkfEg1usvLFyc8jLRqDOMru7AyC8saQr7GG7f5fvDeH7Ej8CM66nIF+8yngt6HWaKh7k49Soy9nXurCi1o3qUbS3zWfrYeQDTB/Qj6kX6Ybhw4B+bOYoLKCC9H3Nu/leUTZ1JdRWkkn2ldcCamzrcf47KKXdAJllSlxAOkRgyHsGC/zRday5Qld9DyoM4/q/rUoy/CXh3jzOu3bHUVZeU+DEn8FInkPBFlu3+nW3Nw0mk6vCDiWg8CeJaxEwuHS3+z5RgY+YBR6V1Z1nxSOfoaPa4LASWxxdNp+VWTk7+4vzaou8v8PN+xo+KY2xsw6une2frhw05CTYOmQvsEhjhWjn0bmXPjpE1+kplmmkP3suftwTubK9Vq22qKmrBhpY4jvd5afdRA3wGjFAgcnTK2s4hY0/GPNIb0nErGMCRxWOOX64Z8RAC4oCXdklmEvcL8o0BfkNK4lUg9HTl+oPlQxdNo3Mg4Nv175e/1LDGzZen30MEjRUtmXSfiTVu1kK8W4txyV6BMKlbgk3lMwYCiusNy9fVfvvwMxv8Ynl6vxoByANLTWplvuj/nF9m2+PDtt1eiHPBr1oIfhCChQMBw6Aw0UulqTKZdfVvfG7VcfIqLG9bcldL/+pdWTLxLUy8Qq38heUIjh4XlzZxzQm19lLFlr8vdQ97rjZVOLf8nclzckbcD4wxXMidpX30sFd37Fv/GtwwhzhxGVAprjbg0gCAEeIgwCZyTV2Z1REEW8O4py0wsjeloKoMr6iCY6dP92H6Vw/oTyICIthibxjm/DfN9lVz8IqtqKYLUXfoKVMVQVVJOElGjrnnUt9T9wbgp8AyYKaGlqingHZU/uG2NTZSVqwHQTWkx9hxjkpWDaCg6Ckj5qebgBVbT3V3NNXMSiWSDdGV3hrtzla7J+duwPOToIg42ChPQOQjspnSlp1V+Gjdged7+8UN5CRAV7a5EdFNwCjEaBR27b3W890TE7g24NAP/mMDXRWrGoFPQI9ls/MWO2dWFAar/xcOIImbbpA3zgAAAABJRU5ErkJggg==);\n        }\n    </style>\n    <div>\n        <a href=\"https://bokeh.org\" target=\"_blank\" class=\"bk-notebook-logo\"></a>\n        <span id=\"p1001\">Loading BokehJS ...</span>\n    </div>\n"
     },
     "metadata": {},
     "output_type": "display_data"
    },
    {
     "data": {
      "application/javascript": "(function(root) {\n  function now() {\n    return new Date();\n  }\n\n  const force = true;\n\n  if (typeof root._bokeh_onload_callbacks === \"undefined\" || force === true) {\n    root._bokeh_onload_callbacks = [];\n    root._bokeh_is_loading = undefined;\n  }\n\nconst JS_MIME_TYPE = 'application/javascript';\n  const HTML_MIME_TYPE = 'text/html';\n  const EXEC_MIME_TYPE = 'application/vnd.bokehjs_exec.v0+json';\n  const CLASS_NAME = 'output_bokeh rendered_html';\n\n  /**\n   * Render data to the DOM node\n   */\n  function render(props, node) {\n    const script = document.createElement(\"script\");\n    node.appendChild(script);\n  }\n\n  /**\n   * Handle when an output is cleared or removed\n   */\n  function handleClearOutput(event, handle) {\n    const cell = handle.cell;\n\n    const id = cell.output_area._bokeh_element_id;\n    const server_id = cell.output_area._bokeh_server_id;\n    // Clean up Bokeh references\n    if (id != null && id in Bokeh.index) {\n      Bokeh.index[id].model.document.clear();\n      delete Bokeh.index[id];\n    }\n\n    if (server_id !== undefined) {\n      // Clean up Bokeh references\n      const cmd_clean = \"from bokeh.io.state import curstate; print(curstate().uuid_to_server['\" + server_id + \"'].get_sessions()[0].document.roots[0]._id)\";\n      cell.notebook.kernel.execute(cmd_clean, {\n        iopub: {\n          output: function(msg) {\n            const id = msg.content.text.trim();\n            if (id in Bokeh.index) {\n              Bokeh.index[id].model.document.clear();\n              delete Bokeh.index[id];\n            }\n          }\n        }\n      });\n      // Destroy server and session\n      const cmd_destroy = \"import bokeh.io.notebook as ion; ion.destroy_server('\" + server_id + \"')\";\n      cell.notebook.kernel.execute(cmd_destroy);\n    }\n  }\n\n  /**\n   * Handle when a new output is added\n   */\n  function handleAddOutput(event, handle) {\n    const output_area = handle.output_area;\n    const output = handle.output;\n\n    // limit handleAddOutput to display_data with EXEC_MIME_TYPE content only\n    if ((output.output_type != \"display_data\") || (!Object.prototype.hasOwnProperty.call(output.data, EXEC_MIME_TYPE))) {\n      return\n    }\n\n    const toinsert = output_area.element.find(\".\" + CLASS_NAME.split(' ')[0]);\n\n    if (output.metadata[EXEC_MIME_TYPE][\"id\"] !== undefined) {\n      toinsert[toinsert.length - 1].firstChild.textContent = output.data[JS_MIME_TYPE];\n      // store reference to embed id on output_area\n      output_area._bokeh_element_id = output.metadata[EXEC_MIME_TYPE][\"id\"];\n    }\n    if (output.metadata[EXEC_MIME_TYPE][\"server_id\"] !== undefined) {\n      const bk_div = document.createElement(\"div\");\n      bk_div.innerHTML = output.data[HTML_MIME_TYPE];\n      const script_attrs = bk_div.children[0].attributes;\n      for (let i = 0; i < script_attrs.length; i++) {\n        toinsert[toinsert.length - 1].firstChild.setAttribute(script_attrs[i].name, script_attrs[i].value);\n        toinsert[toinsert.length - 1].firstChild.textContent = bk_div.children[0].textContent\n      }\n      // store reference to server id on output_area\n      output_area._bokeh_server_id = output.metadata[EXEC_MIME_TYPE][\"server_id\"];\n    }\n  }\n\n  function register_renderer(events, OutputArea) {\n\n    function append_mime(data, metadata, element) {\n      // create a DOM node to render to\n      const toinsert = this.create_output_subarea(\n        metadata,\n        CLASS_NAME,\n        EXEC_MIME_TYPE\n      );\n      this.keyboard_manager.register_events(toinsert);\n      // Render to node\n      const props = {data: data, metadata: metadata[EXEC_MIME_TYPE]};\n      render(props, toinsert[toinsert.length - 1]);\n      element.append(toinsert);\n      return toinsert\n    }\n\n    /* Handle when an output is cleared or removed */\n    events.on('clear_output.CodeCell', handleClearOutput);\n    events.on('delete.Cell', handleClearOutput);\n\n    /* Handle when a new output is added */\n    events.on('output_added.OutputArea', handleAddOutput);\n\n    /**\n     * Register the mime type and append_mime function with output_area\n     */\n    OutputArea.prototype.register_mime_type(EXEC_MIME_TYPE, append_mime, {\n      /* Is output safe? */\n      safe: true,\n      /* Index of renderer in `output_area.display_order` */\n      index: 0\n    });\n  }\n\n  // register the mime type if in Jupyter Notebook environment and previously unregistered\n  if (root.Jupyter !== undefined) {\n    const events = require('base/js/events');\n    const OutputArea = require('notebook/js/outputarea').OutputArea;\n\n    if (OutputArea.prototype.mime_types().indexOf(EXEC_MIME_TYPE) == -1) {\n      register_renderer(events, OutputArea);\n    }\n  }\n  if (typeof (root._bokeh_timeout) === \"undefined\" || force === true) {\n    root._bokeh_timeout = Date.now() + 5000;\n    root._bokeh_failed_load = false;\n  }\n\n  const NB_LOAD_WARNING = {'data': {'text/html':\n     \"<div style='background-color: #fdd'>\\n\"+\n     \"<p>\\n\"+\n     \"BokehJS does not appear to have successfully loaded. If loading BokehJS from CDN, this \\n\"+\n     \"may be due to a slow or bad network connection. Possible fixes:\\n\"+\n     \"</p>\\n\"+\n     \"<ul>\\n\"+\n     \"<li>re-rerun `output_notebook()` to attempt to load from CDN again, or</li>\\n\"+\n     \"<li>use INLINE resources instead, as so:</li>\\n\"+\n     \"</ul>\\n\"+\n     \"<code>\\n\"+\n     \"from bokeh.resources import INLINE\\n\"+\n     \"output_notebook(resources=INLINE)\\n\"+\n     \"</code>\\n\"+\n     \"</div>\"}};\n\n  function display_loaded() {\n    const el = document.getElementById(\"p1001\");\n    if (el != null) {\n      el.textContent = \"BokehJS is loading...\";\n    }\n    if (root.Bokeh !== undefined) {\n      if (el != null) {\n        el.textContent = \"BokehJS \" + root.Bokeh.version + \" successfully loaded.\";\n      }\n    } else if (Date.now() < root._bokeh_timeout) {\n      setTimeout(display_loaded, 100)\n    }\n  }\n\n  function run_callbacks() {\n    try {\n      root._bokeh_onload_callbacks.forEach(function(callback) {\n        if (callback != null)\n          callback();\n      });\n    } finally {\n      delete root._bokeh_onload_callbacks\n    }\n    console.debug(\"Bokeh: all callbacks have finished\");\n  }\n\n  function load_libs(css_urls, js_urls, callback) {\n    if (css_urls == null) css_urls = [];\n    if (js_urls == null) js_urls = [];\n\n    root._bokeh_onload_callbacks.push(callback);\n    if (root._bokeh_is_loading > 0) {\n      console.debug(\"Bokeh: BokehJS is being loaded, scheduling callback at\", now());\n      return null;\n    }\n    if (js_urls == null || js_urls.length === 0) {\n      run_callbacks();\n      return null;\n    }\n    console.debug(\"Bokeh: BokehJS not loaded, scheduling load and callback at\", now());\n    root._bokeh_is_loading = css_urls.length + js_urls.length;\n\n    function on_load() {\n      root._bokeh_is_loading--;\n      if (root._bokeh_is_loading === 0) {\n        console.debug(\"Bokeh: all BokehJS libraries/stylesheets loaded\");\n        run_callbacks()\n      }\n    }\n\n    function on_error(url) {\n      console.error(\"failed to load \" + url);\n    }\n\n    for (let i = 0; i < css_urls.length; i++) {\n      const url = css_urls[i];\n      const element = document.createElement(\"link\");\n      element.onload = on_load;\n      element.onerror = on_error.bind(null, url);\n      element.rel = \"stylesheet\";\n      element.type = \"text/css\";\n      element.href = url;\n      console.debug(\"Bokeh: injecting link tag for BokehJS stylesheet: \", url);\n      document.body.appendChild(element);\n    }\n\n    for (let i = 0; i < js_urls.length; i++) {\n      const url = js_urls[i];\n      const element = document.createElement('script');\n      element.onload = on_load;\n      element.onerror = on_error.bind(null, url);\n      element.async = false;\n      element.src = url;\n      console.debug(\"Bokeh: injecting script tag for BokehJS library: \", url);\n      document.head.appendChild(element);\n    }\n  };\n\n  function inject_raw_css(css) {\n    const element = document.createElement(\"style\");\n    element.appendChild(document.createTextNode(css));\n    document.body.appendChild(element);\n  }\n\n  const js_urls = [\"https://cdn.bokeh.org/bokeh/release/bokeh-3.0.2.min.js\", \"https://cdn.bokeh.org/bokeh/release/bokeh-gl-3.0.2.min.js\", \"https://cdn.bokeh.org/bokeh/release/bokeh-widgets-3.0.2.min.js\", \"https://cdn.bokeh.org/bokeh/release/bokeh-tables-3.0.2.min.js\", \"https://cdn.bokeh.org/bokeh/release/bokeh-mathjax-3.0.2.min.js\"];\n  const css_urls = [];\n\n  const inline_js = [    function(Bokeh) {\n      Bokeh.set_log_level(\"info\");\n    },\nfunction(Bokeh) {\n    }\n  ];\n\n  function run_inline_js() {\n    if (root.Bokeh !== undefined || force === true) {\n          for (let i = 0; i < inline_js.length; i++) {\n      inline_js[i].call(root, root.Bokeh);\n    }\nif (force === true) {\n        display_loaded();\n      }} else if (Date.now() < root._bokeh_timeout) {\n      setTimeout(run_inline_js, 100);\n    } else if (!root._bokeh_failed_load) {\n      console.log(\"Bokeh: BokehJS failed to load within specified timeout.\");\n      root._bokeh_failed_load = true;\n    } else if (force !== true) {\n      const cell = $(document.getElementById(\"p1001\")).parents('.cell').data().cell;\n      cell.output_area.append_execute_result(NB_LOAD_WARNING)\n    }\n  }\n\n  if (root._bokeh_is_loading === 0) {\n    console.debug(\"Bokeh: BokehJS loaded, going straight to plotting\");\n    run_inline_js();\n  } else {\n    load_libs(css_urls, js_urls, function() {\n      console.debug(\"Bokeh: BokehJS plotting callback run at\", now());\n      run_inline_js();\n    });\n  }\n}(window));",
      "application/vnd.bokehjs_load.v0+json": "(function(root) {\n  function now() {\n    return new Date();\n  }\n\n  const force = true;\n\n  if (typeof root._bokeh_onload_callbacks === \"undefined\" || force === true) {\n    root._bokeh_onload_callbacks = [];\n    root._bokeh_is_loading = undefined;\n  }\n\n\n  if (typeof (root._bokeh_timeout) === \"undefined\" || force === true) {\n    root._bokeh_timeout = Date.now() + 5000;\n    root._bokeh_failed_load = false;\n  }\n\n  const NB_LOAD_WARNING = {'data': {'text/html':\n     \"<div style='background-color: #fdd'>\\n\"+\n     \"<p>\\n\"+\n     \"BokehJS does not appear to have successfully loaded. If loading BokehJS from CDN, this \\n\"+\n     \"may be due to a slow or bad network connection. Possible fixes:\\n\"+\n     \"</p>\\n\"+\n     \"<ul>\\n\"+\n     \"<li>re-rerun `output_notebook()` to attempt to load from CDN again, or</li>\\n\"+\n     \"<li>use INLINE resources instead, as so:</li>\\n\"+\n     \"</ul>\\n\"+\n     \"<code>\\n\"+\n     \"from bokeh.resources import INLINE\\n\"+\n     \"output_notebook(resources=INLINE)\\n\"+\n     \"</code>\\n\"+\n     \"</div>\"}};\n\n  function display_loaded() {\n    const el = document.getElementById(\"p1001\");\n    if (el != null) {\n      el.textContent = \"BokehJS is loading...\";\n    }\n    if (root.Bokeh !== undefined) {\n      if (el != null) {\n        el.textContent = \"BokehJS \" + root.Bokeh.version + \" successfully loaded.\";\n      }\n    } else if (Date.now() < root._bokeh_timeout) {\n      setTimeout(display_loaded, 100)\n    }\n  }\n\n  function run_callbacks() {\n    try {\n      root._bokeh_onload_callbacks.forEach(function(callback) {\n        if (callback != null)\n          callback();\n      });\n    } finally {\n      delete root._bokeh_onload_callbacks\n    }\n    console.debug(\"Bokeh: all callbacks have finished\");\n  }\n\n  function load_libs(css_urls, js_urls, callback) {\n    if (css_urls == null) css_urls = [];\n    if (js_urls == null) js_urls = [];\n\n    root._bokeh_onload_callbacks.push(callback);\n    if (root._bokeh_is_loading > 0) {\n      console.debug(\"Bokeh: BokehJS is being loaded, scheduling callback at\", now());\n      return null;\n    }\n    if (js_urls == null || js_urls.length === 0) {\n      run_callbacks();\n      return null;\n    }\n    console.debug(\"Bokeh: BokehJS not loaded, scheduling load and callback at\", now());\n    root._bokeh_is_loading = css_urls.length + js_urls.length;\n\n    function on_load() {\n      root._bokeh_is_loading--;\n      if (root._bokeh_is_loading === 0) {\n        console.debug(\"Bokeh: all BokehJS libraries/stylesheets loaded\");\n        run_callbacks()\n      }\n    }\n\n    function on_error(url) {\n      console.error(\"failed to load \" + url);\n    }\n\n    for (let i = 0; i < css_urls.length; i++) {\n      const url = css_urls[i];\n      const element = document.createElement(\"link\");\n      element.onload = on_load;\n      element.onerror = on_error.bind(null, url);\n      element.rel = \"stylesheet\";\n      element.type = \"text/css\";\n      element.href = url;\n      console.debug(\"Bokeh: injecting link tag for BokehJS stylesheet: \", url);\n      document.body.appendChild(element);\n    }\n\n    for (let i = 0; i < js_urls.length; i++) {\n      const url = js_urls[i];\n      const element = document.createElement('script');\n      element.onload = on_load;\n      element.onerror = on_error.bind(null, url);\n      element.async = false;\n      element.src = url;\n      console.debug(\"Bokeh: injecting script tag for BokehJS library: \", url);\n      document.head.appendChild(element);\n    }\n  };\n\n  function inject_raw_css(css) {\n    const element = document.createElement(\"style\");\n    element.appendChild(document.createTextNode(css));\n    document.body.appendChild(element);\n  }\n\n  const js_urls = [\"https://cdn.bokeh.org/bokeh/release/bokeh-3.0.2.min.js\", \"https://cdn.bokeh.org/bokeh/release/bokeh-gl-3.0.2.min.js\", \"https://cdn.bokeh.org/bokeh/release/bokeh-widgets-3.0.2.min.js\", \"https://cdn.bokeh.org/bokeh/release/bokeh-tables-3.0.2.min.js\", \"https://cdn.bokeh.org/bokeh/release/bokeh-mathjax-3.0.2.min.js\"];\n  const css_urls = [];\n\n  const inline_js = [    function(Bokeh) {\n      Bokeh.set_log_level(\"info\");\n    },\nfunction(Bokeh) {\n    }\n  ];\n\n  function run_inline_js() {\n    if (root.Bokeh !== undefined || force === true) {\n          for (let i = 0; i < inline_js.length; i++) {\n      inline_js[i].call(root, root.Bokeh);\n    }\nif (force === true) {\n        display_loaded();\n      }} else if (Date.now() < root._bokeh_timeout) {\n      setTimeout(run_inline_js, 100);\n    } else if (!root._bokeh_failed_load) {\n      console.log(\"Bokeh: BokehJS failed to load within specified timeout.\");\n      root._bokeh_failed_load = true;\n    } else if (force !== true) {\n      const cell = $(document.getElementById(\"p1001\")).parents('.cell').data().cell;\n      cell.output_area.append_execute_result(NB_LOAD_WARNING)\n    }\n  }\n\n  if (root._bokeh_is_loading === 0) {\n    console.debug(\"Bokeh: BokehJS loaded, going straight to plotting\");\n    run_inline_js();\n  } else {\n    load_libs(css_urls, js_urls, function() {\n      console.debug(\"Bokeh: BokehJS plotting callback run at\", now());\n      run_inline_js();\n    });\n  }\n}(window));"
     },
     "metadata": {},
     "output_type": "display_data"
    }
   ],
   "source": [
    "import bokeh.models as bm, bokeh.plotting as pl\n",
    "from bokeh.io import output_notebook\n",
    "output_notebook()\n",
    "\n",
    "def draw_vectors(x, y, radius=10, alpha=0.25, color='blue',\n",
    "                 width=600, height=400, show=True, **kwargs):\n",
    "    \"\"\" draws an interactive plot for data points with auxilirary info on hover \"\"\"\n",
    "    if isinstance(color, str): color = [color] * len(x)\n",
    "    data_source = bm.ColumnDataSource({ 'x' : x, 'y' : y, 'color': color, **kwargs })\n",
    "\n",
    "    fig = pl.figure(active_scroll='wheel_zoom', width=width, height=height)\n",
    "    fig.scatter('x', 'y', size=radius, color='color', alpha=alpha, source=data_source)\n",
    "\n",
    "    fig.add_tools(bm.HoverTool(tooltips=[(key, \"@\" + key) for key in kwargs.keys()]))\n",
    "    if show: pl.show(fig)\n",
    "    return fig"
   ]
  },
  {
   "cell_type": "code",
   "execution_count": 34,
   "metadata": {},
   "outputs": [
    {
     "data": {
      "text/html": "\n  <div id=\"2ed2360a-3c87-4d85-a0fd-984631224f14\" data-root-id=\"p1005\" style=\"display: contents;\"></div>\n"
     },
     "metadata": {},
     "output_type": "display_data"
    },
    {
     "data": {
      "application/javascript": "(function(root) {\n  function embed_document(root) {\n  const docs_json = {\"3b5e3a0d-68ee-4f57-a994-6134ae2e918c\":{\"version\":\"3.0.2\",\"title\":\"Bokeh Application\",\"defs\":[],\"roots\":[{\"type\":\"object\",\"name\":\"Figure\",\"id\":\"p1005\",\"attributes\":{\"height\":400,\"x_range\":{\"type\":\"object\",\"name\":\"DataRange1d\",\"id\":\"p1007\"},\"y_range\":{\"type\":\"object\",\"name\":\"DataRange1d\",\"id\":\"p1006\"},\"x_scale\":{\"type\":\"object\",\"name\":\"LinearScale\",\"id\":\"p1018\"},\"y_scale\":{\"type\":\"object\",\"name\":\"LinearScale\",\"id\":\"p1020\"},\"title\":{\"type\":\"object\",\"name\":\"Title\",\"id\":\"p1009\"},\"renderers\":[{\"type\":\"object\",\"name\":\"GlyphRenderer\",\"id\":\"p1057\",\"attributes\":{\"data_source\":{\"type\":\"object\",\"name\":\"ColumnDataSource\",\"id\":\"p1002\",\"attributes\":{\"selected\":{\"type\":\"object\",\"name\":\"Selection\",\"id\":\"p1004\",\"attributes\":{\"indices\":[],\"line_indices\":[]}},\"selection_policy\":{\"type\":\"object\",\"name\":\"UnionRenderers\",\"id\":\"p1003\"},\"data\":{\"type\":\"map\",\"entries\":[[\"x\",{\"type\":\"ndarray\",\"array\":{\"type\":\"bytes\",\"data\":\"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\"},\"shape\":[1000],\"dtype\":\"float32\",\"order\":\"little\"}],[\"y\",{\"type\":\"ndarray\",\"array\":{\"type\":\"bytes\",\"data\":\"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\"},\"shape\":[1000],\"dtype\":\"float32\",\"order\":\"little\"}],[\"color\",[\"blue\",\"blue\",\"blue\",\"blue\",\"blue\",\"blue\",\"blue\",\"blue\",\"blue\",\"blue\",\"blue\",\"blue\",\"blue\",\"blue\",\"blue\",\"blue\",\"blue\",\"blue\",\"blue\",\"blue\",\"blue\",\"blue\",\"blue\",\"blue\",\"blue\",\"blue\",\"blue\",\"blue\",\"blue\",\"blue\",\"blue\",\"blue\",\"blue\",\"blue\",\"blue\",\"blue\",\"blue\",\"blue\",\"blue\",\"blue\",\"blue\",\"blue\",\"blue\",\"blue\",\"blue\",\"blue\",\"blue\",\"blue\",\"blue\",\"blue\",\"blue\",\"blue\",\"blue\",\"blue\",\"blue\",\"blue\",\"blue\",\"blue\",\"blue\",\"blue\",\"blue\",\"blue\",\"blue\",\"blue\",\"blue\",\"blue\",\"blue\",\"blue\",\"blue\",\"blue\",\"blue\",\"blue\",\"blue\",\"blue\",\"blue\",\"blue\",\"blue\",\"blue\",\"blue\",\"blue\",\"blue\",\"blue\",\"blue\",\"blue\",\"blue\",\"blue\",\"blue\",\"blue\",\"blue\",\"blue\",\"blue\",\"blue\",\"blue\",\"blue\",\"blue\",\"blue\",\"blue\",\"blue\",\"blue\",\"blue\",\"blue\",\"blue\",\"blue\",\"blue\",\"blue\",\"blue\",\"blue\",\"blue\",\"blue\",\"blue\",\"blue\",\"blue\",\"blue\",\"blue\",\"blue\",\"blue\",\"blue\",\"blue\",\"blue\",\"blue\",\"blue\",\"blue\",\"blue\",\"blue\",\"blue\",\"blue\",\"blue\",\"blue\",\"blue\",\"blue\",\"blue\",\"blue\",\"blue\",\"blue\",\"blue\",\"blue\",\"blue\",\"blue\",\"blue\",\"blue\",\"blue\",\"blue\",\"blue\",\"blue\",\"blue\",\"blue\",\"blue\",\"blue\",\"blue\",\"blue\",\"blue\",\"blue\",\"blue\",\"blue\",\"blue\",\"blue\",\"blue\",\"blue\",\"blue\",\"blue\",\"blue\",\"blue\",\"blue\",\"blue\",\"blue\",\"blue\",\"blue\",\"blue\",\"blue\",\"blue\",\"blue\",\"blue\",\"blue\",\"blue\",\"blue\",\"blue\",\"blue\",\"blue\",\"blue\",\"blue\",\"blue\",\"blue\",\"blue\",\"blue\",\"blue\",\"blue\",\"blue\",\"blue\",\"blue\",\"blue\",\"blue\",\"blue\",\"blue\",\"blue\",\"blue\",\"blue\",\"blue\",\"blue\",\"blue\",\"blue\",\"blue\",\"blue\",\"blue\",\"blue\",\"blue\",\"blue\",\"blue\",\"blue\",\"blue\",\"blue\",\"blue\",\"blue\",\"blue\",\"blue\",\"blue\",\"blue\",\"blue\",\"blue\",\"blue\",\"blue\",\"blue\",\"blue\",\"blue\",\"blue\",\"blue\",\"blue\",\"blue\",\"blue\",\"blue\",\"blue\",\"blue\",\"blue\",\"blue\",\"blue\",\"blue\",\"blue\",\"blue\",\"blue\",\"blue\",\"blue\",\"blue\",\"blue\",\"blue\",\"blue\",\"blue\",\"blue\",\"blue\",\"blue\",\"blue\",\"blue\",\"blue\",\"blue\",\"blue\",\"blue\",\"blue\",\"blue\",\"blue\",\"blue\",\"blue\",\"blue\",\"blue\",\"blue\",\"blue\",\"blue\",\"blue\",\"blue\",\"blue\",\"blue\",\"blue\",\"blue\",\"blue\",\"blue\",\"blue\",\"blue\",\"blue\",\"blue\",\"blue\",\"blue\",\"blue\",\"blue\",\"blue\",\"blue\",\"blue\",\"blue\",\"blue\",\"blue\",\"blue\",\"blue\",\"blue\",\"blue\",\"blue\",\"blue\",\"blue\",\"blue\",\"blue\",\"blue\",\"blue\",\"blue\",\"blue\",\"blue\",\"blue\",\"blue\",\"blue\",\"blue\",\"blue\",\"blue\",\"blue\",\"blue\",\"blue\",\"blue\",\"blue\",\"blue\",\"blue\",\"blue\",\"blue\",\"blue\",\"blue\",\"blue\",\"blue\",\"blue\",\"blue\",\"blue\",\"blue\",\"blue\",\"blue\",\"blue\",\"blue\",\"blue\",\"blue\",\"blue\",\"blue\",\"blue\",\"blue\",\"blue\",\"blue\",\"blue\",\"blue\",\"blue\",\"blue\",\"blue\",\"blue\",\"blue\",\"blue\",\"blue\",\"blue\",\"blue\",\"blue\",\"blue\",\"blue\",\"blue\",\"blue\",\"blue\",\"blue\",\"blue\",\"blue\",\"blue\",\"blue\",\"blue\",\"blue\",\"blue\",\"blue\",\"blue\",\"blue\",\"blue\",\"blue\",\"blue\",\"blue\",\"blue\",\"blue\",\"blue\",\"blue\",\"blue\",\"blue\",\"blue\",\"blue\",\"blue\",\"blue\",\"blue\",\"blue\",\"blue\",\"blue\",\"blue\",\"blue\",\"blue\",\"blue\",\"blue\",\"blue\",\"blue\",\"blue\",\"blue\",\"blue\",\"blue\",\"blue\",\"blue\",\"blue\",\"blue\",\"blue\",\"blue\",\"blue\",\"blue\",\"blue\",\"blue\",\"blue\",\"blue\",\"blue\",\"blue\",\"blue\",\"blue\",\"blue\",\"blue\",\"blue\",\"blue\",\"blue\",\"blue\",\"blue\",\"blue\",\"blue\",\"blue\",\"blue\",\"blue\",\"blue\",\"blue\",\"blue\",\"blue\",\"blue\",\"blue\",\"blue\",\"blue\",\"blue\",\"blue\",\"blue\",\"blue\",\"blue\",\"blue\",\"blue\",\"blue\",\"blue\",\"blue\",\"blue\",\"blue\",\"blue\",\"blue\",\"blue\",\"blue\",\"blue\",\"blue\",\"blue\",\"blue\",\"blue\",\"blue\",\"blue\",\"blue\",\"blue\",\"blue\",\"blue\",\"blue\",\"blue\",\"blue\",\"blue\",\"blue\",\"blue\",\"blue\",\"blue\",\"blue\",\"blue\",\"blue\",\"blue\",\"blue\",\"blue\",\"blue\",\"blue\",\"blue\",\"blue\",\"blue\",\"blue\",\"blue\",\"blue\",\"blue\",\"blue\",\"blue\",\"blue\",\"blue\",\"blue\",\"blue\",\"blue\",\"blue\",\"blue\",\"blue\",\"blue\",\"blue\",\"blue\",\"blue\",\"blue\",\"blue\",\"blue\",\"blue\",\"blue\",\"blue\",\"blue\",\"blue\",\"blue\",\"blue\",\"blue\",\"blue\",\"blue\",\"blue\",\"blue\",\"blue\",\"blue\",\"blue\",\"blue\",\"blue\",\"blue\",\"blue\",\"blue\",\"blue\",\"blue\",\"blue\",\"blue\",\"blue\",\"blue\",\"blue\",\"blue\",\"blue\",\"blue\",\"blue\",\"blue\",\"blue\",\"blue\",\"blue\",\"blue\",\"blue\",\"blue\",\"blue\",\"blue\",\"blue\",\"blue\",\"blue\",\"blue\",\"blue\",\"blue\",\"blue\",\"blue\",\"blue\",\"blue\",\"blue\",\"blue\",\"blue\",\"blue\",\"blue\",\"blue\",\"blue\",\"blue\",\"blue\",\"blue\",\"blue\",\"blue\",\"blue\",\"blue\",\"blue\",\"blue\",\"blue\",\"blue\",\"blue\",\"blue\",\"blue\",\"blue\",\"blue\",\"blue\",\"blue\",\"blue\",\"blue\",\"blue\",\"blue\",\"blue\",\"blue\",\"blue\",\"blue\",\"blue\",\"blue\",\"blue\",\"blue\",\"blue\",\"blue\",\"blue\",\"blue\",\"blue\",\"blue\",\"blue\",\"blue\",\"blue\",\"blue\",\"blue\",\"blue\",\"blue\",\"blue\",\"blue\",\"blue\",\"blue\",\"blue\",\"blue\",\"blue\",\"blue\",\"blue\",\"blue\",\"blue\",\"blue\",\"blue\",\"blue\",\"blue\",\"blue\",\"blue\",\"blue\",\"blue\",\"blue\",\"blue\",\"blue\",\"blue\",\"blue\",\"blue\",\"blue\",\"blue\",\"blue\",\"blue\",\"blue\",\"blue\",\"blue\",\"blue\",\"blue\",\"blue\",\"blue\",\"blue\",\"blue\",\"blue\",\"blue\",\"blue\",\"blue\",\"blue\",\"blue\",\"blue\",\"blue\",\"blue\",\"blue\",\"blue\",\"blue\",\"blue\",\"blue\",\"blue\",\"blue\",\"blue\",\"blue\",\"blue\",\"blue\",\"blue\",\"blue\",\"blue\",\"blue\",\"blue\",\"blue\",\"blue\",\"blue\",\"blue\",\"blue\",\"blue\",\"blue\",\"blue\",\"blue\",\"blue\",\"blue\",\"blue\",\"blue\",\"blue\",\"blue\",\"blue\",\"blue\",\"blue\",\"blue\",\"blue\",\"blue\",\"blue\",\"blue\",\"blue\",\"blue\",\"blue\",\"blue\",\"blue\",\"blue\",\"blue\",\"blue\",\"blue\",\"blue\",\"blue\",\"blue\",\"blue\",\"blue\",\"blue\",\"blue\",\"blue\",\"blue\",\"blue\",\"blue\",\"blue\",\"blue\",\"blue\",\"blue\",\"blue\",\"blue\",\"blue\",\"blue\",\"blue\",\"blue\",\"blue\",\"blue\",\"blue\",\"blue\",\"blue\",\"blue\",\"blue\",\"blue\",\"blue\",\"blue\",\"blue\",\"blue\",\"blue\",\"blue\",\"blue\",\"blue\",\"blue\",\"blue\",\"blue\",\"blue\",\"blue\",\"blue\",\"blue\",\"blue\",\"blue\",\"blue\",\"blue\",\"blue\",\"blue\",\"blue\",\"blue\",\"blue\",\"blue\",\"blue\",\"blue\",\"blue\",\"blue\",\"blue\",\"blue\",\"blue\",\"blue\",\"blue\",\"blue\",\"blue\",\"blue\",\"blue\",\"blue\",\"blue\",\"blue\",\"blue\",\"blue\",\"blue\",\"blue\",\"blue\",\"blue\",\"blue\",\"blue\",\"blue\",\"blue\",\"blue\",\"blue\",\"blue\",\"blue\",\"blue\",\"blue\",\"blue\",\"blue\",\"blue\",\"blue\",\"blue\",\"blue\",\"blue\",\"blue\",\"blue\",\"blue\",\"blue\",\"blue\",\"blue\",\"blue\",\"blue\",\"blue\",\"blue\",\"blue\",\"blue\",\"blue\",\"blue\",\"blue\",\"blue\",\"blue\",\"blue\",\"blue\",\"blue\",\"blue\",\"blue\",\"blue\",\"blue\",\"blue\",\"blue\",\"blue\",\"blue\",\"blue\",\"blue\",\"blue\",\"blue\",\"blue\",\"blue\",\"blue\",\"blue\",\"blue\",\"blue\",\"blue\",\"blue\",\"blue\",\"blue\",\"blue\",\"blue\",\"blue\",\"blue\",\"blue\",\"blue\",\"blue\",\"blue\",\"blue\",\"blue\",\"blue\",\"blue\",\"blue\",\"blue\",\"blue\",\"blue\",\"blue\",\"blue\",\"blue\",\"blue\",\"blue\",\"blue\",\"blue\",\"blue\",\"blue\",\"blue\",\"blue\",\"blue\",\"blue\",\"blue\",\"blue\",\"blue\",\"blue\",\"blue\",\"blue\",\"blue\",\"blue\",\"blue\",\"blue\",\"blue\",\"blue\",\"blue\",\"blue\",\"blue\",\"blue\",\"blue\",\"blue\",\"blue\",\"blue\",\"blue\",\"blue\",\"blue\",\"blue\",\"blue\",\"blue\",\"blue\",\"blue\",\"blue\",\"blue\",\"blue\",\"blue\",\"blue\",\"blue\",\"blue\",\"blue\",\"blue\",\"blue\",\"blue\",\"blue\",\"blue\",\"blue\",\"blue\",\"blue\",\"blue\",\"blue\",\"blue\",\"blue\",\"blue\",\"blue\",\"blue\",\"blue\",\"blue\",\"blue\",\"blue\",\"blue\",\"blue\",\"blue\",\"blue\",\"blue\",\"blue\",\"blue\",\"blue\",\"blue\",\"blue\",\"blue\",\"blue\",\"blue\",\"blue\",\"blue\",\"blue\",\"blue\",\"blue\",\"blue\",\"blue\",\"blue\",\"blue\",\"blue\",\"blue\",\"blue\",\"blue\",\"blue\",\"blue\",\"blue\",\"blue\",\"blue\",\"blue\",\"blue\",\"blue\",\"blue\",\"blue\",\"blue\",\"blue\",\"blue\",\"blue\",\"blue\",\"blue\",\"blue\",\"blue\",\"blue\",\"blue\",\"blue\",\"blue\",\"blue\",\"blue\",\"blue\",\"blue\",\"blue\",\"blue\",\"blue\",\"blue\",\"blue\",\"blue\",\"blue\",\"blue\",\"blue\",\"blue\",\"blue\",\"blue\",\"blue\",\"blue\",\"blue\",\"blue\",\"blue\",\"blue\",\"blue\",\"blue\",\"blue\",\"blue\",\"blue\",\"blue\",\"blue\",\"blue\",\"blue\",\"blue\",\"blue\",\"blue\",\"blue\",\"blue\",\"blue\",\"blue\",\"blue\",\"blue\",\"blue\",\"blue\",\"blue\"]],[\"token\",[\"?\",\"the\",\"what\",\"is\",\"a\",\"i\",\"to\",\"in\",\"how\",\"of\",\"do\",\"are\",\"and\",\"for\",\"can\",\",\",\"you\",\"'\",\"why\",\".\",\"it\",\"my\",\"best\",\"does\",\"on\",\"or\",\"s\",\"if\",\"have\",\"be\",\"with\",\"which\",\"that\",\"an\",\"some\",\"-\",\"should\",\"get\",\"from\",\"\\\"\",\"your\",\"(\",\"like\",\"when\",\"at\",\"india\",\"good\",\"who\",\"there\",\"will\",\"as\",\"t\",\"people\",\"would\",\"not\",\"/\",\"about\",\"between\",\"one\",\"any\",\"we\",\"me\",\"where\",\"most\",\"did\",\"was\",\"by\",\"make\",\"so\",\"they\",\")\",\"this\",\"am\",\"after\",\"way\",\"has\",\"use\",\":\",\"much\",\"time\",\"life\",\"difference\",\"work\",\"their\",\"know\",\"many\",\"but\",\"all\",\"than\",\"more\",\"want\",\"quora\",\"someone\",\"learn\",\"find\",\"other\",\"think\",\"new\",\"better\",\"2\",\"job\",\"indian\",\"out\",\"m\",\"money\",\"year\",\"mean\",\"become\",\"he\",\"ever\",\"world\",\"up\",\"start\",\"without\",\"us\",\"1\",\"first\",\"take\",\"don\",\"feel\",\"into\",\")?\",\"go\",\"online\",\"used\",\"engineering\",\"love\",\"day\",\"person\",\"could\",\"3\",\"possible\",\"were\",\"her\",\"buy\",\"things\",\"being\",\"his\",\"business\",\"need\",\"old\",\"them\",\"using\",\"5\",\"girl\",\"trump\",\"really\",\"\\\"?\",\"years\",\"long\",\"google\",\"different\",\"phone\",\"company\",\"no\",\"only\",\"now\",\"been\",\"just\",\"2016\",\"app\",\"free\",\"college\",\"facebook\",\"she\",\"number\",\"books\",\"movie\",\"english\",\"book\",\"women\",\"account\",\"its\",\"still\",\"while\",\"change\",\"over\",\"computer\",\"ways\",\"had\",\"10\",\"data\",\"thing\",\"see\",\"country\",\"examples\",\"c\",\"school\",\"science\",\"android\",\"help\",\"live\",\"software\",\"language\",\"before\",\"same\",\"going\",\"bad\",\"sex\",\"4\",\"&\",\"student\",\"back\",\"stop\",\"university\",\"made\",\"math\",\"happen\",\"two\",\"study\",\"real\",\"our\",\"name\",\"system\",\"through\",\"say\",\"high\",\"top\",\"water\",\"website\",\"iphone\",\"during\",\"prepare\",\"men\",\"car\",\"questions\",\"black\",\"important\",\"companies\",\"give\",\"getting\",\"read\",\"anyone\",\"learning\",\"programming\",\"card\",\"war\",\"b\",\"exam\",\"movies\",\"then\",\"right\",\"even\",\"mobile\",\"him\",\"china\",\"cost\",\"x\",\"\\u2019\",\"friend\",\"working\",\"president\",\"donald\",\"doing\",\"under\",\"non\",\"question\",\"6\",\"come\",\"own\",\"career\",\"+\",\"experience\",\"friends\",\"word\",\"bank\",\"home\",\"man\",\"true\",\"guy\",\"web\",\"doesn\",\"usa\",\"hair\",\"video\",\"look\",\"having\",\"social\",\"off\",\"tell\",\"engineer\",\"write\",\"game\",\"interview\",\"earth\",\"service\",\"very\",\"girls\",\"government\",\"weight\",\"food\",\"human\",\"play\",\"students\",\"countries\",\"place\",\"ve\",\"u\",\"future\",\"improve\",\"class\",\"tv\",\"big\",\"days\",\"state\",\"7\",\"eat\",\"com\",\"done\",\"happens\",\"average\",\"process\",\"got\",\"e\",\"music\",\"white\",\"meaning\",\"relationship\",\"too\",\"last\",\"girlfriend\",\"create\",\"instagram\",\"history\",\"pay\",\"every\",\"windows\",\"delhi\",\"american\",\"watch\",\"body\",\"tech\",\"salary\",\"safe\",\"power\",\"hard\",\"laptop\",\"ask\",\"clinton\",\"age\",\"makes\",\"energy\",\"end\",\"each\",\"youtube\",\"lose\",\"worth\",\"great\",\"earn\",\"test\",\"god\",\"states\",\"against\",\"win\",\"mba\",\"market\",\"making\",\"keep\",\"hillary\",\"compare\",\"differences\",\"answer\",\"something\",\"tips\",\"java\",\"apply\",\"considered\",\"around\",\"myself\",\"never\",\"next\",\"mechanical\",\"8\",\"always\",\"month\",\"united\",\"another\",\"course\",\"jobs\",\"increase\",\"download\",\"$\",\"such\",\"song\",\"internet\",\"parents\",\"design\",\"code\",\"woman\",\"common\",\"kind\",\"chinese\",\"review\",\"per\",\"series\",\"open\",\"interesting\",\"employees\",\"development\",\"type\",\"degree\",\"looking\",\"score\",\"living\",\"show\",\"management\",\"months\",\"travel\",\"able\",\"believe\",\"program\",\"well\",\"light\",\"because\",\"bangalore\",\".?\",\"law\",\"family\",\"pakistan\",\"favorite\",\"america\",\"marketing\",\"major\",\"today\",\"universities\",\"actually\",\"re\",\"0\",\"2017\",\"space\",\"cat\",\"call\",\"air\",\"technology\",\"based\",\"whatsapp\",\"%\",\"affect\",\"idea\",\"build\",\"current\",\"popular\",\"speed\",\"self\",\"problem\",\"support\",\"run\",\"visa\",\"choose\",\"down\",\"deal\",\"games\",\"rid\",\"join\",\"boyfriend\",\"house\",\"city\",\"jee\",\"mind\",\"iit\",\"site\",\"both\",\"services\",\"exist\",\"available\",\"etc\",\"civil\",\"date\",\"culture\",\"normal\",\"small\",\"order\",\"also\",\"product\",\"apple\",\"apps\",\"wrong\",\"given\",\"amazon\",\"ms\",\"places\",\"songs\",\"wear\",\"project\",\"value\",\"international\",\"main\",\"differ\",\"canada\",\"research\",\"part\",\"behind\",\"post\",\"uk\",\"]\",\"public\",\"media\",\"level\",\"happened\",\"[\",\"^\",\"education\",\"email\",\"reason\",\"cause\",\"less\",\"sleep\",\"startup\",\"websites\",\"benefits\",\"these\",\"list\",\"instead\",\"medical\",\"die\",\"child\",\"physics\",\"skills\",\"times\",\"called\",\"form\",\"visit\",\"health\",\"=\",\"hate\",\"worst\",\"causes\",\"didn\",\"control\",\"legal\",\"police\",\"face\",\"products\",\"mumbai\",\"stay\",\"terms\",\"application\",\"facts\",\"sites\",\"rate\",\"field\",\"sell\",\"story\",\"machine\",\"file\",\"seen\",\"dog\",\"500\",\"humans\",\"private\",\"9\",\"required\",\"stock\",\"notes\",\"gate\",\"modi\",\"single\",\"100\",\"low\",\"full\",\"asked\",\"biggest\",\"point\",\"writing\",\"children\",\"night\",\"20\",\"invest\",\"indians\",\"problems\",\"move\",\"rs\",\"side\",\"2015\",\"anything\",\"put\",\"successful\",\"remove\",\"won\",\"death\",\"others\",\"answers\",\"theory\",\"12\",\"talk\",\"ideas\",\"compared\",\"marks\",\"plan\",\"group\",\"advantages\",\"hours\",\"000\",\"similar\",\"sentence\",\"1000\",\"tax\",\"institute\",\"add\",\"again\",\"effects\",\"famous\",\"australia\",\"coaching\",\"15\",\"d\",\"correct\",\"function\",\"solve\",\"credit\",\"center\",\"known\",\"lot\",\"send\",\"set\",\"germany\",\"south\",\"guys\",\"force\",\"ex\",\"training\",\"offer\",\"developer\",\"term\",\"star\",\"left\",\"videos\",\"universe\",\"foreign\",\"daily\",\"fall\",\"information\",\"industry\",\"studying\",\"colleges\",\"period\",\"oil\",\"model\",\"graduate\",\"says\",\"area\",\"must\",\"general\",\"quality\",\"python\",\"size\",\"near\",\"drive\",\"n\",\"blood\",\"majors\",\"price\",\"yourself\",\"related\",\"search\",\"week\",\"words\",\"enough\",\"cons\",\"kill\",\"marriage\",\"fast\",\"party\",\"pros\",\"courses\",\"found\",\"often\",\"leave\",\"follow\",\"purpose\",\"grow\",\"russia\",\"male\",\"short\",\"isn\",\"started\",\"network\",\"fix\",\"advice\",\"store\",\"mass\",\"types\",\"turn\",\"married\",\"text\",\"brain\",\"password\",\"taking\",\"those\",\"female\",\"second\",\"team\",\"page\",\"line\",\"dark\",\"share\",\"numbers\",\"effective\",\"digital\",\"red\",\"three\",\"americans\",\"cell\",\"pc\",\"election\",\"office\",\"matter\",\"master\",\"view\",\"fat\",\"delete\",\"economy\",\"source\",\"security\",\"role\",\"ca\",\"easy\",\"\\u201c\",\"since\",\"few\",\"preparation\",\"happy\",\"options\",\"away\",\"said\",\"30\",\"north\",\"effect\",\"check\",\"admission\",\"chemical\",\"uber\",\"lost\",\"ios\",\"care\",\"electrical\",\"japanese\",\"profile\",\"wife\",\"dream\",\"understand\",\"difficult\",\"exams\",\"try\",\"paper\",\"religion\",\"investment\",\"convert\",\"alcohol\",\"past\",\"):\",\"letter\",\"hotel\",\"develop\",\"dogs\",\"beautiful\",\"japan\",\"exactly\",\"personal\",\"languages\",\"eating\",\"hyderabad\",\"topics\",\"vs\",\"net\",\"calculate\",\"explain\",\"british\",\"twitter\",\"green\",\"boy\",\"news\",\"political\",\"basic\",\"film\",\"drug\",\"transfer\",\"fight\",\"rank\",\"california\",\"army\",\"please\",\"national\",\"let\",\"pune\",\"porn\",\"contact\",\"pro\",\"scope\",\"note\",\"once\",\"paid\",\"address\",\"avoid\",\"smart\",\"gain\",\"europe\",\"'?\",\"wants\",\"engine\",\"reasons\",\"phd\",\"bollywood\",\"income\",\"obama\",\"currently\",\"samsung\",\"season\",\"hindi\",\"officer\",\"everyone\",\"reading\",\"reduce\",\"military\",\"11\",\"chances\",\"meet\",\"ias\",\"option\",\"users\",\"everything\",\"knowledge\",\"across\",\"overcome\",\"solar\",\"else\",\"50\",\"internship\",\"message\",\"muslim\",\"gay\",\"charge\",\"sim\",\"moon\",\"yes\",\"microsoft\",\"due\",\"sound\",\"photos\",\"pass\",\"disadvantages\",\"balance\",\"faster\",\"financial\",\"muslims\",\"pregnant\",\"taken\",\"screen\",\"break\",\"hack\",\"healthy\",\"animals\",\"pain\",\"systems\",\"singapore\",\"messages\",\"16\",\"natural\",\"skin\",\"amount\",\"color\",\"special\",\"board\",\"interested\",\"case\",\"chance\",\"names\",\"sun\",\"hand\",\"height\",\"drink\",\"professional\",\"passport\",\"structure\",\"french\",\"created\",\"german\",\"percentage\",\"useful\",\"already\",\"mother\",\"middle\",\"modern\",\"crush\",\"linux\",\"user\",\"dating\",\"likes\",\"blue\",\"battery\",\"access\",\"train\",\"starting\",\"interest\",\"presidential\",\"written\",\"coming\",\"install\",\"negative\",\"camera\",\"recover\",\"least\",\"provide\",\"thinking\",\"studies\",\"cold\",\"football\",\"rich\",\"prime\",\"solution\",\"expect\",\"vote\",\"mac\",\"following\",\"buying\",\"spend\",\"gift\",\"resources\",\"jio\",\"running\",\"brand\",\"cs\",\"\\\\\",\"pressure\",\"changed\",\"feeling\",\"character\",\"gmail\",\"allowed\",\"marry\",\"shows\",\"within\",\"society\",\"islam\",\"speak\",\"eyes\",\"snapchat\",\"laws\",\"yet\",\"impact\",\"schools\",\"final\",\"bill\",\"fake\",\"save\",\"likely\",\"nuclear\",\"though\",\"capital\",\"{\",\"determine\",\"neet\",\"chemistry\",\"doctor\",\"cut\",\"picture\",\"applications\",\"manager\",\"husband\",\"kids\",\"prefer\",\"young\",\"views\",\"stories\",\"father\",\"device\",\"g\",\"gold\",\"iq\",\"personality\",\"inside\",\"galaxy\",\"projects\",\"18\",\"r\",\"blog\",\"strategy\",\"greatest\",\"cse\",\"illegal\",\"currency\",\"abroad\",\"technical\",\"crack\",\"art\",\"pursue\",\"alone\",\"recruit\",\"works\",\"memory\",\"higher\",\"growth\",\"example\",\"consider\",\"dead\",\"depression\",\"head\",\"insurance\",\"necessary\",\"wifi\"]]]}}},\"view\":{\"type\":\"object\",\"name\":\"CDSView\",\"id\":\"p1058\",\"attributes\":{\"filter\":{\"type\":\"object\",\"name\":\"AllIndices\",\"id\":\"p1059\"}}},\"glyph\":{\"type\":\"object\",\"name\":\"Scatter\",\"id\":\"p1054\",\"attributes\":{\"x\":{\"type\":\"field\",\"field\":\"x\"},\"y\":{\"type\":\"field\",\"field\":\"y\"},\"size\":{\"type\":\"value\",\"value\":10},\"line_color\":{\"type\":\"field\",\"field\":\"color\"},\"line_alpha\":{\"type\":\"value\",\"value\":0.25},\"fill_color\":{\"type\":\"field\",\"field\":\"color\"},\"fill_alpha\":{\"type\":\"value\",\"value\":0.25},\"hatch_color\":{\"type\":\"field\",\"field\":\"color\"},\"hatch_alpha\":{\"type\":\"value\",\"value\":0.25}}},\"nonselection_glyph\":{\"type\":\"object\",\"name\":\"Scatter\",\"id\":\"p1055\",\"attributes\":{\"x\":{\"type\":\"field\",\"field\":\"x\"},\"y\":{\"type\":\"field\",\"field\":\"y\"},\"size\":{\"type\":\"value\",\"value\":10},\"line_color\":{\"type\":\"field\",\"field\":\"color\"},\"line_alpha\":{\"type\":\"value\",\"value\":0.1},\"fill_color\":{\"type\":\"field\",\"field\":\"color\"},\"fill_alpha\":{\"type\":\"value\",\"value\":0.1},\"hatch_color\":{\"type\":\"field\",\"field\":\"color\"},\"hatch_alpha\":{\"type\":\"value\",\"value\":0.1}}},\"muted_glyph\":{\"type\":\"object\",\"name\":\"Scatter\",\"id\":\"p1056\",\"attributes\":{\"x\":{\"type\":\"field\",\"field\":\"x\"},\"y\":{\"type\":\"field\",\"field\":\"y\"},\"size\":{\"type\":\"value\",\"value\":10},\"line_color\":{\"type\":\"field\",\"field\":\"color\"},\"line_alpha\":{\"type\":\"value\",\"value\":0.2},\"fill_color\":{\"type\":\"field\",\"field\":\"color\"},\"fill_alpha\":{\"type\":\"value\",\"value\":0.2},\"hatch_color\":{\"type\":\"field\",\"field\":\"color\"},\"hatch_alpha\":{\"type\":\"value\",\"value\":0.2}}}}}],\"toolbar\":{\"type\":\"object\",\"name\":\"Toolbar\",\"id\":\"p1012\",\"attributes\":{\"tools\":[{\"type\":\"object\",\"name\":\"PanTool\",\"id\":\"p1036\"},{\"type\":\"object\",\"name\":\"WheelZoomTool\",\"id\":\"p1037\"},{\"type\":\"object\",\"name\":\"BoxZoomTool\",\"id\":\"p1038\",\"attributes\":{\"overlay\":{\"type\":\"object\",\"name\":\"BoxAnnotation\",\"id\":\"p1039\",\"attributes\":{\"syncable\":false,\"level\":\"overlay\",\"visible\":false,\"left_units\":\"canvas\",\"right_units\":\"canvas\",\"bottom_units\":\"canvas\",\"top_units\":\"canvas\",\"line_color\":\"black\",\"line_alpha\":1.0,\"line_width\":2,\"line_dash\":[4,4],\"fill_color\":\"lightgrey\",\"fill_alpha\":0.5}}}},{\"type\":\"object\",\"name\":\"SaveTool\",\"id\":\"p1040\"},{\"type\":\"object\",\"name\":\"ResetTool\",\"id\":\"p1041\"},{\"type\":\"object\",\"name\":\"HelpTool\",\"id\":\"p1042\"},{\"type\":\"object\",\"name\":\"HoverTool\",\"id\":\"p1060\",\"attributes\":{\"renderers\":\"auto\",\"tooltips\":[[\"token\",\"@token\"]]}}],\"active_scroll\":{\"id\":\"p1037\"}}},\"left\":[{\"type\":\"object\",\"name\":\"LinearAxis\",\"id\":\"p1029\",\"attributes\":{\"ticker\":{\"type\":\"object\",\"name\":\"BasicTicker\",\"id\":\"p1030\",\"attributes\":{\"mantissas\":[1,2,5]}},\"formatter\":{\"type\":\"object\",\"name\":\"BasicTickFormatter\",\"id\":\"p1032\"},\"major_label_policy\":{\"type\":\"object\",\"name\":\"AllLabels\",\"id\":\"p1031\"}}}],\"below\":[{\"type\":\"object\",\"name\":\"LinearAxis\",\"id\":\"p1022\",\"attributes\":{\"ticker\":{\"type\":\"object\",\"name\":\"BasicTicker\",\"id\":\"p1023\",\"attributes\":{\"mantissas\":[1,2,5]}},\"formatter\":{\"type\":\"object\",\"name\":\"BasicTickFormatter\",\"id\":\"p1025\"},\"major_label_policy\":{\"type\":\"object\",\"name\":\"AllLabels\",\"id\":\"p1024\"}}}],\"center\":[{\"type\":\"object\",\"name\":\"Grid\",\"id\":\"p1028\",\"attributes\":{\"axis\":{\"id\":\"p1022\"}}},{\"type\":\"object\",\"name\":\"Grid\",\"id\":\"p1035\",\"attributes\":{\"dimension\":1,\"axis\":{\"id\":\"p1029\"}}}]}}]}};\n  const render_items = [{\"docid\":\"3b5e3a0d-68ee-4f57-a994-6134ae2e918c\",\"roots\":{\"p1005\":\"2ed2360a-3c87-4d85-a0fd-984631224f14\"},\"root_ids\":[\"p1005\"]}];\n  root.Bokeh.embed.embed_items_notebook(docs_json, render_items);\n  }\n  if (root.Bokeh !== undefined) {\n    embed_document(root);\n  } else {\n    let attempts = 0;\n    const timer = setInterval(function(root) {\n      if (root.Bokeh !== undefined) {\n        clearInterval(timer);\n        embed_document(root);\n      } else {\n        attempts++;\n        if (attempts > 100) {\n          clearInterval(timer);\n          console.log(\"Bokeh: ERROR: Unable to run BokehJS code because BokehJS library is missing\");\n        }\n      }\n    }, 10, root)\n  }\n})(window);",
      "application/vnd.bokehjs_exec.v0+json": ""
     },
     "metadata": {
      "application/vnd.bokehjs_exec.v0+json": {
       "id": "p1005"
      }
     },
     "output_type": "display_data"
    },
    {
     "data": {
      "text/plain": "figure(id='p1005', ...)",
      "text/html": "<div style=\"display: table;\"><div style=\"display: table-row;\"><div style=\"display: table-cell;\"><b title=\"bokeh.plotting._figure.figure\">figure</b>(</div><div style=\"display: table-cell;\">id&nbsp;=&nbsp;'p1005', <span id=\"p1149\" style=\"cursor: pointer;\">&hellip;)</span></div></div><div class=\"p1148\" style=\"display: none;\"><div style=\"display: table-cell;\"></div><div style=\"display: table-cell;\">above&nbsp;=&nbsp;[],</div></div><div class=\"p1148\" style=\"display: none;\"><div style=\"display: table-cell;\"></div><div style=\"display: table-cell;\">align&nbsp;=&nbsp;'auto',</div></div><div class=\"p1148\" style=\"display: none;\"><div style=\"display: table-cell;\"></div><div style=\"display: table-cell;\">aspect_ratio&nbsp;=&nbsp;None,</div></div><div class=\"p1148\" style=\"display: none;\"><div style=\"display: table-cell;\"></div><div style=\"display: table-cell;\">aspect_scale&nbsp;=&nbsp;1,</div></div><div class=\"p1148\" style=\"display: none;\"><div style=\"display: table-cell;\"></div><div style=\"display: table-cell;\">background_fill_alpha&nbsp;=&nbsp;1.0,</div></div><div class=\"p1148\" style=\"display: none;\"><div style=\"display: table-cell;\"></div><div style=\"display: table-cell;\">background_fill_color&nbsp;=&nbsp;'#ffffff',</div></div><div class=\"p1148\" style=\"display: none;\"><div style=\"display: table-cell;\"></div><div style=\"display: table-cell;\">below&nbsp;=&nbsp;[LinearAxis(id='p1022', ...)],</div></div><div class=\"p1148\" style=\"display: none;\"><div style=\"display: table-cell;\"></div><div style=\"display: table-cell;\">border_fill_alpha&nbsp;=&nbsp;1.0,</div></div><div class=\"p1148\" style=\"display: none;\"><div style=\"display: table-cell;\"></div><div style=\"display: table-cell;\">border_fill_color&nbsp;=&nbsp;'#ffffff',</div></div><div class=\"p1148\" style=\"display: none;\"><div style=\"display: table-cell;\"></div><div style=\"display: table-cell;\">center&nbsp;=&nbsp;[Grid(id='p1028', ...), Grid(id='p1035', ...)],</div></div><div class=\"p1148\" style=\"display: none;\"><div style=\"display: table-cell;\"></div><div style=\"display: table-cell;\">classes&nbsp;=&nbsp;[],</div></div><div class=\"p1148\" style=\"display: none;\"><div style=\"display: table-cell;\"></div><div style=\"display: table-cell;\">context_menu&nbsp;=&nbsp;None,</div></div><div class=\"p1148\" style=\"display: none;\"><div style=\"display: table-cell;\"></div><div style=\"display: table-cell;\">css_classes&nbsp;=&nbsp;[],</div></div><div class=\"p1148\" style=\"display: none;\"><div style=\"display: table-cell;\"></div><div style=\"display: table-cell;\">disabled&nbsp;=&nbsp;False,</div></div><div class=\"p1148\" style=\"display: none;\"><div style=\"display: table-cell;\"></div><div style=\"display: table-cell;\">extra_x_ranges&nbsp;=&nbsp;{},</div></div><div class=\"p1148\" style=\"display: none;\"><div style=\"display: table-cell;\"></div><div style=\"display: table-cell;\">extra_x_scales&nbsp;=&nbsp;{},</div></div><div class=\"p1148\" style=\"display: none;\"><div style=\"display: table-cell;\"></div><div style=\"display: table-cell;\">extra_y_ranges&nbsp;=&nbsp;{},</div></div><div class=\"p1148\" style=\"display: none;\"><div style=\"display: table-cell;\"></div><div style=\"display: table-cell;\">extra_y_scales&nbsp;=&nbsp;{},</div></div><div class=\"p1148\" style=\"display: none;\"><div style=\"display: table-cell;\"></div><div style=\"display: table-cell;\">flow_mode&nbsp;=&nbsp;'block',</div></div><div class=\"p1148\" style=\"display: none;\"><div style=\"display: table-cell;\"></div><div style=\"display: table-cell;\">frame_align&nbsp;=&nbsp;True,</div></div><div class=\"p1148\" style=\"display: none;\"><div style=\"display: table-cell;\"></div><div style=\"display: table-cell;\">frame_height&nbsp;=&nbsp;None,</div></div><div class=\"p1148\" style=\"display: none;\"><div style=\"display: table-cell;\"></div><div style=\"display: table-cell;\">frame_width&nbsp;=&nbsp;None,</div></div><div class=\"p1148\" style=\"display: none;\"><div style=\"display: table-cell;\"></div><div style=\"display: table-cell;\">height&nbsp;=&nbsp;400,</div></div><div class=\"p1148\" style=\"display: none;\"><div style=\"display: table-cell;\"></div><div style=\"display: table-cell;\">height_policy&nbsp;=&nbsp;'auto',</div></div><div class=\"p1148\" style=\"display: none;\"><div style=\"display: table-cell;\"></div><div style=\"display: table-cell;\">hidpi&nbsp;=&nbsp;True,</div></div><div class=\"p1148\" style=\"display: none;\"><div style=\"display: table-cell;\"></div><div style=\"display: table-cell;\">hold_render&nbsp;=&nbsp;False,</div></div><div class=\"p1148\" style=\"display: none;\"><div style=\"display: table-cell;\"></div><div style=\"display: table-cell;\">inner_height&nbsp;=&nbsp;0,</div></div><div class=\"p1148\" style=\"display: none;\"><div style=\"display: table-cell;\"></div><div style=\"display: table-cell;\">inner_width&nbsp;=&nbsp;0,</div></div><div class=\"p1148\" style=\"display: none;\"><div style=\"display: table-cell;\"></div><div style=\"display: table-cell;\">js_event_callbacks&nbsp;=&nbsp;{},</div></div><div class=\"p1148\" style=\"display: none;\"><div style=\"display: table-cell;\"></div><div style=\"display: table-cell;\">js_property_callbacks&nbsp;=&nbsp;{},</div></div><div class=\"p1148\" style=\"display: none;\"><div style=\"display: table-cell;\"></div><div style=\"display: table-cell;\">left&nbsp;=&nbsp;[LinearAxis(id='p1029', ...)],</div></div><div class=\"p1148\" style=\"display: none;\"><div style=\"display: table-cell;\"></div><div style=\"display: table-cell;\">lod_factor&nbsp;=&nbsp;10,</div></div><div class=\"p1148\" style=\"display: none;\"><div style=\"display: table-cell;\"></div><div style=\"display: table-cell;\">lod_interval&nbsp;=&nbsp;300,</div></div><div class=\"p1148\" style=\"display: none;\"><div style=\"display: table-cell;\"></div><div style=\"display: table-cell;\">lod_threshold&nbsp;=&nbsp;2000,</div></div><div class=\"p1148\" style=\"display: none;\"><div style=\"display: table-cell;\"></div><div style=\"display: table-cell;\">lod_timeout&nbsp;=&nbsp;500,</div></div><div class=\"p1148\" style=\"display: none;\"><div style=\"display: table-cell;\"></div><div style=\"display: table-cell;\">margin&nbsp;=&nbsp;None,</div></div><div class=\"p1148\" style=\"display: none;\"><div style=\"display: table-cell;\"></div><div style=\"display: table-cell;\">match_aspect&nbsp;=&nbsp;False,</div></div><div class=\"p1148\" style=\"display: none;\"><div style=\"display: table-cell;\"></div><div style=\"display: table-cell;\">max_height&nbsp;=&nbsp;None,</div></div><div class=\"p1148\" style=\"display: none;\"><div style=\"display: table-cell;\"></div><div style=\"display: table-cell;\">max_width&nbsp;=&nbsp;None,</div></div><div class=\"p1148\" style=\"display: none;\"><div style=\"display: table-cell;\"></div><div style=\"display: table-cell;\">min_border&nbsp;=&nbsp;5,</div></div><div class=\"p1148\" style=\"display: none;\"><div style=\"display: table-cell;\"></div><div style=\"display: table-cell;\">min_border_bottom&nbsp;=&nbsp;None,</div></div><div class=\"p1148\" style=\"display: none;\"><div style=\"display: table-cell;\"></div><div style=\"display: table-cell;\">min_border_left&nbsp;=&nbsp;None,</div></div><div class=\"p1148\" style=\"display: none;\"><div style=\"display: table-cell;\"></div><div style=\"display: table-cell;\">min_border_right&nbsp;=&nbsp;None,</div></div><div class=\"p1148\" style=\"display: none;\"><div style=\"display: table-cell;\"></div><div style=\"display: table-cell;\">min_border_top&nbsp;=&nbsp;None,</div></div><div class=\"p1148\" style=\"display: none;\"><div style=\"display: table-cell;\"></div><div style=\"display: table-cell;\">min_height&nbsp;=&nbsp;None,</div></div><div class=\"p1148\" style=\"display: none;\"><div style=\"display: table-cell;\"></div><div style=\"display: table-cell;\">min_width&nbsp;=&nbsp;None,</div></div><div class=\"p1148\" style=\"display: none;\"><div style=\"display: table-cell;\"></div><div style=\"display: table-cell;\">name&nbsp;=&nbsp;None,</div></div><div class=\"p1148\" style=\"display: none;\"><div style=\"display: table-cell;\"></div><div style=\"display: table-cell;\">outer_height&nbsp;=&nbsp;0,</div></div><div class=\"p1148\" style=\"display: none;\"><div style=\"display: table-cell;\"></div><div style=\"display: table-cell;\">outer_width&nbsp;=&nbsp;0,</div></div><div class=\"p1148\" style=\"display: none;\"><div style=\"display: table-cell;\"></div><div style=\"display: table-cell;\">outline_line_alpha&nbsp;=&nbsp;1.0,</div></div><div class=\"p1148\" style=\"display: none;\"><div style=\"display: table-cell;\"></div><div style=\"display: table-cell;\">outline_line_cap&nbsp;=&nbsp;'butt',</div></div><div class=\"p1148\" style=\"display: none;\"><div style=\"display: table-cell;\"></div><div style=\"display: table-cell;\">outline_line_color&nbsp;=&nbsp;'#e5e5e5',</div></div><div class=\"p1148\" style=\"display: none;\"><div style=\"display: table-cell;\"></div><div style=\"display: table-cell;\">outline_line_dash&nbsp;=&nbsp;[],</div></div><div class=\"p1148\" style=\"display: none;\"><div style=\"display: table-cell;\"></div><div style=\"display: table-cell;\">outline_line_dash_offset&nbsp;=&nbsp;0,</div></div><div class=\"p1148\" style=\"display: none;\"><div style=\"display: table-cell;\"></div><div style=\"display: table-cell;\">outline_line_join&nbsp;=&nbsp;'bevel',</div></div><div class=\"p1148\" style=\"display: none;\"><div style=\"display: table-cell;\"></div><div style=\"display: table-cell;\">outline_line_width&nbsp;=&nbsp;1,</div></div><div class=\"p1148\" style=\"display: none;\"><div style=\"display: table-cell;\"></div><div style=\"display: table-cell;\">output_backend&nbsp;=&nbsp;'canvas',</div></div><div class=\"p1148\" style=\"display: none;\"><div style=\"display: table-cell;\"></div><div style=\"display: table-cell;\">renderers&nbsp;=&nbsp;[GlyphRenderer(id='p1057', ...)],</div></div><div class=\"p1148\" style=\"display: none;\"><div style=\"display: table-cell;\"></div><div style=\"display: table-cell;\">reset_policy&nbsp;=&nbsp;'standard',</div></div><div class=\"p1148\" style=\"display: none;\"><div style=\"display: table-cell;\"></div><div style=\"display: table-cell;\">resizable&nbsp;=&nbsp;False,</div></div><div class=\"p1148\" style=\"display: none;\"><div style=\"display: table-cell;\"></div><div style=\"display: table-cell;\">right&nbsp;=&nbsp;[],</div></div><div class=\"p1148\" style=\"display: none;\"><div style=\"display: table-cell;\"></div><div style=\"display: table-cell;\">sizing_mode&nbsp;=&nbsp;None,</div></div><div class=\"p1148\" style=\"display: none;\"><div style=\"display: table-cell;\"></div><div style=\"display: table-cell;\">styles&nbsp;=&nbsp;{},</div></div><div class=\"p1148\" style=\"display: none;\"><div style=\"display: table-cell;\"></div><div style=\"display: table-cell;\">stylesheets&nbsp;=&nbsp;[],</div></div><div class=\"p1148\" style=\"display: none;\"><div style=\"display: table-cell;\"></div><div style=\"display: table-cell;\">subscribed_events&nbsp;=&nbsp;PropertyValueSet(),</div></div><div class=\"p1148\" style=\"display: none;\"><div style=\"display: table-cell;\"></div><div style=\"display: table-cell;\">syncable&nbsp;=&nbsp;True,</div></div><div class=\"p1148\" style=\"display: none;\"><div style=\"display: table-cell;\"></div><div style=\"display: table-cell;\">tags&nbsp;=&nbsp;[],</div></div><div class=\"p1148\" style=\"display: none;\"><div style=\"display: table-cell;\"></div><div style=\"display: table-cell;\">title&nbsp;=&nbsp;Title(id='p1009', ...),</div></div><div class=\"p1148\" style=\"display: none;\"><div style=\"display: table-cell;\"></div><div style=\"display: table-cell;\">title_location&nbsp;=&nbsp;'above',</div></div><div class=\"p1148\" style=\"display: none;\"><div style=\"display: table-cell;\"></div><div style=\"display: table-cell;\">toolbar&nbsp;=&nbsp;Toolbar(id='p1012', ...),</div></div><div class=\"p1148\" style=\"display: none;\"><div style=\"display: table-cell;\"></div><div style=\"display: table-cell;\">toolbar_inner&nbsp;=&nbsp;False,</div></div><div class=\"p1148\" style=\"display: none;\"><div style=\"display: table-cell;\"></div><div style=\"display: table-cell;\">toolbar_location&nbsp;=&nbsp;'right',</div></div><div class=\"p1148\" style=\"display: none;\"><div style=\"display: table-cell;\"></div><div style=\"display: table-cell;\">toolbar_sticky&nbsp;=&nbsp;True,</div></div><div class=\"p1148\" style=\"display: none;\"><div style=\"display: table-cell;\"></div><div style=\"display: table-cell;\">visible&nbsp;=&nbsp;True,</div></div><div class=\"p1148\" style=\"display: none;\"><div style=\"display: table-cell;\"></div><div style=\"display: table-cell;\">width&nbsp;=&nbsp;600,</div></div><div class=\"p1148\" style=\"display: none;\"><div style=\"display: table-cell;\"></div><div style=\"display: table-cell;\">width_policy&nbsp;=&nbsp;'auto',</div></div><div class=\"p1148\" style=\"display: none;\"><div style=\"display: table-cell;\"></div><div style=\"display: table-cell;\">x_range&nbsp;=&nbsp;DataRange1d(id='p1007', ...),</div></div><div class=\"p1148\" style=\"display: none;\"><div style=\"display: table-cell;\"></div><div style=\"display: table-cell;\">x_scale&nbsp;=&nbsp;LinearScale(id='p1018', ...),</div></div><div class=\"p1148\" style=\"display: none;\"><div style=\"display: table-cell;\"></div><div style=\"display: table-cell;\">y_range&nbsp;=&nbsp;DataRange1d(id='p1006', ...),</div></div><div class=\"p1148\" style=\"display: none;\"><div style=\"display: table-cell;\"></div><div style=\"display: table-cell;\">y_scale&nbsp;=&nbsp;LinearScale(id='p1020', ...))</div></div></div>\n<script>\n(function() {\n  let expanded = false;\n  const ellipsis = document.getElementById(\"p1149\");\n  ellipsis.addEventListener(\"click\", function() {\n    const rows = document.getElementsByClassName(\"p1148\");\n    for (let i = 0; i < rows.length; i++) {\n      const el = rows[i];\n      el.style.display = expanded ? \"none\" : \"table-row\";\n    }\n    ellipsis.innerHTML = expanded ? \"&hellip;)\" : \"&lsaquo;&lsaquo;&lsaquo;\";\n    expanded = !expanded;\n  });\n})();\n</script>\n"
     },
     "execution_count": 34,
     "metadata": {},
     "output_type": "execute_result"
    }
   ],
   "source": [
    "draw_vectors(word_vectors_pca[:, 0], word_vectors_pca[:, 1], token=words)\n",
    "\n",
    "# hover a mouse over there and see if you can identify the clusters"
   ]
  },
  {
   "cell_type": "markdown",
   "metadata": {},
   "source": [
    "### Visualizing neighbors with t-SNE\n",
    "PCA is nice but it's strictly linear and thus only able to capture coarse high-level structure of the data.\n",
    "\n",
    "If we instead want to focus on keeping neighboring points near, we could use TSNE, which is itself an embedding method. Here you can read __[more on TSNE](https://distill.pub/2016/misread-tsne/)__."
   ]
  },
  {
   "cell_type": "code",
   "execution_count": 35,
   "metadata": {},
   "outputs": [
    {
     "name": "stderr",
     "output_type": "stream",
     "text": [
      "/Users/paulsokolov/Downloads/nlp_course/nlp/lib/python3.10/site-packages/sklearn/manifold/_t_sne.py:800: FutureWarning: The default initialization in TSNE will change from 'random' to 'pca' in 1.2.\n",
      "  warnings.warn(\n",
      "/Users/paulsokolov/Downloads/nlp_course/nlp/lib/python3.10/site-packages/sklearn/manifold/_t_sne.py:810: FutureWarning: The default learning rate in TSNE will change from 200.0 to 'auto' in 1.2.\n",
      "  warnings.warn(\n"
     ]
    },
    {
     "name": "stdout",
     "output_type": "stream",
     "text": [
      "[t-SNE] Computing 91 nearest neighbors...\n",
      "[t-SNE] Indexed 1000 samples in 0.004s...\n",
      "[t-SNE] Computed neighbors for 1000 samples in 0.390s...\n",
      "[t-SNE] Computed conditional probabilities for sample 1000 / 1000\n",
      "[t-SNE] Mean sigma: 4.547705\n",
      "[t-SNE] KL divergence after 250 iterations with early exaggeration: 83.778419\n",
      "[t-SNE] KL divergence after 1000 iterations: 1.591352\n"
     ]
    }
   ],
   "source": [
    "from sklearn.manifold import TSNE\n",
    "\n",
    "# map word vectors onto 2d plane with TSNE. hint: don't panic it may take a minute or two to fit.\n",
    "# normalize them as just lke with pca\n",
    "\n",
    "\n",
    "word_tsne = TSNE(verbose=True).fit_transform(word_vectors)"
   ]
  },
  {
   "cell_type": "code",
   "execution_count": 36,
   "metadata": {
    "collapsed": true,
    "scrolled": false
   },
   "outputs": [
    {
     "data": {
      "text/html": "\n  <div id=\"bea27e31-4ad5-4459-8151-36babd7c8703\" data-root-id=\"p1155\" style=\"display: contents;\"></div>\n"
     },
     "metadata": {},
     "output_type": "display_data"
    },
    {
     "data": {
      "application/javascript": "(function(root) {\n  function embed_document(root) {\n  const docs_json = {\"2a89a5fe-5efe-4f24-8b9a-caf65fa40c2e\":{\"version\":\"3.0.2\",\"title\":\"Bokeh Application\",\"defs\":[],\"roots\":[{\"type\":\"object\",\"name\":\"Figure\",\"id\":\"p1155\",\"attributes\":{\"height\":400,\"x_range\":{\"type\":\"object\",\"name\":\"DataRange1d\",\"id\":\"p1157\"},\"y_range\":{\"type\":\"object\",\"name\":\"DataRange1d\",\"id\":\"p1156\"},\"x_scale\":{\"type\":\"object\",\"name\":\"LinearScale\",\"id\":\"p1168\"},\"y_scale\":{\"type\":\"object\",\"name\":\"LinearScale\",\"id\":\"p1170\"},\"title\":{\"type\":\"object\",\"name\":\"Title\",\"id\":\"p1159\"},\"renderers\":[{\"type\":\"object\",\"name\":\"GlyphRenderer\",\"id\":\"p1207\",\"attributes\":{\"data_source\":{\"type\":\"object\",\"name\":\"ColumnDataSource\",\"id\":\"p1152\",\"attributes\":{\"selected\":{\"type\":\"object\",\"name\":\"Selection\",\"id\":\"p1154\",\"attributes\":{\"indices\":[],\"line_indices\":[]}},\"selection_policy\":{\"type\":\"object\",\"name\":\"UnionRenderers\",\"id\":\"p1153\"},\"data\":{\"type\":\"map\",\"entries\":[[\"x\",{\"type\":\"ndarray\",\"array\":{\"type\":\"bytes\",\"data\":\"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\"},\"shape\":[1000],\"dtype\":\"float32\",\"order\":\"little\"}],[\"y\",{\"type\":\"ndarray\",\"array\":{\"type\":\"bytes\",\"data\":\"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\"},\"shape\":[1000],\"dtype\":\"float32\",\"order\":\"little\"}],[\"color\",[\"green\",\"green\",\"green\",\"green\",\"green\",\"green\",\"green\",\"green\",\"green\",\"green\",\"green\",\"green\",\"green\",\"green\",\"green\",\"green\",\"green\",\"green\",\"green\",\"green\",\"green\",\"green\",\"green\",\"green\",\"green\",\"green\",\"green\",\"green\",\"green\",\"green\",\"green\",\"green\",\"green\",\"green\",\"green\",\"green\",\"green\",\"green\",\"green\",\"green\",\"green\",\"green\",\"green\",\"green\",\"green\",\"green\",\"green\",\"green\",\"green\",\"green\",\"green\",\"green\",\"green\",\"green\",\"green\",\"green\",\"green\",\"green\",\"green\",\"green\",\"green\",\"green\",\"green\",\"green\",\"green\",\"green\",\"green\",\"green\",\"green\",\"green\",\"green\",\"green\",\"green\",\"green\",\"green\",\"green\",\"green\",\"green\",\"green\",\"green\",\"green\",\"green\",\"green\",\"green\",\"green\",\"green\",\"green\",\"green\",\"green\",\"green\",\"green\",\"green\",\"green\",\"green\",\"green\",\"green\",\"green\",\"green\",\"green\",\"green\",\"green\",\"green\",\"green\",\"green\",\"green\",\"green\",\"green\",\"green\",\"green\",\"green\",\"green\",\"green\",\"green\",\"green\",\"green\",\"green\",\"green\",\"green\",\"green\",\"green\",\"green\",\"green\",\"green\",\"green\",\"green\",\"green\",\"green\",\"green\",\"green\",\"green\",\"green\",\"green\",\"green\",\"green\",\"green\",\"green\",\"green\",\"green\",\"green\",\"green\",\"green\",\"green\",\"green\",\"green\",\"green\",\"green\",\"green\",\"green\",\"green\",\"green\",\"green\",\"green\",\"green\",\"green\",\"green\",\"green\",\"green\",\"green\",\"green\",\"green\",\"green\",\"green\",\"green\",\"green\",\"green\",\"green\",\"green\",\"green\",\"green\",\"green\",\"green\",\"green\",\"green\",\"green\",\"green\",\"green\",\"green\",\"green\",\"green\",\"green\",\"green\",\"green\",\"green\",\"green\",\"green\",\"green\",\"green\",\"green\",\"green\",\"green\",\"green\",\"green\",\"green\",\"green\",\"green\",\"green\",\"green\",\"green\",\"green\",\"green\",\"green\",\"green\",\"green\",\"green\",\"green\",\"green\",\"green\",\"green\",\"green\",\"green\",\"green\",\"green\",\"green\",\"green\",\"green\",\"green\",\"green\",\"green\",\"green\",\"green\",\"green\",\"green\",\"green\",\"green\",\"green\",\"green\",\"green\",\"green\",\"green\",\"green\",\"green\",\"green\",\"green\",\"green\",\"green\",\"green\",\"green\",\"green\",\"green\",\"green\",\"green\",\"green\",\"green\",\"green\",\"green\",\"green\",\"green\",\"green\",\"green\",\"green\",\"green\",\"green\",\"green\",\"green\",\"green\",\"green\",\"green\",\"green\",\"green\",\"green\",\"green\",\"green\",\"green\",\"green\",\"green\",\"green\",\"green\",\"green\",\"green\",\"green\",\"green\",\"green\",\"green\",\"green\",\"green\",\"green\",\"green\",\"green\",\"green\",\"green\",\"green\",\"green\",\"green\",\"green\",\"green\",\"green\",\"green\",\"green\",\"green\",\"green\",\"green\",\"green\",\"green\",\"green\",\"green\",\"green\",\"green\",\"green\",\"green\",\"green\",\"green\",\"green\",\"green\",\"green\",\"green\",\"green\",\"green\",\"green\",\"green\",\"green\",\"green\",\"green\",\"green\",\"green\",\"green\",\"green\",\"green\",\"green\",\"green\",\"green\",\"green\",\"green\",\"green\",\"green\",\"green\",\"green\",\"green\",\"green\",\"green\",\"green\",\"green\",\"green\",\"green\",\"green\",\"green\",\"green\",\"green\",\"green\",\"green\",\"green\",\"green\",\"green\",\"green\",\"green\",\"green\",\"green\",\"green\",\"green\",\"green\",\"green\",\"green\",\"green\",\"green\",\"green\",\"green\",\"green\",\"green\",\"green\",\"green\",\"green\",\"green\",\"green\",\"green\",\"green\",\"green\",\"green\",\"green\",\"green\",\"green\",\"green\",\"green\",\"green\",\"green\",\"green\",\"green\",\"green\",\"green\",\"green\",\"green\",\"green\",\"green\",\"green\",\"green\",\"green\",\"green\",\"green\",\"green\",\"green\",\"green\",\"green\",\"green\",\"green\",\"green\",\"green\",\"green\",\"green\",\"green\",\"green\",\"green\",\"green\",\"green\",\"green\",\"green\",\"green\",\"green\",\"green\",\"green\",\"green\",\"green\",\"green\",\"green\",\"green\",\"green\",\"green\",\"green\",\"green\",\"green\",\"green\",\"green\",\"green\",\"green\",\"green\",\"green\",\"green\",\"green\",\"green\",\"green\",\"green\",\"green\",\"green\",\"green\",\"green\",\"green\",\"green\",\"green\",\"green\",\"green\",\"green\",\"green\",\"green\",\"green\",\"green\",\"green\",\"green\",\"green\",\"green\",\"green\",\"green\",\"green\",\"green\",\"green\",\"green\",\"green\",\"green\",\"green\",\"green\",\"green\",\"green\",\"green\",\"green\",\"green\",\"green\",\"green\",\"green\",\"green\",\"green\",\"green\",\"green\",\"green\",\"green\",\"green\",\"green\",\"green\",\"green\",\"green\",\"green\",\"green\",\"green\",\"green\",\"green\",\"green\",\"green\",\"green\",\"green\",\"green\",\"green\",\"green\",\"green\",\"green\",\"green\",\"green\",\"green\",\"green\",\"green\",\"green\",\"green\",\"green\",\"green\",\"green\",\"green\",\"green\",\"green\",\"green\",\"green\",\"green\",\"green\",\"green\",\"green\",\"green\",\"green\",\"green\",\"green\",\"green\",\"green\",\"green\",\"green\",\"green\",\"green\",\"green\",\"green\",\"green\",\"green\",\"green\",\"green\",\"green\",\"green\",\"green\",\"green\",\"green\",\"green\",\"green\",\"green\",\"green\",\"green\",\"green\",\"green\",\"green\",\"green\",\"green\",\"green\",\"green\",\"green\",\"green\",\"green\",\"green\",\"green\",\"green\",\"green\",\"green\",\"green\",\"green\",\"green\",\"green\",\"green\",\"green\",\"green\",\"green\",\"green\",\"green\",\"green\",\"green\",\"green\",\"green\",\"green\",\"green\",\"green\",\"green\",\"green\",\"green\",\"green\",\"green\",\"green\",\"green\",\"green\",\"green\",\"green\",\"green\",\"green\",\"green\",\"green\",\"green\",\"green\",\"green\",\"green\",\"green\",\"green\",\"green\",\"green\",\"green\",\"green\",\"green\",\"green\",\"green\",\"green\",\"green\",\"green\",\"green\",\"green\",\"green\",\"green\",\"green\",\"green\",\"green\",\"green\",\"green\",\"green\",\"green\",\"green\",\"green\",\"green\",\"green\",\"green\",\"green\",\"green\",\"green\",\"green\",\"green\",\"green\",\"green\",\"green\",\"green\",\"green\",\"green\",\"green\",\"green\",\"green\",\"green\",\"green\",\"green\",\"green\",\"green\",\"green\",\"green\",\"green\",\"green\",\"green\",\"green\",\"green\",\"green\",\"green\",\"green\",\"green\",\"green\",\"green\",\"green\",\"green\",\"green\",\"green\",\"green\",\"green\",\"green\",\"green\",\"green\",\"green\",\"green\",\"green\",\"green\",\"green\",\"green\",\"green\",\"green\",\"green\",\"green\",\"green\",\"green\",\"green\",\"green\",\"green\",\"green\",\"green\",\"green\",\"green\",\"green\",\"green\",\"green\",\"green\",\"green\",\"green\",\"green\",\"green\",\"green\",\"green\",\"green\",\"green\",\"green\",\"green\",\"green\",\"green\",\"green\",\"green\",\"green\",\"green\",\"green\",\"green\",\"green\",\"green\",\"green\",\"green\",\"green\",\"green\",\"green\",\"green\",\"green\",\"green\",\"green\",\"green\",\"green\",\"green\",\"green\",\"green\",\"green\",\"green\",\"green\",\"green\",\"green\",\"green\",\"green\",\"green\",\"green\",\"green\",\"green\",\"green\",\"green\",\"green\",\"green\",\"green\",\"green\",\"green\",\"green\",\"green\",\"green\",\"green\",\"green\",\"green\",\"green\",\"green\",\"green\",\"green\",\"green\",\"green\",\"green\",\"green\",\"green\",\"green\",\"green\",\"green\",\"green\",\"green\",\"green\",\"green\",\"green\",\"green\",\"green\",\"green\",\"green\",\"green\",\"green\",\"green\",\"green\",\"green\",\"green\",\"green\",\"green\",\"green\",\"green\",\"green\",\"green\",\"green\",\"green\",\"green\",\"green\",\"green\",\"green\",\"green\",\"green\",\"green\",\"green\",\"green\",\"green\",\"green\",\"green\",\"green\",\"green\",\"green\",\"green\",\"green\",\"green\",\"green\",\"green\",\"green\",\"green\",\"green\",\"green\",\"green\",\"green\",\"green\",\"green\",\"green\",\"green\",\"green\",\"green\",\"green\",\"green\",\"green\",\"green\",\"green\",\"green\",\"green\",\"green\",\"green\",\"green\",\"green\",\"green\",\"green\",\"green\",\"green\",\"green\",\"green\",\"green\",\"green\",\"green\",\"green\",\"green\",\"green\",\"green\",\"green\",\"green\",\"green\",\"green\",\"green\",\"green\",\"green\",\"green\",\"green\",\"green\",\"green\",\"green\",\"green\",\"green\",\"green\",\"green\",\"green\",\"green\",\"green\",\"green\",\"green\",\"green\",\"green\",\"green\",\"green\",\"green\",\"green\",\"green\",\"green\",\"green\",\"green\",\"green\",\"green\",\"green\",\"green\",\"green\",\"green\",\"green\",\"green\",\"green\",\"green\",\"green\",\"green\",\"green\",\"green\",\"green\",\"green\",\"green\",\"green\",\"green\",\"green\",\"green\",\"green\",\"green\",\"green\",\"green\",\"green\",\"green\",\"green\",\"green\",\"green\",\"green\",\"green\",\"green\",\"green\",\"green\",\"green\",\"green\",\"green\",\"green\",\"green\",\"green\",\"green\",\"green\",\"green\",\"green\",\"green\",\"green\",\"green\",\"green\",\"green\",\"green\",\"green\",\"green\",\"green\",\"green\",\"green\",\"green\",\"green\",\"green\",\"green\",\"green\",\"green\",\"green\",\"green\",\"green\",\"green\",\"green\",\"green\",\"green\",\"green\",\"green\",\"green\",\"green\",\"green\",\"green\",\"green\",\"green\",\"green\",\"green\",\"green\",\"green\",\"green\",\"green\",\"green\",\"green\",\"green\",\"green\",\"green\",\"green\",\"green\",\"green\",\"green\",\"green\",\"green\",\"green\",\"green\",\"green\",\"green\",\"green\",\"green\",\"green\",\"green\",\"green\",\"green\",\"green\",\"green\",\"green\",\"green\",\"green\",\"green\",\"green\",\"green\",\"green\",\"green\",\"green\",\"green\",\"green\",\"green\",\"green\",\"green\",\"green\",\"green\",\"green\",\"green\",\"green\",\"green\",\"green\",\"green\",\"green\",\"green\",\"green\",\"green\",\"green\",\"green\",\"green\",\"green\",\"green\",\"green\",\"green\",\"green\",\"green\",\"green\",\"green\",\"green\"]],[\"token\",[\"?\",\"the\",\"what\",\"is\",\"a\",\"i\",\"to\",\"in\",\"how\",\"of\",\"do\",\"are\",\"and\",\"for\",\"can\",\",\",\"you\",\"'\",\"why\",\".\",\"it\",\"my\",\"best\",\"does\",\"on\",\"or\",\"s\",\"if\",\"have\",\"be\",\"with\",\"which\",\"that\",\"an\",\"some\",\"-\",\"should\",\"get\",\"from\",\"\\\"\",\"your\",\"(\",\"like\",\"when\",\"at\",\"india\",\"good\",\"who\",\"there\",\"will\",\"as\",\"t\",\"people\",\"would\",\"not\",\"/\",\"about\",\"between\",\"one\",\"any\",\"we\",\"me\",\"where\",\"most\",\"did\",\"was\",\"by\",\"make\",\"so\",\"they\",\")\",\"this\",\"am\",\"after\",\"way\",\"has\",\"use\",\":\",\"much\",\"time\",\"life\",\"difference\",\"work\",\"their\",\"know\",\"many\",\"but\",\"all\",\"than\",\"more\",\"want\",\"quora\",\"someone\",\"learn\",\"find\",\"other\",\"think\",\"new\",\"better\",\"2\",\"job\",\"indian\",\"out\",\"m\",\"money\",\"year\",\"mean\",\"become\",\"he\",\"ever\",\"world\",\"up\",\"start\",\"without\",\"us\",\"1\",\"first\",\"take\",\"don\",\"feel\",\"into\",\")?\",\"go\",\"online\",\"used\",\"engineering\",\"love\",\"day\",\"person\",\"could\",\"3\",\"possible\",\"were\",\"her\",\"buy\",\"things\",\"being\",\"his\",\"business\",\"need\",\"old\",\"them\",\"using\",\"5\",\"girl\",\"trump\",\"really\",\"\\\"?\",\"years\",\"long\",\"google\",\"different\",\"phone\",\"company\",\"no\",\"only\",\"now\",\"been\",\"just\",\"2016\",\"app\",\"free\",\"college\",\"facebook\",\"she\",\"number\",\"books\",\"movie\",\"english\",\"book\",\"women\",\"account\",\"its\",\"still\",\"while\",\"change\",\"over\",\"computer\",\"ways\",\"had\",\"10\",\"data\",\"thing\",\"see\",\"country\",\"examples\",\"c\",\"school\",\"science\",\"android\",\"help\",\"live\",\"software\",\"language\",\"before\",\"same\",\"going\",\"bad\",\"sex\",\"4\",\"&\",\"student\",\"back\",\"stop\",\"university\",\"made\",\"math\",\"happen\",\"two\",\"study\",\"real\",\"our\",\"name\",\"system\",\"through\",\"say\",\"high\",\"top\",\"water\",\"website\",\"iphone\",\"during\",\"prepare\",\"men\",\"car\",\"questions\",\"black\",\"important\",\"companies\",\"give\",\"getting\",\"read\",\"anyone\",\"learning\",\"programming\",\"card\",\"war\",\"b\",\"exam\",\"movies\",\"then\",\"right\",\"even\",\"mobile\",\"him\",\"china\",\"cost\",\"x\",\"\\u2019\",\"friend\",\"working\",\"president\",\"donald\",\"doing\",\"under\",\"non\",\"question\",\"6\",\"come\",\"own\",\"career\",\"+\",\"experience\",\"friends\",\"word\",\"bank\",\"home\",\"man\",\"true\",\"guy\",\"web\",\"doesn\",\"usa\",\"hair\",\"video\",\"look\",\"having\",\"social\",\"off\",\"tell\",\"engineer\",\"write\",\"game\",\"interview\",\"earth\",\"service\",\"very\",\"girls\",\"government\",\"weight\",\"food\",\"human\",\"play\",\"students\",\"countries\",\"place\",\"ve\",\"u\",\"future\",\"improve\",\"class\",\"tv\",\"big\",\"days\",\"state\",\"7\",\"eat\",\"com\",\"done\",\"happens\",\"average\",\"process\",\"got\",\"e\",\"music\",\"white\",\"meaning\",\"relationship\",\"too\",\"last\",\"girlfriend\",\"create\",\"instagram\",\"history\",\"pay\",\"every\",\"windows\",\"delhi\",\"american\",\"watch\",\"body\",\"tech\",\"salary\",\"safe\",\"power\",\"hard\",\"laptop\",\"ask\",\"clinton\",\"age\",\"makes\",\"energy\",\"end\",\"each\",\"youtube\",\"lose\",\"worth\",\"great\",\"earn\",\"test\",\"god\",\"states\",\"against\",\"win\",\"mba\",\"market\",\"making\",\"keep\",\"hillary\",\"compare\",\"differences\",\"answer\",\"something\",\"tips\",\"java\",\"apply\",\"considered\",\"around\",\"myself\",\"never\",\"next\",\"mechanical\",\"8\",\"always\",\"month\",\"united\",\"another\",\"course\",\"jobs\",\"increase\",\"download\",\"$\",\"such\",\"song\",\"internet\",\"parents\",\"design\",\"code\",\"woman\",\"common\",\"kind\",\"chinese\",\"review\",\"per\",\"series\",\"open\",\"interesting\",\"employees\",\"development\",\"type\",\"degree\",\"looking\",\"score\",\"living\",\"show\",\"management\",\"months\",\"travel\",\"able\",\"believe\",\"program\",\"well\",\"light\",\"because\",\"bangalore\",\".?\",\"law\",\"family\",\"pakistan\",\"favorite\",\"america\",\"marketing\",\"major\",\"today\",\"universities\",\"actually\",\"re\",\"0\",\"2017\",\"space\",\"cat\",\"call\",\"air\",\"technology\",\"based\",\"whatsapp\",\"%\",\"affect\",\"idea\",\"build\",\"current\",\"popular\",\"speed\",\"self\",\"problem\",\"support\",\"run\",\"visa\",\"choose\",\"down\",\"deal\",\"games\",\"rid\",\"join\",\"boyfriend\",\"house\",\"city\",\"jee\",\"mind\",\"iit\",\"site\",\"both\",\"services\",\"exist\",\"available\",\"etc\",\"civil\",\"date\",\"culture\",\"normal\",\"small\",\"order\",\"also\",\"product\",\"apple\",\"apps\",\"wrong\",\"given\",\"amazon\",\"ms\",\"places\",\"songs\",\"wear\",\"project\",\"value\",\"international\",\"main\",\"differ\",\"canada\",\"research\",\"part\",\"behind\",\"post\",\"uk\",\"]\",\"public\",\"media\",\"level\",\"happened\",\"[\",\"^\",\"education\",\"email\",\"reason\",\"cause\",\"less\",\"sleep\",\"startup\",\"websites\",\"benefits\",\"these\",\"list\",\"instead\",\"medical\",\"die\",\"child\",\"physics\",\"skills\",\"times\",\"called\",\"form\",\"visit\",\"health\",\"=\",\"hate\",\"worst\",\"causes\",\"didn\",\"control\",\"legal\",\"police\",\"face\",\"products\",\"mumbai\",\"stay\",\"terms\",\"application\",\"facts\",\"sites\",\"rate\",\"field\",\"sell\",\"story\",\"machine\",\"file\",\"seen\",\"dog\",\"500\",\"humans\",\"private\",\"9\",\"required\",\"stock\",\"notes\",\"gate\",\"modi\",\"single\",\"100\",\"low\",\"full\",\"asked\",\"biggest\",\"point\",\"writing\",\"children\",\"night\",\"20\",\"invest\",\"indians\",\"problems\",\"move\",\"rs\",\"side\",\"2015\",\"anything\",\"put\",\"successful\",\"remove\",\"won\",\"death\",\"others\",\"answers\",\"theory\",\"12\",\"talk\",\"ideas\",\"compared\",\"marks\",\"plan\",\"group\",\"advantages\",\"hours\",\"000\",\"similar\",\"sentence\",\"1000\",\"tax\",\"institute\",\"add\",\"again\",\"effects\",\"famous\",\"australia\",\"coaching\",\"15\",\"d\",\"correct\",\"function\",\"solve\",\"credit\",\"center\",\"known\",\"lot\",\"send\",\"set\",\"germany\",\"south\",\"guys\",\"force\",\"ex\",\"training\",\"offer\",\"developer\",\"term\",\"star\",\"left\",\"videos\",\"universe\",\"foreign\",\"daily\",\"fall\",\"information\",\"industry\",\"studying\",\"colleges\",\"period\",\"oil\",\"model\",\"graduate\",\"says\",\"area\",\"must\",\"general\",\"quality\",\"python\",\"size\",\"near\",\"drive\",\"n\",\"blood\",\"majors\",\"price\",\"yourself\",\"related\",\"search\",\"week\",\"words\",\"enough\",\"cons\",\"kill\",\"marriage\",\"fast\",\"party\",\"pros\",\"courses\",\"found\",\"often\",\"leave\",\"follow\",\"purpose\",\"grow\",\"russia\",\"male\",\"short\",\"isn\",\"started\",\"network\",\"fix\",\"advice\",\"store\",\"mass\",\"types\",\"turn\",\"married\",\"text\",\"brain\",\"password\",\"taking\",\"those\",\"female\",\"second\",\"team\",\"page\",\"line\",\"dark\",\"share\",\"numbers\",\"effective\",\"digital\",\"red\",\"three\",\"americans\",\"cell\",\"pc\",\"election\",\"office\",\"matter\",\"master\",\"view\",\"fat\",\"delete\",\"economy\",\"source\",\"security\",\"role\",\"ca\",\"easy\",\"\\u201c\",\"since\",\"few\",\"preparation\",\"happy\",\"options\",\"away\",\"said\",\"30\",\"north\",\"effect\",\"check\",\"admission\",\"chemical\",\"uber\",\"lost\",\"ios\",\"care\",\"electrical\",\"japanese\",\"profile\",\"wife\",\"dream\",\"understand\",\"difficult\",\"exams\",\"try\",\"paper\",\"religion\",\"investment\",\"convert\",\"alcohol\",\"past\",\"):\",\"letter\",\"hotel\",\"develop\",\"dogs\",\"beautiful\",\"japan\",\"exactly\",\"personal\",\"languages\",\"eating\",\"hyderabad\",\"topics\",\"vs\",\"net\",\"calculate\",\"explain\",\"british\",\"twitter\",\"green\",\"boy\",\"news\",\"political\",\"basic\",\"film\",\"drug\",\"transfer\",\"fight\",\"rank\",\"california\",\"army\",\"please\",\"national\",\"let\",\"pune\",\"porn\",\"contact\",\"pro\",\"scope\",\"note\",\"once\",\"paid\",\"address\",\"avoid\",\"smart\",\"gain\",\"europe\",\"'?\",\"wants\",\"engine\",\"reasons\",\"phd\",\"bollywood\",\"income\",\"obama\",\"currently\",\"samsung\",\"season\",\"hindi\",\"officer\",\"everyone\",\"reading\",\"reduce\",\"military\",\"11\",\"chances\",\"meet\",\"ias\",\"option\",\"users\",\"everything\",\"knowledge\",\"across\",\"overcome\",\"solar\",\"else\",\"50\",\"internship\",\"message\",\"muslim\",\"gay\",\"charge\",\"sim\",\"moon\",\"yes\",\"microsoft\",\"due\",\"sound\",\"photos\",\"pass\",\"disadvantages\",\"balance\",\"faster\",\"financial\",\"muslims\",\"pregnant\",\"taken\",\"screen\",\"break\",\"hack\",\"healthy\",\"animals\",\"pain\",\"systems\",\"singapore\",\"messages\",\"16\",\"natural\",\"skin\",\"amount\",\"color\",\"special\",\"board\",\"interested\",\"case\",\"chance\",\"names\",\"sun\",\"hand\",\"height\",\"drink\",\"professional\",\"passport\",\"structure\",\"french\",\"created\",\"german\",\"percentage\",\"useful\",\"already\",\"mother\",\"middle\",\"modern\",\"crush\",\"linux\",\"user\",\"dating\",\"likes\",\"blue\",\"battery\",\"access\",\"train\",\"starting\",\"interest\",\"presidential\",\"written\",\"coming\",\"install\",\"negative\",\"camera\",\"recover\",\"least\",\"provide\",\"thinking\",\"studies\",\"cold\",\"football\",\"rich\",\"prime\",\"solution\",\"expect\",\"vote\",\"mac\",\"following\",\"buying\",\"spend\",\"gift\",\"resources\",\"jio\",\"running\",\"brand\",\"cs\",\"\\\\\",\"pressure\",\"changed\",\"feeling\",\"character\",\"gmail\",\"allowed\",\"marry\",\"shows\",\"within\",\"society\",\"islam\",\"speak\",\"eyes\",\"snapchat\",\"laws\",\"yet\",\"impact\",\"schools\",\"final\",\"bill\",\"fake\",\"save\",\"likely\",\"nuclear\",\"though\",\"capital\",\"{\",\"determine\",\"neet\",\"chemistry\",\"doctor\",\"cut\",\"picture\",\"applications\",\"manager\",\"husband\",\"kids\",\"prefer\",\"young\",\"views\",\"stories\",\"father\",\"device\",\"g\",\"gold\",\"iq\",\"personality\",\"inside\",\"galaxy\",\"projects\",\"18\",\"r\",\"blog\",\"strategy\",\"greatest\",\"cse\",\"illegal\",\"currency\",\"abroad\",\"technical\",\"crack\",\"art\",\"pursue\",\"alone\",\"recruit\",\"works\",\"memory\",\"higher\",\"growth\",\"example\",\"consider\",\"dead\",\"depression\",\"head\",\"insurance\",\"necessary\",\"wifi\"]]]}}},\"view\":{\"type\":\"object\",\"name\":\"CDSView\",\"id\":\"p1208\",\"attributes\":{\"filter\":{\"type\":\"object\",\"name\":\"AllIndices\",\"id\":\"p1209\"}}},\"glyph\":{\"type\":\"object\",\"name\":\"Scatter\",\"id\":\"p1204\",\"attributes\":{\"x\":{\"type\":\"field\",\"field\":\"x\"},\"y\":{\"type\":\"field\",\"field\":\"y\"},\"size\":{\"type\":\"value\",\"value\":10},\"line_color\":{\"type\":\"field\",\"field\":\"color\"},\"line_alpha\":{\"type\":\"value\",\"value\":0.25},\"fill_color\":{\"type\":\"field\",\"field\":\"color\"},\"fill_alpha\":{\"type\":\"value\",\"value\":0.25},\"hatch_color\":{\"type\":\"field\",\"field\":\"color\"},\"hatch_alpha\":{\"type\":\"value\",\"value\":0.25}}},\"nonselection_glyph\":{\"type\":\"object\",\"name\":\"Scatter\",\"id\":\"p1205\",\"attributes\":{\"x\":{\"type\":\"field\",\"field\":\"x\"},\"y\":{\"type\":\"field\",\"field\":\"y\"},\"size\":{\"type\":\"value\",\"value\":10},\"line_color\":{\"type\":\"field\",\"field\":\"color\"},\"line_alpha\":{\"type\":\"value\",\"value\":0.1},\"fill_color\":{\"type\":\"field\",\"field\":\"color\"},\"fill_alpha\":{\"type\":\"value\",\"value\":0.1},\"hatch_color\":{\"type\":\"field\",\"field\":\"color\"},\"hatch_alpha\":{\"type\":\"value\",\"value\":0.1}}},\"muted_glyph\":{\"type\":\"object\",\"name\":\"Scatter\",\"id\":\"p1206\",\"attributes\":{\"x\":{\"type\":\"field\",\"field\":\"x\"},\"y\":{\"type\":\"field\",\"field\":\"y\"},\"size\":{\"type\":\"value\",\"value\":10},\"line_color\":{\"type\":\"field\",\"field\":\"color\"},\"line_alpha\":{\"type\":\"value\",\"value\":0.2},\"fill_color\":{\"type\":\"field\",\"field\":\"color\"},\"fill_alpha\":{\"type\":\"value\",\"value\":0.2},\"hatch_color\":{\"type\":\"field\",\"field\":\"color\"},\"hatch_alpha\":{\"type\":\"value\",\"value\":0.2}}}}}],\"toolbar\":{\"type\":\"object\",\"name\":\"Toolbar\",\"id\":\"p1162\",\"attributes\":{\"tools\":[{\"type\":\"object\",\"name\":\"PanTool\",\"id\":\"p1186\"},{\"type\":\"object\",\"name\":\"WheelZoomTool\",\"id\":\"p1187\"},{\"type\":\"object\",\"name\":\"BoxZoomTool\",\"id\":\"p1188\",\"attributes\":{\"overlay\":{\"type\":\"object\",\"name\":\"BoxAnnotation\",\"id\":\"p1189\",\"attributes\":{\"syncable\":false,\"level\":\"overlay\",\"visible\":false,\"left_units\":\"canvas\",\"right_units\":\"canvas\",\"bottom_units\":\"canvas\",\"top_units\":\"canvas\",\"line_color\":\"black\",\"line_alpha\":1.0,\"line_width\":2,\"line_dash\":[4,4],\"fill_color\":\"lightgrey\",\"fill_alpha\":0.5}}}},{\"type\":\"object\",\"name\":\"SaveTool\",\"id\":\"p1190\"},{\"type\":\"object\",\"name\":\"ResetTool\",\"id\":\"p1191\"},{\"type\":\"object\",\"name\":\"HelpTool\",\"id\":\"p1192\"},{\"type\":\"object\",\"name\":\"HoverTool\",\"id\":\"p1210\",\"attributes\":{\"renderers\":\"auto\",\"tooltips\":[[\"token\",\"@token\"]]}}],\"active_scroll\":{\"id\":\"p1187\"}}},\"left\":[{\"type\":\"object\",\"name\":\"LinearAxis\",\"id\":\"p1179\",\"attributes\":{\"ticker\":{\"type\":\"object\",\"name\":\"BasicTicker\",\"id\":\"p1180\",\"attributes\":{\"mantissas\":[1,2,5]}},\"formatter\":{\"type\":\"object\",\"name\":\"BasicTickFormatter\",\"id\":\"p1182\"},\"major_label_policy\":{\"type\":\"object\",\"name\":\"AllLabels\",\"id\":\"p1181\"}}}],\"below\":[{\"type\":\"object\",\"name\":\"LinearAxis\",\"id\":\"p1172\",\"attributes\":{\"ticker\":{\"type\":\"object\",\"name\":\"BasicTicker\",\"id\":\"p1173\",\"attributes\":{\"mantissas\":[1,2,5]}},\"formatter\":{\"type\":\"object\",\"name\":\"BasicTickFormatter\",\"id\":\"p1175\"},\"major_label_policy\":{\"type\":\"object\",\"name\":\"AllLabels\",\"id\":\"p1174\"}}}],\"center\":[{\"type\":\"object\",\"name\":\"Grid\",\"id\":\"p1178\",\"attributes\":{\"axis\":{\"id\":\"p1172\"}}},{\"type\":\"object\",\"name\":\"Grid\",\"id\":\"p1185\",\"attributes\":{\"dimension\":1,\"axis\":{\"id\":\"p1179\"}}}]}}]}};\n  const render_items = [{\"docid\":\"2a89a5fe-5efe-4f24-8b9a-caf65fa40c2e\",\"roots\":{\"p1155\":\"bea27e31-4ad5-4459-8151-36babd7c8703\"},\"root_ids\":[\"p1155\"]}];\n  root.Bokeh.embed.embed_items_notebook(docs_json, render_items);\n  }\n  if (root.Bokeh !== undefined) {\n    embed_document(root);\n  } else {\n    let attempts = 0;\n    const timer = setInterval(function(root) {\n      if (root.Bokeh !== undefined) {\n        clearInterval(timer);\n        embed_document(root);\n      } else {\n        attempts++;\n        if (attempts > 100) {\n          clearInterval(timer);\n          console.log(\"Bokeh: ERROR: Unable to run BokehJS code because BokehJS library is missing\");\n        }\n      }\n    }, 10, root)\n  }\n})(window);",
      "application/vnd.bokehjs_exec.v0+json": ""
     },
     "metadata": {
      "application/vnd.bokehjs_exec.v0+json": {
       "id": "p1155"
      }
     },
     "output_type": "display_data"
    },
    {
     "data": {
      "text/plain": "figure(id='p1155', ...)",
      "text/html": "<div style=\"display: table;\"><div style=\"display: table-row;\"><div style=\"display: table-cell;\"><b title=\"bokeh.plotting._figure.figure\">figure</b>(</div><div style=\"display: table-cell;\">id&nbsp;=&nbsp;'p1155', <span id=\"p1313\" style=\"cursor: pointer;\">&hellip;)</span></div></div><div class=\"p1312\" style=\"display: none;\"><div style=\"display: table-cell;\"></div><div style=\"display: table-cell;\">above&nbsp;=&nbsp;[],</div></div><div class=\"p1312\" style=\"display: none;\"><div style=\"display: table-cell;\"></div><div style=\"display: table-cell;\">align&nbsp;=&nbsp;'auto',</div></div><div class=\"p1312\" style=\"display: none;\"><div style=\"display: table-cell;\"></div><div style=\"display: table-cell;\">aspect_ratio&nbsp;=&nbsp;None,</div></div><div class=\"p1312\" style=\"display: none;\"><div style=\"display: table-cell;\"></div><div style=\"display: table-cell;\">aspect_scale&nbsp;=&nbsp;1,</div></div><div class=\"p1312\" style=\"display: none;\"><div style=\"display: table-cell;\"></div><div style=\"display: table-cell;\">background_fill_alpha&nbsp;=&nbsp;1.0,</div></div><div class=\"p1312\" style=\"display: none;\"><div style=\"display: table-cell;\"></div><div style=\"display: table-cell;\">background_fill_color&nbsp;=&nbsp;'#ffffff',</div></div><div class=\"p1312\" style=\"display: none;\"><div style=\"display: table-cell;\"></div><div style=\"display: table-cell;\">below&nbsp;=&nbsp;[LinearAxis(id='p1172', ...)],</div></div><div class=\"p1312\" style=\"display: none;\"><div style=\"display: table-cell;\"></div><div style=\"display: table-cell;\">border_fill_alpha&nbsp;=&nbsp;1.0,</div></div><div class=\"p1312\" style=\"display: none;\"><div style=\"display: table-cell;\"></div><div style=\"display: table-cell;\">border_fill_color&nbsp;=&nbsp;'#ffffff',</div></div><div class=\"p1312\" style=\"display: none;\"><div style=\"display: table-cell;\"></div><div style=\"display: table-cell;\">center&nbsp;=&nbsp;[Grid(id='p1178', ...), Grid(id='p1185', ...)],</div></div><div class=\"p1312\" style=\"display: none;\"><div style=\"display: table-cell;\"></div><div style=\"display: table-cell;\">classes&nbsp;=&nbsp;[],</div></div><div class=\"p1312\" style=\"display: none;\"><div style=\"display: table-cell;\"></div><div style=\"display: table-cell;\">context_menu&nbsp;=&nbsp;None,</div></div><div class=\"p1312\" style=\"display: none;\"><div style=\"display: table-cell;\"></div><div style=\"display: table-cell;\">css_classes&nbsp;=&nbsp;[],</div></div><div class=\"p1312\" style=\"display: none;\"><div style=\"display: table-cell;\"></div><div style=\"display: table-cell;\">disabled&nbsp;=&nbsp;False,</div></div><div class=\"p1312\" style=\"display: none;\"><div style=\"display: table-cell;\"></div><div style=\"display: table-cell;\">extra_x_ranges&nbsp;=&nbsp;{},</div></div><div class=\"p1312\" style=\"display: none;\"><div style=\"display: table-cell;\"></div><div style=\"display: table-cell;\">extra_x_scales&nbsp;=&nbsp;{},</div></div><div class=\"p1312\" style=\"display: none;\"><div style=\"display: table-cell;\"></div><div style=\"display: table-cell;\">extra_y_ranges&nbsp;=&nbsp;{},</div></div><div class=\"p1312\" style=\"display: none;\"><div style=\"display: table-cell;\"></div><div style=\"display: table-cell;\">extra_y_scales&nbsp;=&nbsp;{},</div></div><div class=\"p1312\" style=\"display: none;\"><div style=\"display: table-cell;\"></div><div style=\"display: table-cell;\">flow_mode&nbsp;=&nbsp;'block',</div></div><div class=\"p1312\" style=\"display: none;\"><div style=\"display: table-cell;\"></div><div style=\"display: table-cell;\">frame_align&nbsp;=&nbsp;True,</div></div><div class=\"p1312\" style=\"display: none;\"><div style=\"display: table-cell;\"></div><div style=\"display: table-cell;\">frame_height&nbsp;=&nbsp;None,</div></div><div class=\"p1312\" style=\"display: none;\"><div style=\"display: table-cell;\"></div><div style=\"display: table-cell;\">frame_width&nbsp;=&nbsp;None,</div></div><div class=\"p1312\" style=\"display: none;\"><div style=\"display: table-cell;\"></div><div style=\"display: table-cell;\">height&nbsp;=&nbsp;400,</div></div><div class=\"p1312\" style=\"display: none;\"><div style=\"display: table-cell;\"></div><div style=\"display: table-cell;\">height_policy&nbsp;=&nbsp;'auto',</div></div><div class=\"p1312\" style=\"display: none;\"><div style=\"display: table-cell;\"></div><div style=\"display: table-cell;\">hidpi&nbsp;=&nbsp;True,</div></div><div class=\"p1312\" style=\"display: none;\"><div style=\"display: table-cell;\"></div><div style=\"display: table-cell;\">hold_render&nbsp;=&nbsp;False,</div></div><div class=\"p1312\" style=\"display: none;\"><div style=\"display: table-cell;\"></div><div style=\"display: table-cell;\">inner_height&nbsp;=&nbsp;0,</div></div><div class=\"p1312\" style=\"display: none;\"><div style=\"display: table-cell;\"></div><div style=\"display: table-cell;\">inner_width&nbsp;=&nbsp;0,</div></div><div class=\"p1312\" style=\"display: none;\"><div style=\"display: table-cell;\"></div><div style=\"display: table-cell;\">js_event_callbacks&nbsp;=&nbsp;{},</div></div><div class=\"p1312\" style=\"display: none;\"><div style=\"display: table-cell;\"></div><div style=\"display: table-cell;\">js_property_callbacks&nbsp;=&nbsp;{},</div></div><div class=\"p1312\" style=\"display: none;\"><div style=\"display: table-cell;\"></div><div style=\"display: table-cell;\">left&nbsp;=&nbsp;[LinearAxis(id='p1179', ...)],</div></div><div class=\"p1312\" style=\"display: none;\"><div style=\"display: table-cell;\"></div><div style=\"display: table-cell;\">lod_factor&nbsp;=&nbsp;10,</div></div><div class=\"p1312\" style=\"display: none;\"><div style=\"display: table-cell;\"></div><div style=\"display: table-cell;\">lod_interval&nbsp;=&nbsp;300,</div></div><div class=\"p1312\" style=\"display: none;\"><div style=\"display: table-cell;\"></div><div style=\"display: table-cell;\">lod_threshold&nbsp;=&nbsp;2000,</div></div><div class=\"p1312\" style=\"display: none;\"><div style=\"display: table-cell;\"></div><div style=\"display: table-cell;\">lod_timeout&nbsp;=&nbsp;500,</div></div><div class=\"p1312\" style=\"display: none;\"><div style=\"display: table-cell;\"></div><div style=\"display: table-cell;\">margin&nbsp;=&nbsp;None,</div></div><div class=\"p1312\" style=\"display: none;\"><div style=\"display: table-cell;\"></div><div style=\"display: table-cell;\">match_aspect&nbsp;=&nbsp;False,</div></div><div class=\"p1312\" style=\"display: none;\"><div style=\"display: table-cell;\"></div><div style=\"display: table-cell;\">max_height&nbsp;=&nbsp;None,</div></div><div class=\"p1312\" style=\"display: none;\"><div style=\"display: table-cell;\"></div><div style=\"display: table-cell;\">max_width&nbsp;=&nbsp;None,</div></div><div class=\"p1312\" style=\"display: none;\"><div style=\"display: table-cell;\"></div><div style=\"display: table-cell;\">min_border&nbsp;=&nbsp;5,</div></div><div class=\"p1312\" style=\"display: none;\"><div style=\"display: table-cell;\"></div><div style=\"display: table-cell;\">min_border_bottom&nbsp;=&nbsp;None,</div></div><div class=\"p1312\" style=\"display: none;\"><div style=\"display: table-cell;\"></div><div style=\"display: table-cell;\">min_border_left&nbsp;=&nbsp;None,</div></div><div class=\"p1312\" style=\"display: none;\"><div style=\"display: table-cell;\"></div><div style=\"display: table-cell;\">min_border_right&nbsp;=&nbsp;None,</div></div><div class=\"p1312\" style=\"display: none;\"><div style=\"display: table-cell;\"></div><div style=\"display: table-cell;\">min_border_top&nbsp;=&nbsp;None,</div></div><div class=\"p1312\" style=\"display: none;\"><div style=\"display: table-cell;\"></div><div style=\"display: table-cell;\">min_height&nbsp;=&nbsp;None,</div></div><div class=\"p1312\" style=\"display: none;\"><div style=\"display: table-cell;\"></div><div style=\"display: table-cell;\">min_width&nbsp;=&nbsp;None,</div></div><div class=\"p1312\" style=\"display: none;\"><div style=\"display: table-cell;\"></div><div style=\"display: table-cell;\">name&nbsp;=&nbsp;None,</div></div><div class=\"p1312\" style=\"display: none;\"><div style=\"display: table-cell;\"></div><div style=\"display: table-cell;\">outer_height&nbsp;=&nbsp;0,</div></div><div class=\"p1312\" style=\"display: none;\"><div style=\"display: table-cell;\"></div><div style=\"display: table-cell;\">outer_width&nbsp;=&nbsp;0,</div></div><div class=\"p1312\" style=\"display: none;\"><div style=\"display: table-cell;\"></div><div style=\"display: table-cell;\">outline_line_alpha&nbsp;=&nbsp;1.0,</div></div><div class=\"p1312\" style=\"display: none;\"><div style=\"display: table-cell;\"></div><div style=\"display: table-cell;\">outline_line_cap&nbsp;=&nbsp;'butt',</div></div><div class=\"p1312\" style=\"display: none;\"><div style=\"display: table-cell;\"></div><div style=\"display: table-cell;\">outline_line_color&nbsp;=&nbsp;'#e5e5e5',</div></div><div class=\"p1312\" style=\"display: none;\"><div style=\"display: table-cell;\"></div><div style=\"display: table-cell;\">outline_line_dash&nbsp;=&nbsp;[],</div></div><div class=\"p1312\" style=\"display: none;\"><div style=\"display: table-cell;\"></div><div style=\"display: table-cell;\">outline_line_dash_offset&nbsp;=&nbsp;0,</div></div><div class=\"p1312\" style=\"display: none;\"><div style=\"display: table-cell;\"></div><div style=\"display: table-cell;\">outline_line_join&nbsp;=&nbsp;'bevel',</div></div><div class=\"p1312\" style=\"display: none;\"><div style=\"display: table-cell;\"></div><div style=\"display: table-cell;\">outline_line_width&nbsp;=&nbsp;1,</div></div><div class=\"p1312\" style=\"display: none;\"><div style=\"display: table-cell;\"></div><div style=\"display: table-cell;\">output_backend&nbsp;=&nbsp;'canvas',</div></div><div class=\"p1312\" style=\"display: none;\"><div style=\"display: table-cell;\"></div><div style=\"display: table-cell;\">renderers&nbsp;=&nbsp;[GlyphRenderer(id='p1207', ...)],</div></div><div class=\"p1312\" style=\"display: none;\"><div style=\"display: table-cell;\"></div><div style=\"display: table-cell;\">reset_policy&nbsp;=&nbsp;'standard',</div></div><div class=\"p1312\" style=\"display: none;\"><div style=\"display: table-cell;\"></div><div style=\"display: table-cell;\">resizable&nbsp;=&nbsp;False,</div></div><div class=\"p1312\" style=\"display: none;\"><div style=\"display: table-cell;\"></div><div style=\"display: table-cell;\">right&nbsp;=&nbsp;[],</div></div><div class=\"p1312\" style=\"display: none;\"><div style=\"display: table-cell;\"></div><div style=\"display: table-cell;\">sizing_mode&nbsp;=&nbsp;None,</div></div><div class=\"p1312\" style=\"display: none;\"><div style=\"display: table-cell;\"></div><div style=\"display: table-cell;\">styles&nbsp;=&nbsp;{},</div></div><div class=\"p1312\" style=\"display: none;\"><div style=\"display: table-cell;\"></div><div style=\"display: table-cell;\">stylesheets&nbsp;=&nbsp;[],</div></div><div class=\"p1312\" style=\"display: none;\"><div style=\"display: table-cell;\"></div><div style=\"display: table-cell;\">subscribed_events&nbsp;=&nbsp;PropertyValueSet(),</div></div><div class=\"p1312\" style=\"display: none;\"><div style=\"display: table-cell;\"></div><div style=\"display: table-cell;\">syncable&nbsp;=&nbsp;True,</div></div><div class=\"p1312\" style=\"display: none;\"><div style=\"display: table-cell;\"></div><div style=\"display: table-cell;\">tags&nbsp;=&nbsp;[],</div></div><div class=\"p1312\" style=\"display: none;\"><div style=\"display: table-cell;\"></div><div style=\"display: table-cell;\">title&nbsp;=&nbsp;Title(id='p1159', ...),</div></div><div class=\"p1312\" style=\"display: none;\"><div style=\"display: table-cell;\"></div><div style=\"display: table-cell;\">title_location&nbsp;=&nbsp;'above',</div></div><div class=\"p1312\" style=\"display: none;\"><div style=\"display: table-cell;\"></div><div style=\"display: table-cell;\">toolbar&nbsp;=&nbsp;Toolbar(id='p1162', ...),</div></div><div class=\"p1312\" style=\"display: none;\"><div style=\"display: table-cell;\"></div><div style=\"display: table-cell;\">toolbar_inner&nbsp;=&nbsp;False,</div></div><div class=\"p1312\" style=\"display: none;\"><div style=\"display: table-cell;\"></div><div style=\"display: table-cell;\">toolbar_location&nbsp;=&nbsp;'right',</div></div><div class=\"p1312\" style=\"display: none;\"><div style=\"display: table-cell;\"></div><div style=\"display: table-cell;\">toolbar_sticky&nbsp;=&nbsp;True,</div></div><div class=\"p1312\" style=\"display: none;\"><div style=\"display: table-cell;\"></div><div style=\"display: table-cell;\">visible&nbsp;=&nbsp;True,</div></div><div class=\"p1312\" style=\"display: none;\"><div style=\"display: table-cell;\"></div><div style=\"display: table-cell;\">width&nbsp;=&nbsp;600,</div></div><div class=\"p1312\" style=\"display: none;\"><div style=\"display: table-cell;\"></div><div style=\"display: table-cell;\">width_policy&nbsp;=&nbsp;'auto',</div></div><div class=\"p1312\" style=\"display: none;\"><div style=\"display: table-cell;\"></div><div style=\"display: table-cell;\">x_range&nbsp;=&nbsp;DataRange1d(id='p1157', ...),</div></div><div class=\"p1312\" style=\"display: none;\"><div style=\"display: table-cell;\"></div><div style=\"display: table-cell;\">x_scale&nbsp;=&nbsp;LinearScale(id='p1168', ...),</div></div><div class=\"p1312\" style=\"display: none;\"><div style=\"display: table-cell;\"></div><div style=\"display: table-cell;\">y_range&nbsp;=&nbsp;DataRange1d(id='p1156', ...),</div></div><div class=\"p1312\" style=\"display: none;\"><div style=\"display: table-cell;\"></div><div style=\"display: table-cell;\">y_scale&nbsp;=&nbsp;LinearScale(id='p1170', ...))</div></div></div>\n<script>\n(function() {\n  let expanded = false;\n  const ellipsis = document.getElementById(\"p1313\");\n  ellipsis.addEventListener(\"click\", function() {\n    const rows = document.getElementsByClassName(\"p1312\");\n    for (let i = 0; i < rows.length; i++) {\n      const el = rows[i];\n      el.style.display = expanded ? \"none\" : \"table-row\";\n    }\n    ellipsis.innerHTML = expanded ? \"&hellip;)\" : \"&lsaquo;&lsaquo;&lsaquo;\";\n    expanded = !expanded;\n  });\n})();\n</script>\n"
     },
     "execution_count": 36,
     "metadata": {},
     "output_type": "execute_result"
    }
   ],
   "source": [
    "draw_vectors(word_tsne[:, 0], word_tsne[:, 1], color='green', token=words)"
   ]
  },
  {
   "cell_type": "markdown",
   "metadata": {},
   "source": [
    "### Visualizing phrases\n",
    "\n",
    "Word embeddings can also be used to represent short phrases. The simplest way is to take __an average__ of vectors for all tokens in the phrase with some weights.\n",
    "\n",
    "This trick is useful to identify what data are you working with: find if there are any outliers, clusters or other artefacts.\n",
    "\n",
    "Let's try this new hammer on our data!\n"
   ]
  },
  {
   "cell_type": "code",
   "execution_count": 39,
   "metadata": {
    "collapsed": true
   },
   "outputs": [],
   "source": [
    "def get_phrase_embedding(phrase):\n",
    "    \"\"\"\n",
    "    Convert phrase to a vector by aggregating it's word embeddings. See description above.\n",
    "    \"\"\"\n",
    "    # 1. lowercase phrase\n",
    "    # 2. tokenize phrase\n",
    "    # 3. average word vectors for all words in tokenized phrase\n",
    "    # skip words that are not in model's vocabulary\n",
    "    # if all words are missing from vocabulary, return zeros\n",
    "\n",
    "    vector = np.zeros([model.vector_size], dtype='float32')\n",
    "\n",
    "    # YOUR CODE\n",
    "\n",
    "    return vector\n"
   ]
  },
  {
   "cell_type": "code",
   "execution_count": null,
   "metadata": {
    "collapsed": true,
    "pycharm": {
     "is_executing": true
    }
   },
   "outputs": [],
   "source": [
    "vector = get_phrase_embedding(\"I'm very sure. This never happened to me before...\")\n",
    "\n",
    "assert np.allclose(vector[::10],\n",
    "                   np.array([ 0.31807372, -0.02558171,  0.0933293 , -0.1002182 , -1.0278689 ,\n",
    "                             -0.16621883,  0.05083408,  0.17989802,  1.3701859 ,  0.08655966],\n",
    "                              dtype=np.float32))"
   ]
  },
  {
   "cell_type": "code",
   "execution_count": null,
   "metadata": {
    "collapsed": true
   },
   "outputs": [],
   "source": [
    "# let's only consider ~5k phrases for a first run.\n",
    "chosen_phrases = data[::len(data) // 1000]\n",
    "\n",
    "# compute vectors for chosen phrases\n",
    "phrase_vectors = # YOUR CODE"
   ]
  },
  {
   "cell_type": "code",
   "execution_count": null,
   "metadata": {
    "collapsed": true
   },
   "outputs": [],
   "source": [
    "assert isinstance(phrase_vectors, np.ndarray) and np.isfinite(phrase_vectors).all()\n",
    "assert phrase_vectors.shape == (len(chosen_phrases), model.vector_size)"
   ]
  },
  {
   "cell_type": "code",
   "execution_count": null,
   "metadata": {
    "collapsed": true
   },
   "outputs": [],
   "source": [
    "# map vectors into 2d space with pca, tsne or your other method of choice\n",
    "# don't forget to normalize\n",
    "\n",
    "phrase_vectors_2d = TSNE().fit_transform(phrase_vectors)\n",
    "\n",
    "phrase_vectors_2d = (phrase_vectors_2d - phrase_vectors_2d.mean(axis=0)) / phrase_vectors_2d.std(axis=0)"
   ]
  },
  {
   "cell_type": "code",
   "execution_count": null,
   "metadata": {
    "collapsed": true
   },
   "outputs": [],
   "source": [
    "draw_vectors(phrase_vectors_2d[:, 0], phrase_vectors_2d[:, 1],\n",
    "             phrase=[phrase[:50] for phrase in chosen_phrases],\n",
    "             radius=20,)"
   ]
  },
  {
   "cell_type": "markdown",
   "metadata": {},
   "source": [
    "Finally, let's build a simple \"similar question\" engine with phrase embeddings we've built."
   ]
  },
  {
   "cell_type": "code",
   "execution_count": null,
   "metadata": {
    "collapsed": true
   },
   "outputs": [],
   "source": [
    "# compute vector embedding for all lines in data\n",
    "data_vectors = np.array([get_phrase_embedding(l) for l in data])"
   ]
  },
  {
   "cell_type": "code",
   "execution_count": null,
   "metadata": {
    "collapsed": true
   },
   "outputs": [],
   "source": [
    "def find_nearest(query, k=10):\n",
    "    \"\"\"\n",
    "    given text line (query), return k most similar lines from data, sorted from most to least similar\n",
    "    similarity should be measured as cosine between query and line embedding vectors\n",
    "    hint: it's okay to use global variables: data and data_vectors. see also: np.argpartition, np.argsort\n",
    "    \"\"\"\n",
    "    # YOUR CODE\n",
    "    \n",
    "    return <YOUR CODE: top-k lines starting from most similar>"
   ]
  },
  {
   "cell_type": "code",
   "execution_count": null,
   "metadata": {
    "collapsed": true
   },
   "outputs": [],
   "source": [
    "results = find_nearest(query=\"How do i enter the matrix?\", k=10)\n",
    "\n",
    "print(''.join(results))\n",
    "\n",
    "assert len(results) == 10 and isinstance(results[0], str)\n",
    "assert results[0] == 'How do I get to the dark web?\\n'\n",
    "assert results[3] == 'What can I do to save the world?\\n'"
   ]
  },
  {
   "cell_type": "code",
   "execution_count": null,
   "metadata": {
    "collapsed": true
   },
   "outputs": [],
   "source": [
    "find_nearest(query=\"How does Trump?\", k=10)"
   ]
  },
  {
   "cell_type": "code",
   "execution_count": null,
   "metadata": {
    "collapsed": true
   },
   "outputs": [],
   "source": [
    "find_nearest(query=\"Why don't i ask a question myself?\", k=10)"
   ]
  },
  {
   "cell_type": "markdown",
   "metadata": {
    "collapsed": true
   },
   "source": [
    "__Now what?__\n",
    "* Try running TSNE on all data, not just 1000 phrases\n",
    "* See what other embeddings are there in the model zoo: `gensim.downloader.info()`\n",
    "* Take a look at [FastText](https://github.com/facebookresearch/fastText) embeddings\n",
    "* Optimize find_nearest with locality-sensitive hashing: use [nearpy](https://github.com/pixelogik/NearPy) or `sklearn.neighbors`."
   ]
  }
 ],
 "metadata": {
  "kernelspec": {
   "display_name": "Python 3",
   "language": "python",
   "name": "python3"
  },
  "language_info": {
   "codemirror_mode": {
    "name": "ipython",
    "version": 3
   },
   "file_extension": ".py",
   "mimetype": "text/x-python",
   "name": "python",
   "nbconvert_exporter": "python",
   "pygments_lexer": "ipython3",
   "version": "3.5.2"
  }
 },
 "nbformat": 4,
 "nbformat_minor": 2
}
