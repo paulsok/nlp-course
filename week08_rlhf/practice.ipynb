{
  "cells": [
    {
      "cell_type": "markdown",
      "metadata": {
        "id": "NvhPa7a59AIG"
      },
      "source": [
        "<font color=red>**Danger zone:**</font> you'll be fine-tuning a model to generate positive, negative or even toxic reviews. We'll be doing this for fun, but this is also the technique for [review bombing](https://en.wikipedia.org/wiki/Review_bomb), bot farms on social media and other less than dignified stuff. It is ultimately your decision how you apply this knowledge, but before you choose, ask yourself: is this why you chose to learn ML?\n",
        "\n",
        "\n",
        "# LLMs Alignment with Reinforcement Learning from human feedback (RLHF).\n",
        "\n",
        "_based on the [original notebook](https://github.com/antndlcrx/oxford-llms-workshop/blob/main/materials/seminars/day_3/8_LLMs%20alignment%20with%20RLHF.ipynb) by Ilya Boytsov for the Oxford LLMs workshop_\n",
        "\n"
      ]
    },
    {
      "cell_type": "markdown",
      "metadata": {
        "id": "bgfL4bSSAXan"
      },
      "source": [
        "In this session, you're gonna fine-tune a language model with reinforcement learning to make it generate good (or bad) reviews.\n",
        "\n",
        "To perform RL-based fine-tuning, we'll use a new (in this course) library called [Transformer Reinforcement Learning (TRL)](https://huggingface.co/docs/trl). TRL implements the main reinforcement learning components of RLHF: reward modeling and fine-tuning with PPO.\n",
        "\n",
        "![img](https://huggingface.co/datasets/trl-internal-testing/example-images/resolve/main/images/TRL-readme.png)"
      ]
    },
    {
      "cell_type": "markdown",
      "source": [],
      "metadata": {
        "id": "vfXJdSl5J28y"
      }
    },
    {
      "cell_type": "code",
      "source": [
        "%pip install -q trl==0.7.4 transformers==4.33.1 datasets peft==0.5.0"
      ],
      "metadata": {
        "id": "uADkArNHQDW6"
      },
      "execution_count": null,
      "outputs": []
    },
    {
      "cell_type": "markdown",
      "metadata": {
        "id": "8cJfrTbFYAx8"
      },
      "source": [
        "### Tutorial: align the model to generate positive movie reviews\n",
        "\n",
        "To see how TRL works, we'll use it to align GPT2 on IMDB dataset to generate positive (or negative) movie reviews. In fact, __it's your choice whether you want positive or negative reviews.__\n",
        "\n",
        "But before you choose, let's take a look at the baseline model: a GPT-2 fine-tuned on generating arbitrary movie reviews."
      ]
    },
    {
      "cell_type": "code",
      "source": [
        "import torch\n",
        "import transformers\n",
        "device = torch.device('cuda' if torch.cuda.is_available() else 'cpu')\n",
        "main_tokenizer = transformers.AutoTokenizer.from_pretrained(\"lvwerra/gpt2-imdb\")\n",
        "main_model = transformers.AutoModelForCausalLM.from_pretrained(\"lvwerra/gpt2-imdb\", device_map=device)"
      ],
      "metadata": {
        "id": "pHs22MXdPify"
      },
      "execution_count": null,
      "outputs": []
    },
    {
      "cell_type": "code",
      "source": [
        "inputs = main_tokenizer(\"The movie\", return_tensors='pt').to(device)\n",
        "generated_ids = main_model.generate(**inputs, max_new_tokens=50, do_sample=True)\n",
        "print(\"\\nGenerated text:\", main_tokenizer.decode(generated_ids.flatten().cpu().numpy().tolist()))"
      ],
      "metadata": {
        "id": "KE3jo7uhQrvK"
      },
      "execution_count": null,
      "outputs": []
    },
    {
      "cell_type": "markdown",
      "source": [
        "If you run this cell a couple of times, you'll see that the model generates both positive, negative and neutral reviews in some proportion. What we're gonna do next is teach the model to generate more positive (or negative) reviews.\n",
        "\n",
        "Similarly to InstructGPT, we're gonna do that in 2 stages:\n",
        "- **train a reward model** to assign higher values to positive (or negative) reviews\n",
        "- fine-tune the language model to **maximize that reward using [proximal policy optimization](https://openai.com/research/openai-baselines-ppo)**\n",
        "\n"
      ],
      "metadata": {
        "id": "dJbfhMEpR4Sz"
      }
    },
    {
      "cell_type": "markdown",
      "metadata": {
        "id": "Bcv4uC7xb26Z"
      },
      "source": [
        "## Stage 1: train a reward model\n",
        "\n",
        "First, we'll train a BERT-like model as our reward model. We'll generate a synthetic pairwise rankings to emulate human rankings.\n",
        "\n",
        "__Q:__ why do I need a reward model? Can I just use a pre-trained sentiment classifier? <br> __A:__ Yes, you can - but that only works for movie reviews. But this tutorial will teach you how to do RLHF for any kind objective.\n",
        "\n",
        "\n",
        "__If you actually want to maximize sentiment (or other \"label\") instead of human preferences, train reward model as a classifier! (see week5)__\n"
      ]
    },
    {
      "cell_type": "code",
      "source": [
        "# We'll be fine-tuning a small BERT-like model for now. Please try other models for the main assignment.\n",
        "reward_model = transformers.AutoModelForSequenceClassification.from_pretrained(\"distilbert-base-cased\", device_map=device)\n",
        "reward_tokenizer = transformers.AutoTokenizer.from_pretrained(\"distilbert-base-cased\")"
      ],
      "metadata": {
        "id": "WeOdZ_ayc9dy"
      },
      "execution_count": null,
      "outputs": []
    },
    {
      "cell_type": "markdown",
      "source": [
        "__Note that__ the reward model has a separate tokenizer, different from the main model. They don't need to be the same for RLHF fine-tuning."
      ],
      "metadata": {
        "id": "_ZUUNQo-d11b"
      }
    },
    {
      "cell_type": "code",
      "source": [
        "# To train a reward model, you need a dataset (or generator) of positive-negative pairs.\n",
        "# Each training sample should be a dict with 4 keys:\n",
        "#  - input_ids_chosen, attention_mask_chosen = tokenizer(\"A sentence that human labeler likes more\")\n",
        "#  - input_ids_rejected, attention_mask_rejected = tokenizer(\"A sentence that human labeler likes less\")\n",
        "\n",
        "import torch\n",
        "import datasets\n",
        "\n",
        "class IMDBPairwiseDataset(torch.utils.data.Dataset):\n",
        "    \"\"\" A dataset of all possible pairs of chosen and texts in TRT reward training format \"\"\"\n",
        "    def __init__(self, imdb, tokenizer, accepted_label: int):\n",
        "        super().__init__()\n",
        "        self.tokenizer = tokenizer\n",
        "        self.chosen_texts = [row['text'] for row in imdb if row['label'] == accepted_label]\n",
        "        self.rejected_texts = [row['text'] for row in imdb if row['label'] != accepted_label]\n",
        "        assert self.chosen_texts, f\"no texts with label {accepted_label}\"\n",
        "        print(f\"Found {len(self.chosen_texts)} chosen and {len(self.rejected_texts)} rejected texts, {len(self)} pairs\")\n",
        "\n",
        "    def __len__(self):\n",
        "        return len(self.chosen_texts) * len(self.rejected_texts)  # all pairs\n",
        "\n",
        "    def __getitem__(self, index: int):\n",
        "        chosen = self.tokenizer(self.chosen_texts[index // len(self.chosen_texts)], truncation=True)\n",
        "        rejected = self.tokenizer(self.rejected_texts[index % len(self.chosen_texts)], truncation=True)\n",
        "        return dict(input_ids_chosen=chosen['input_ids'], attention_mask_chosen=chosen['attention_mask'],\n",
        "                    input_ids_rejected=rejected['input_ids'], attention_mask_rejected=rejected['attention_mask'])"
      ],
      "metadata": {
        "id": "TTWR-48ZXQX6"
      },
      "execution_count": null,
      "outputs": []
    },
    {
      "cell_type": "code",
      "source": [
        "TARGET_LABEL = 0   # and make sure it works by reviewing the sample printed below\n",
        "imdb = datasets.load_dataset(\"imdb\", split='train')\n",
        "reward_data = IMDBPairwiseDataset(imdb, reward_tokenizer, accepted_label=TARGET_LABEL)\n",
        "\n",
        "sample = reward_data[31337]\n",
        "print('CHOSEN:', reward_tokenizer.decode(sample['input_ids_chosen']))\n",
        "print('REJECTED:', reward_tokenizer.decode(sample['input_ids_rejected']))"
      ],
      "metadata": {
        "id": "olo-bvgNcwEC"
      },
      "execution_count": null,
      "outputs": []
    },
    {
      "cell_type": "markdown",
      "source": [
        "We'll be using `trl.RewardTrainer` - a special case of `transformers.Trainer` that you used in the past. `RewardTrainer` accepts the same format of training arguments (e.g. batch size, gradient checkpointing) as before, except that it trains the model for the pairwise reward objective from [the InstructGPT paper](https://arxiv.org/pdf/2203.02155.pdf):\n",
        "\n",
        "![img](https://i.imgur.com/2JzNAPs.png)\n",
        "\n",
        "Note that the model itself does not score pairs: it processes chosen ($y_w$) and rejected ($y_l$) samples independently. To minimize this loss, the reward model needs to score chosen sample higher than the rejected one. Note that the formula also assumes some context $x$, which is useful for seq2seq tasks. In our case of movie reviews, $x$ is empty."
      ],
      "metadata": {
        "id": "kZRczyofiSl0"
      }
    },
    {
      "cell_type": "code",
      "source": [
        "import trl\n",
        "\n",
        "training_args = trl.RewardConfig(  # like transformers.TrainingArguments\n",
        "    output_dir=\"reward_model\",\n",
        "    per_device_train_batch_size=32,\n",
        "    gradient_accumulation_steps=1,\n",
        "    learning_rate=1.41e-5,\n",
        "    max_steps=1_000,              # note: training may need more than 1k steps\n",
        "    logging_steps=50,\n",
        "    gradient_checkpointing=True,  # reduce memory usage but train ~30% slower\n",
        "    gradient_checkpointing_kwargs={\"use_reentrant\": False},\n",
        "    fp16=True                     # disable this on CPU or on very old GPUs\n",
        "    # you may add any other hyperparameters that you found useful in weeks 5-7\n",
        ")\n",
        "\n",
        "trainer = trl.RewardTrainer(\n",
        "    model=reward_model,\n",
        "    args=training_args,\n",
        "    tokenizer=reward_tokenizer,\n",
        "    train_dataset=reward_data,\n",
        "    peft_config=None,  # optionally, you may tune with LoRA, prompt-tuning, etc\n",
        ")\n",
        "\n",
        "trainer.train()"
      ],
      "metadata": {
        "id": "oaQ_-JAzakJs"
      },
      "execution_count": null,
      "outputs": []
    },
    {
      "cell_type": "code",
      "source": [
        "reward_model.gradient_checkpointing_disable()\n",
        "reward_model.eval()"
      ],
      "metadata": {
        "id": "CRk7z-2r4C-A"
      },
      "execution_count": null,
      "outputs": []
    },
    {
      "cell_type": "markdown",
      "source": [
        "### Sanity-check the reward model (1 point)\n",
        "\n",
        "Let's check how our reward model performs.\n",
        "\n",
        "__Your task__ is to measure how often does your reward model can rank a pair of (chosen and rejected) reviews correctly. Please measure this separately for train data (`imdb`) and a separate test set loaded below."
      ],
      "metadata": {
        "id": "wZIaS-gRo8yc"
      }
    },
    {
      "cell_type": "code",
      "source": [
        "for sample_index in 45, 16000:\n",
        "  print('TEXT:', imdb[sample_index]['text'])\n",
        "  inputs = reward_tokenizer(\n",
        "      imdb[sample_index]['text'], truncation=True, return_tensors='pt').to(device)\n",
        "  with torch.no_grad():\n",
        "    reward = reward_model(**inputs).logits[0, 0].item()\n",
        "    print(\"REWARD:\", reward)\n",
        "  print('LABEL:', imdb[sample_index]['label'])\n",
        "  print()\n",
        "\n",
        "# note: your reward model may produce different absolute rewards.\n",
        "# This is fine as long as the rewards are ordered correctly (most of the time)"
      ],
      "metadata": {
        "id": "IeQ108nOZ7nO"
      },
      "execution_count": null,
      "outputs": []
    },
    {
      "cell_type": "code",
      "source": [
        "imdb_test = datasets.load_dataset(\"imdb\", split='test')\n",
        "\n",
        "scores_test = []\n",
        "labels_test = []\n",
        "\n",
        "for index in tqdm(range(len(imdb_test))):\n",
        "    inputs = reward_tokenizer(\n",
        "      imdb_test[index]['text'], truncation=True, return_tensors='pt').to(device)\n",
        "\n",
        "    labels_test.append(imdb_test[index]['label'])\n",
        "\n",
        "    with torch.no_grad():\n",
        "      reward = reward_model(**inputs).logits[0, 0].item()\n",
        "    scores_test.append(reward)"
      ],
      "metadata": {
        "id": "aEevUrfqavnb"
      },
      "execution_count": null,
      "outputs": []
    },
    {
      "cell_type": "markdown",
      "source": [
        "### Reward-guided generation (1 point)\n",
        "\n",
        "If you did everything right, by now you should have a decent reward model. Before we use it for reinforcement learning, let's see if we can align model samples without any training.\n",
        "\n",
        "To do so, you can use reward-guided inference: __generate N=16 samples, then select the one with the highest reward__ (according to your reward model).\n",
        "\n",
        "For this problem, it's on you to demonstrate whether or not your code works. Find at least 5 neutral prompts such as \"This movie is\" (...), generate samples, rank them based on reward and show which samples get the highest reward.\n",
        "\n",
        "Note: it is faster to generate samples in parallel, rather than sequentially, as follows:\n",
        "\n",
        "\n"
      ],
      "metadata": {
        "id": "NHCWHMyRw2-k"
      }
    },
    {
      "cell_type": "code",
      "source": [
        "inputs = main_tokenizer([\"It was\"] * 5, return_tensors='pt').to(device)\n",
        "for candidate in main_model.generate(**inputs, max_new_tokens=50, do_sample=True):\n",
        "  print(\"Sample:\", main_tokenizer.decode(candidate.flatten().cpu().numpy().tolist()))"
      ],
      "metadata": {
        "id": "8BRsyb2cq5dR"
      },
      "execution_count": null,
      "outputs": []
    },
    {
      "cell_type": "code",
      "source": [
        "# <YOUR CODE HERE> - feel free to organize it as you see fit\n",
        "inputs = main_tokenizer([\"This movie is\"] * 16, return_tensors='pt').to(device)\n",
        "for candidate in main_model.generate(**inputs, max_new_tokens=50, do_sample=True):\n",
        "    sample = main_tokenizer.decode(candidate.flatten().cpu().numpy().tolist())\n",
        "    print(\"Sample:\", sample)\n",
        "    sam = reward_tokenizer(\n",
        "        sample, truncation=True, return_tensors='pt').to(device)\n",
        "\n",
        "    with torch.no_grad():\n",
        "      reward = reward_model(**sam).logits[0, 0].item()\n",
        "    print(\"Score:\", reward)\n",
        "    print('='*30)"
      ],
      "metadata": {
        "id": "r08F4lz7yxE1"
      },
      "execution_count": null,
      "outputs": []
    },
    {
      "cell_type": "markdown",
      "metadata": {
        "id": "8NjQ40BRoH5f"
      },
      "source": [
        "# Stage 2: fine-tune the main model with RL\n",
        "\n",
        "\n",
        "For this tutorial, we will optimize GPT2 to produce positive IMDB movie reviews using the reward model you trained above.\n",
        "\n",
        "Unlike supervised fine-tuning, RL allows model to generate it's own sentences on each training step. Then, it calculates the reward of those specific sentences, and finally, updates the model to increase the probability of sentences with high reward.\n",
        "\n",
        "Thus, each RLHF consists of three stages: __Rollout__, __Evaluation__ and __Update__\n",
        "\n",
        "<div style=\"text-align: center\">\n",
        "<img src='https://huggingface.co/datasets/trl-internal-testing/example-images/resolve/main/images/gpt2_bert_training.png' width='600'>\n",
        "\n",
        "The update stage depends on the specific RL algorithm. We'll be using Proximal Policy Optimization, or [PPO](https://arxiv.org/abs/1707.06347), similarly to what was used for InstructGPT.\n",
        "\n",
        "Before we run those 3 stages, however, we need to create a dataset of \"queries\" - partial reviews in our case."
      ]
    },
    {
      "cell_type": "code",
      "source": [
        "# Note: this code is specific to IMDB; you will need to re-write it for other tasks\n",
        "imdb_for_rlhf = imdb.filter(lambda row: len(row['text']) > 200, batched=False)\n",
        "imdb_for_rlhf = imdb_for_rlhf.remove_columns(['label'])\n",
        "sample_length = trl.core.LengthSampler(2, 8)  # use the first 2-8 tokens as query\n",
        "\n",
        "def select_query_and_tokenize(sample):\n",
        "    query_ids = main_tokenizer.encode(sample[\"text\"])[: sample_length()]\n",
        "    sample[\"query\"] = main_tokenizer.decode(query_ids)  # query is the only required column\n",
        "    sample[\"input_ids\"] = query_ids  # to avoid re-tokenizing later\n",
        "    return sample  # we do not need the rest - it will be generated by the model\n",
        "\n",
        "imdb_for_rlhf = imdb_for_rlhf.map(select_query_and_tokenize, batched=False)\n",
        "imdb_for_rlhf.set_format(type=\"torch\")"
      ],
      "metadata": {
        "id": "jm5IUrer0xd_"
      },
      "execution_count": null,
      "outputs": []
    },
    {
      "cell_type": "markdown",
      "source": [
        "Next, let's prepare your reward model to predict rewards on whatever reviews were generated. Note that we use plaintext reviews because main model uses a different tokenizer from the reward model."
      ],
      "metadata": {
        "id": "lKIAyilP3Bf1"
      }
    },
    {
      "cell_type": "code",
      "source": [
        "from typing import List\n",
        "def compute_reward(texts: List[str]) -> torch.Tensor:\n",
        "  inputs = reward_tokenizer(texts, truncation=True, padding=True, return_tensors='pt').to(device)\n",
        "  with torch.no_grad():\n",
        "    return reward_model(**inputs).logits[:, 0]"
      ],
      "metadata": {
        "id": "kkm4MLOr20Jk"
      },
      "execution_count": null,
      "outputs": []
    },
    {
      "cell_type": "code",
      "source": [
        "compute_reward([imdb[45]['text'], imdb[16000]['text']])  # test on human-written reviews"
      ],
      "metadata": {
        "id": "7wJto13M3vWu"
      },
      "execution_count": null,
      "outputs": []
    },
    {
      "cell_type": "markdown",
      "source": [
        "Finally, we move to RL training. In this tutorial, we'll train LoRA adapters and not the full model."
      ],
      "metadata": {
        "id": "U3buACYV4QLJ"
      }
    },
    {
      "cell_type": "code",
      "source": [
        "import peft\n",
        "peft_config = peft.LoraConfig(\n",
        "    task_type=peft.TaskType.CAUSAL_LM, r=32, lora_alpha=32, lora_dropout=0.0, inference_mode=False\n",
        ")\n",
        "\n",
        "# reload main model as AutoModelForCausalLMWithValueHead - with an extra head needed for PPO\n",
        "main_tokenizer = transformers.AutoTokenizer.from_pretrained(\"lvwerra/gpt2-imdb\")\n",
        "main_tokenizer.pad_token = main_tokenizer.eos_token\n",
        "\n",
        "main_model = trl.AutoModelForCausalLMWithValueHead.from_pretrained(\"lvwerra/gpt2-imdb\", device_map=device)\n",
        "main_model = peft.get_peft_model(main_model, peft_config, adapter_name='default')\n",
        "main_model.print_trainable_parameters()"
      ],
      "metadata": {
        "id": "nar1yXgl4KQa"
      },
      "execution_count": null,
      "outputs": []
    },
    {
      "cell_type": "markdown",
      "source": [
        "Same as before, trl has a special type of trainer that minimize PPO-specific pseudo-loss. You can read more on this trainer [here](https://huggingface.co/docs/trl/main/en/ppo_trainer)."
      ],
      "metadata": {
        "id": "qIQK5bcpCPZ6"
      }
    },
    {
      "cell_type": "code",
      "source": [
        "training_args = trl.PPOConfig(\n",
        "    model_name=main_model.config._name_or_path,\n",
        "    gradient_accumulation_steps=1,\n",
        "    learning_rate=1.41e-5,\n",
        "    batch_size=64,\n",
        "    ppo_epochs=4,                 # PPO performs this many updates per training batch\n",
        ")\n",
        "\n",
        "ppo_trainer = trl.PPOTrainer(\n",
        "    training_args, model=main_model.model, tokenizer=main_tokenizer,\n",
        "    dataset=imdb_for_rlhf, data_collator=lambda data: dict((key, [d[key] for d in data]) for key in data[0])\n",
        ")  # note: we pass main_model.model because PPOTrainer checks for one of several supported model types ...\n",
        "# ... main_model.model is a model with adapters, which is supported. main_model itself is a wrapper that is not supported"
      ],
      "metadata": {
        "id": "EvTtiLs94txE"
      },
      "execution_count": null,
      "outputs": []
    },
    {
      "cell_type": "code",
      "source": [
        "from tqdm.auto import tqdm\n",
        "max_steps = 50   # can be insufficient for some tasks - watch your learning curves\n",
        "generation_kwargs = dict(\n",
        "    min_length=-1, max_new_tokens=128, do_sample=True, top_k=0, top_p=1.0, pad_token_id=main_tokenizer.eos_token_id)\n",
        "#                                  ^-- task-specific parameter!\n",
        "with tqdm(enumerate(ppo_trainer.dataloader), total=max_steps) as progressbar:\n",
        "  # note: ppo_trainer.dataloader is just a regular dataloader of queries, no RL-specific magic :)\n",
        "  for epoch, batch in progressbar:\n",
        "    if epoch >= max_steps:\n",
        "        break\n",
        "\n",
        "    # Rollout stage: generate continuations from batch queries using main_model\n",
        "    response_tensors = ppo_trainer.generate(batch['input_ids'], **generation_kwargs)\n",
        "    # ^-- list of tensors of token ids from main model tokenizer\n",
        "\n",
        "    # de-tokenize responses to strings (since reward model uses a different tokenizer)\n",
        "    batch[\"response\"] = [main_tokenizer.decode(response.squeeze()) for response in response_tensors]\n",
        "    # note: response_tensors already contain query tokens, so we don't need to add queries manually.\n",
        "    # This may not be true for other tasks: check this manually by viewing batch[\"response\"] and batch[\"query\"]\n",
        "\n",
        "\n",
        "    # Evaluation stage\n",
        "    rewards = compute_reward(batch['response'])\n",
        "\n",
        "    # Update stage\n",
        "    stats = ppo_trainer.step(batch['input_ids'], response_tensors, list(rewards.split(1)))\n",
        "    stats['rewards/mean'] = rewards.mean().item()\n",
        "\n",
        "    print(\"-\" * 30, 'STEP', epoch, '-' * 30)\n",
        "    print(f'rewards/mean:\\t{stats[\"rewards/mean\"]:.9f}\\t<---- average reward over this batch (higher=better, noisy)')\n",
        "    print(f'ppo/returns/mean:\\t{stats[\"ppo/returns/mean\"]:.9f}\\t<---- model-estimated average discounted reward')\n",
        "    print(f'objective/kl:\\t{stats[\"objective/kl\"]:.9f}\\t<---- how far we are from the original model (regularizer)')\n",
        "    print()\n",
        "\n",
        "    ppo_trainer.log_stats(stats, batch, list(rewards.split(1)))"
      ],
      "metadata": {
        "id": "eYr-w666-QfK"
      },
      "execution_count": null,
      "outputs": []
    },
    {
      "cell_type": "markdown",
      "source": [
        "## Main assignment - <u>actually</u> train the model (8 points)\n",
        "\n",
        "\n",
        "Your main task for this week is to use the RLHF pipeline to train a model for a reward of your choice. Here's what you can choose from:\n",
        "\n",
        "__A. Toxicity fine-tuning:__ train the model to be less (or more!) toxic. For this task, you may use the data from [jigsaw toxic comments](https://www.kaggle.com/c/jigsaw-toxic-comment-classification-challenge) and [lmsys/toxic-chat](https://huggingface.co/datasets/lmsys/toxic-chat),  or any other source. Alternatively, you may use toxicity scores from [oasst1](https://huggingface.co/datasets/OpenAssistant/oasst1).\n",
        "\n",
        "\n",
        "__B. Actual human feedback:__ use one of the existing datasets with pairwise human feedback to align your langauge model. You may use [anthropic's hh-rlhf](https://huggingface.co/datasets/Anthropic/hh-rlhf), [OpenAssistant dataset](https://huggingface.co/datasets/OpenAssistant/oasst1) or any other data you see fit. You may also turn the tables and train the model to [minimize](https://habrastorage.org/getpro/geektimes/post_images/ac7/2ad/827/ac72ad82767d4132164a4b6b76196c42.jpg) human preferences, as long as your model does not degrade to gibberish.\n",
        "\n",
        "__C. Controlled generation:__ Instead of training a reward model from human feedback, you may define the reward function as the text length (longer or shorter) or number of times the model uses specific words (e.g. \"sorry\", \"apologize\"). If you choose specific words, make sure the model generates them at least sometimes.\n",
        "\n",
        "__Alternatively,__ you may choose a different task. However, unless your task is very similar to one of the above, there is a chance that it will be **significantly** harder to solve, requiring orders of magnitude more compute and tuning. If you are in doubt, please ask the course staff. If they are AFK (again >.<), please prefer one of the recommended tasks.\n",
        "\n",
        "\n",
        "#### General tips & tricks\n",
        "\n",
        "\n",
        "Things to look out for:\n",
        "- during PPO stage, the reward model should be in eval mode (dropout disabled)\n",
        "- make sure max_length and max_new_tokens are enough for your chosen dataset - at least most of the time\n",
        "- when in doubt, view the data manually or inspect how the model performs on a few samples\n",
        "\n",
        "\n",
        "We highly recommend that you manually check the performance after each sub-stage:\n",
        "1. when you assembled the pairwise dataset, inspect a couple of from of *your* dataset class and detokenize them. Make sure that you-the-human understand why one sample was accepted and the other - rejected. At least most of the time. This also lets you spot tokenization/truncation errors.\n",
        "2. after you trained a reward model, measure how accurate this model is in isolation. If your reward model is poor, any subsequent RLHF will also fail.\n",
        "3. once you've trained the main model with RL, ask it to generate examples and explore how well it does. If it produces an obviously bad output, check if the reward model assigns high reward to that output. If yes, reward model is the culprit; if no, it's a question of better/longer PPO training.\n",
        "\n",
        "__It is also a good idea to periodically print samples during training.__\n",
        "\n",
        "__When stuck, simplify the problem.__ If you've spent a several hours enchanting the reward model but it still won't budge, try switching to a simple subtask. For instance, if you're training on hh-rlhf, try limiting it the dataset to 10% of the shortest sequences - they are typically easier to learn.\n",
        "\n",
        "\n",
        "## Assignment stages (and grading)\n",
        "\n",
        "Regardless of the specific task you chose, your solution needs to contain several parts that will be graded separately.\n",
        "\n",
        "\n",
        "#### Stage 1: reward model (4 points)\n",
        "\n",
        "Construct a dataset for training the reward model on your problem. Then, train a reward model on that dataset and evaluate how well can your model predict preferences on a hold-out (test) subset of your data.\n",
        "\n",
        "Please make sure that the part of your notebook where you evaluate reward model is clearly visible and reasonably easy to read. And for all that is holy, do not call it IMDB unless it actually **is** data of imdb movie reviews :)\n",
        "\n",
        "__Not all tasks require a reward model for later PPO fine-tuning.__ For instance, there's no reason to train a reward model if your reward equals sentence length. Likewise, toxicity reward can be estimated with a pre-trained toxicity classifier. __If your task does not require training a reward model, please train an unrelated model on [hh-rlhf](https://huggingface.co/datasets/Anthropic/hh-rlhf) as though you were solving assignment version B.__ This is for grading purposes only, you won't use this model for stage 2.\n",
        "\n",
        "\n",
        "#### Stage 2: RL fine-tuning (4 points)\n",
        "\n",
        "Once the reward model is ready - or you can compute rewards without a model - it is time to maximize that reward with PPO. Optionally, you may replace PPO with another RL algorithm (or unlikelihood learning scheme), but only if you're feeling adventurous.\n",
        "\n",
        "\n",
        "First, you need to choose a language model to be fine-tuned. You may choose any model, but make sure that your model **can** generate the data in your format. For instance, [Mistral-7B](https://huggingface.co/mistralai/Mistral-7B-v0.1) is a general purpose LM and may (or may not) need prompt engineering to generate chat assistant responses. For that reason, it is best if you **do not use `\"lvwerra/gpt2-imdb\"` unless you're generating only movie reviews**.\n",
        "\n",
        "\n",
        "\n",
        "There are two \"difficulty modes\" for this task:\n",
        "For the **easy mode**, use [gpt2-large](https://huggingface.co/gpt2-large) or [opt-1.3b](https://huggingface.co/facebook/opt-1.3b) with minimal code changes.\n",
        "If you want the **Hard mode:** use a larger (e.g. 7B) model in combination with `load_in_4bit` and LoRA, the same way we did last week.\n",
        "Some reasonable model choices are [LLaMA-7B](https://huggingface.co/Enoch/llama-7b-hf), [Falcon-7b](https://huggingface.co/tiiuae/falcon-7b), [Mistral-7B](https://huggingface.co/mistralai/Mistral-7B-v0.1) for general-purpose LM or [guanaco-7b](https://huggingface.co/timdettmers/guanaco-7b), [vicuna-7b](https://huggingface.co/lmsys/vicuna-7b-v1.5) for chat-based tasks, though there are many more (see [leaderboard](https://huggingface.co/spaces/HuggingFaceH4/open_llm_leaderboard)). In the hard mode, you will need to modify the training arguments to enable 4-bit fine-tuning. Furthermore, your experiments will take somewhat longer to complete. On the plus side, your model will produce significantly better results.\n",
        "\n",
        "__High reward is not enough!__ RL algorithms are famous for [cheating their reward functions](https://openai.com/research/faulty-reward-functions). To ensure that your model is actually doing what you want it to do, you will need some additional evaluation. To get the full grade, provide at least 20 side-by-side examples of your fine-tuned model vs original model predictions and a short summary.\n",
        "\n",
        "Alternatively, you may provide 5 examples and some extrinsic evaluation metric over many examples. For instance, you may use a different pre-trained toxicity score for option A. When dealing with human preferences, you may choose to [enlist actual humans](https://toloka.ai/) or [ask GPT4/Claude](https://arxiv.org/pdf/2304.03277.pdf) to compare your model's predictions. For task C, when optimizing for simple rewards like sentence lengths, it is enough to compare histograms of rewards (e.g. average lengths).\n",
        "\n",
        "\n",
        "\n",
        "\n",
        "\n",
        "\n",
        "\n",
        "\n",
        "\n",
        "\n"
      ],
      "metadata": {
        "id": "Hgtmjtilq6T8"
      }
    }
  ],
  "metadata": {
    "colab": {
      "provenance": [],
      "gpuType": "T4"
    },
    "kernelspec": {
      "display_name": "Python 3",
      "name": "python3"
    },
    "language_info": {
      "codemirror_mode": {
        "name": "ipython",
        "version": 3
      },
      "file_extension": ".py",
      "mimetype": "text/x-python",
      "name": "python",
      "nbconvert_exporter": "python",
      "pygments_lexer": "ipython3",
      "version": "3.9.12 (main, Mar 26 2022, 15:51:15) \n[Clang 13.1.6 (clang-1316.0.21.2)]"
    },
    "vscode": {
      "interpreter": {
        "hash": "4c8ff454cd947027f86954d72bf940c689a97dcc494eb53cfe4813862c6065fe"
      }
    },
    "accelerator": "GPU"
  },
  "nbformat": 4,
  "nbformat_minor": 0
}