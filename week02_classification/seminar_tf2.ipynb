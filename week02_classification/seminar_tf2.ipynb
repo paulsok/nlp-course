{
 "cells": [
  {
   "cell_type": "markdown",
   "metadata": {},
   "source": [
    "# Large scale text analysis with deep learning (3 points)\n",
    "\n",
    "Today we're gonna apply the newly learned tools for the task of predicting job salary.\n",
    "\n",
    "<img src=\"https://storage.googleapis.com/kaggle-competitions/kaggle/3342/media/salary%20prediction%20engine%20v2.png\" width=400px>\n",
    "\n",
    "_Special thanks to [Oleg Vasilev](https://github.com/Omrigan/) for the core assignment idea._"
   ]
  },
  {
   "cell_type": "code",
   "execution_count": 1,
   "metadata": {},
   "outputs": [],
   "source": [
    "import numpy as np\n",
    "import pandas as pd\n",
    "import matplotlib.pyplot as plt\n",
    "%matplotlib inline"
   ]
  },
  {
   "cell_type": "markdown",
   "metadata": {},
   "source": [
    "### About the challenge\n",
    "For starters, let's download and unpack the data from [here](https://www.dropbox.com/s/5msc5ix7ndyba10/Train_rev1.csv.tar.gz?dl=0). \n",
    "\n",
    "You can also get it from [yadisk url](https://yadi.sk/d/vVEOWPFY3NruT7) the competition [page](https://www.kaggle.com/c/job-salary-prediction/data) (pick `Train_rev1.*`)."
   ]
  },
  {
   "cell_type": "code",
   "execution_count": 6,
   "metadata": {},
   "outputs": [
    {
     "name": "stderr",
     "output_type": "stream",
     "text": [
      "  % Total    % Received % Xferd  Average Speed   Time    Time     Time  Current\n",
      "                                 Dload  Upload   Total   Spent    Left  Speed\n",
      "\n",
      "  0     0    0     0    0     0      0      0 --:--:-- --:--:-- --:--:--     0\n",
      "100   128    0   128    0     0    331      0 --:--:-- --:--:-- --:--:--   332\n",
      "\n",
      "100   342  100   342    0     0    415      0 --:--:-- --:--:-- --:--:--   415\n",
      "100   342  100   342    0     0    415      0 --:--:-- --:--:-- --:--:--     0\n",
      "\n",
      "  0     0    0     0    0     0      0      0 --:--:--  0:00:01 --:--:--     0\n",
      "  6  119M    6 8512k    0     0  3353k      0  0:00:36  0:00:02  0:00:34 9252k\n",
      " 14  119M   14 17.8M    0     0  5170k      0  0:00:23  0:00:03  0:00:20 9554k\n",
      " 22  119M   22 26.7M    0     0  6048k      0  0:00:20  0:00:04  0:00:16 9417k\n",
      " 30  119M   30 36.0M    0     0  6655k      0  0:00:18  0:00:05  0:00:13 9402k\n",
      " 38  119M   38 45.7M    0     0  7175k      0  0:00:17  0:00:06  0:00:11 9542k\n",
      " 46  119M   46 55.5M    0     0  7563k      0  0:00:16  0:00:07  0:00:09 9707k\n",
      " 54  119M   54 65.0M    0     0  7815k      0  0:00:15  0:00:08  0:00:07 9684k\n",
      " 62  119M   62 74.4M    0     0  8011k      0  0:00:15  0:00:09  0:00:06 9787k\n",
      " 69  119M   69 83.4M    0     0  8118k      0  0:00:15  0:00:10  0:00:05 9746k\n",
      " 77  119M   77 92.8M    0     0  8254k      0  0:00:14  0:00:11  0:00:03 9662k\n",
      " 85  119M   85  102M    0     0  8390k      0  0:00:14  0:00:12  0:00:02 9635k\n",
      " 93  119M   93  112M    0     0  8510k      0  0:00:14  0:00:13  0:00:01 9695k\n",
      "100  119M  100  119M    0     0  8577k      0  0:00:14  0:00:14 --:--:-- 9709k\n",
      "x Train_rev1.csv\n"
     ]
    },
    {
     "data": {
      "text/plain": "(244768, 12)"
     },
     "execution_count": 6,
     "metadata": {},
     "output_type": "execute_result"
    }
   ],
   "source": [
    "!curl -L https://www.dropbox.com/s/5msc5ix7ndyba10/Train_rev1.csv.tar.gz?dl=1 -o Train_rev1.csv.tar.gz\n",
    "!tar -xvzf ./Train_rev1.csv.tar.gz\n",
    "data = pd.read_csv(\"./Train_rev1.csv\", index_col=None)\n",
    "data.shape"
   ]
  },
  {
   "cell_type": "markdown",
   "metadata": {},
   "source": [
    "One problem with salary prediction is that it's oddly distributed: there are many people who are paid standard salaries and a few that get tons o money. The distribution is fat-tailed on the right side, which is inconvenient for MSE minimization.\n",
    "\n",
    "There are several techniques to combat this: using a different loss function, predicting log-target instead of raw target or even replacing targets with their percentiles among all salaries in the training set. We gonna use logarithm for now.\n",
    "\n",
    "_You can read more [in the official description](https://www.kaggle.com/c/job-salary-prediction#description)._"
   ]
  },
  {
   "cell_type": "code",
   "execution_count": 7,
   "metadata": {},
   "outputs": [
    {
     "data": {
      "text/plain": "<Figure size 800x400 with 2 Axes>",
      "image/png": "[encoded data removed]"
     },
     "metadata": {},
     "output_type": "display_data"
    }
   ],
   "source": [
    "data['Log1pSalary'] = np.log1p(data['SalaryNormalized']).astype('float32')\n",
    "\n",
    "plt.figure(figsize=[8, 4])\n",
    "plt.subplot(1, 2, 1)\n",
    "plt.hist(data[\"SalaryNormalized\"], bins=20);\n",
    "\n",
    "plt.subplot(1, 2, 2)\n",
    "plt.hist(data['Log1pSalary'], bins=20);"
   ]
  },
  {
   "cell_type": "markdown",
   "metadata": {},
   "source": [
    "Our task is to predict one number, __Log1pSalary__.\n",
    "\n",
    "To do so, our model can access a number of features:\n",
    "* Free text: __`Title`__ and  __`FullDescription`__\n",
    "* Categorical: __`Category`__, __`Company`__, __`LocationNormalized`__, __`ContractType`__, and __`ContractTime`__."
   ]
  },
  {
   "cell_type": "code",
   "execution_count": 8,
   "metadata": {},
   "outputs": [
    {
     "data": {
      "text/plain": "              Id                                     Title  \\\n150953  70767120                 Project Quantity Surveyor   \n181555  71595564  Organic Gardener/Horticultural Therapist   \n189310  71708640               Senior Compliance Executive   \n\n                                          FullDescription  \\\n150953  Project Quantity Surveyor  Retail Fit Out Refu...   \n181555  Grow****Grow is based at Commonwork s farm, Bo...   \n189310  Our client is a global Asset Management busine...   \n\n                                              LocationRaw  \\\n150953                                         Derbyshire   \n181555  Bore Place, Chiddingstone, Edenbridge, Kent, T...   \n189310                                             London   \n\n            LocationNormalized ContractType ContractTime  \\\n150953              Derbyshire          NaN    permanent   \n181555  Chiddingstone Causeway          NaN          NaN   \n189310                  London          NaN    permanent   \n\n                             Company                   Category  \\\n150953             Think Recruitment  Trade & Construction Jobs   \n181555         Commonwork Land Trust         Other/General Jobs   \n189310  InterQuest Financial Markets  Accounting & Finance Jobs   \n\n                                         SalaryRaw  SalaryNormalized  \\\n150953                 38000 - 44000/annum Package             41000   \n181555  18,000-22,000 p.a. depending on experience             20000   \n189310                                       70000             70000   \n\n                    SourceName  Log1pSalary  \n150953        cv-library.co.uk    10.621352  \n181555  horticulturejobs.co.uk     9.903538  \n189310             fish4.co.uk    11.156265  ",
      "text/html": "<div>\n<style scoped>\n    .dataframe tbody tr th:only-of-type {\n        vertical-align: middle;\n    }\n\n    .dataframe tbody tr th {\n        vertical-align: top;\n    }\n\n    .dataframe thead th {\n        text-align: right;\n    }\n</style>\n<table border=\"1\" class=\"dataframe\">\n  <thead>\n    <tr style=\"text-align: right;\">\n      <th></th>\n      <th>Id</th>\n      <th>Title</th>\n      <th>FullDescription</th>\n      <th>LocationRaw</th>\n      <th>LocationNormalized</th>\n      <th>ContractType</th>\n      <th>ContractTime</th>\n      <th>Company</th>\n      <th>Category</th>\n      <th>SalaryRaw</th>\n      <th>SalaryNormalized</th>\n      <th>SourceName</th>\n      <th>Log1pSalary</th>\n    </tr>\n  </thead>\n  <tbody>\n    <tr>\n      <th>150953</th>\n      <td>70767120</td>\n      <td>Project Quantity Surveyor</td>\n      <td>Project Quantity Surveyor  Retail Fit Out Refu...</td>\n      <td>Derbyshire</td>\n      <td>Derbyshire</td>\n      <td>NaN</td>\n      <td>permanent</td>\n      <td>Think Recruitment</td>\n      <td>Trade &amp; Construction Jobs</td>\n      <td>38000 - 44000/annum Package</td>\n      <td>41000</td>\n      <td>cv-library.co.uk</td>\n      <td>10.621352</td>\n    </tr>\n    <tr>\n      <th>181555</th>\n      <td>71595564</td>\n      <td>Organic Gardener/Horticultural Therapist</td>\n      <td>Grow****Grow is based at Commonwork s farm, Bo...</td>\n      <td>Bore Place, Chiddingstone, Edenbridge, Kent, T...</td>\n      <td>Chiddingstone Causeway</td>\n      <td>NaN</td>\n      <td>NaN</td>\n      <td>Commonwork Land Trust</td>\n      <td>Other/General Jobs</td>\n      <td>18,000-22,000 p.a. depending on experience</td>\n      <td>20000</td>\n      <td>horticulturejobs.co.uk</td>\n      <td>9.903538</td>\n    </tr>\n    <tr>\n      <th>189310</th>\n      <td>71708640</td>\n      <td>Senior Compliance Executive</td>\n      <td>Our client is a global Asset Management busine...</td>\n      <td>London</td>\n      <td>London</td>\n      <td>NaN</td>\n      <td>permanent</td>\n      <td>InterQuest Financial Markets</td>\n      <td>Accounting &amp; Finance Jobs</td>\n      <td>70000</td>\n      <td>70000</td>\n      <td>fish4.co.uk</td>\n      <td>11.156265</td>\n    </tr>\n  </tbody>\n</table>\n</div>"
     },
     "execution_count": 8,
     "metadata": {},
     "output_type": "execute_result"
    }
   ],
   "source": [
    "text_columns = [\"Title\", \"FullDescription\"]\n",
    "categorical_columns = [\"Category\", \"Company\", \"LocationNormalized\", \"ContractType\", \"ContractTime\"]\n",
    "target_column = \"Log1pSalary\"\n",
    "\n",
    "data[categorical_columns] = data[categorical_columns].fillna('NaN') # cast missing values to string \"NaN\"\n",
    "\n",
    "data.sample(3)"
   ]
  },
  {
   "cell_type": "markdown",
   "metadata": {},
   "source": [
    "### Preprocessing text data\n",
    "\n",
    "Just like last week, applying NLP to a problem begins from tokenization: splitting raw text into sequences of tokens (words, punctuation, etc).\n",
    "\n",
    "__Your task__ is to lowercase and tokenize all texts under `Title` and `FullDescription` columns. Store the tokenized data as a __space-separated__ string of tokens for performance reasons.\n",
    "\n",
    "It's okay to use nltk tokenizers. Assertions were designed for WordPunctTokenizer, slight deviations are okay."
   ]
  },
  {
   "cell_type": "code",
   "execution_count": 16,
   "metadata": {},
   "outputs": [
    {
     "name": "stdout",
     "output_type": "stream",
     "text": [
      "Raw text:\n",
      "2         mathematical modeller / simulation analyst / o...\n",
      "100002    a successful and high achieving specialist sch...\n",
      "200002    web designer html , css , javascript , photosh...\n",
      "Name: FullDescription, dtype: object\n"
     ]
    }
   ],
   "source": [
    "print(\"Raw text:\")\n",
    "print(data[\"FullDescription\"][2::100000])"
   ]
  },
  {
   "cell_type": "code",
   "execution_count": 18,
   "metadata": {},
   "outputs": [
    {
     "name": "stderr",
     "output_type": "stream",
     "text": [
      "C:\\Users\\pavel.sokolov\\AppData\\Local\\Temp\\ipykernel_10704\\1041642196.py:7: DeprecationWarning: `np.str` is a deprecated alias for the builtin `str`. To silence this warning, use `str` by itself. Doing this will not modify any behavior and is safe. If you specifically wanted the numpy scalar type, use `np.str_` here.\n",
      "Deprecated in NumPy 1.20; for more details and guidance: https://numpy.org/devdocs/release/1.20.0-notes.html#deprecations\n",
      "  data[col] = data[col].astype(np.str).apply(lambda sent : ' '.join(tokenizer.tokenize(sent.lower())))\n"
     ]
    }
   ],
   "source": [
    "import nltk\n",
    "\n",
    "\n",
    "tokenizer = nltk.tokenize.WordPunctTokenizer()\n",
    "\n",
    "for col in text_columns:\n",
    "    data[col] = data[col].astype(np.str).apply(lambda sent : ' '.join(tokenizer.tokenize(sent.lower())))"
   ]
  },
  {
   "cell_type": "markdown",
   "metadata": {},
   "source": [
    "Now we can assume that our text is a space-separated list of tokens:"
   ]
  },
  {
   "cell_type": "code",
   "execution_count": 19,
   "metadata": {},
   "outputs": [
    {
     "name": "stdout",
     "output_type": "stream",
     "text": [
      "Tokenized:\n",
      "2         mathematical modeller / simulation analyst / o...\n",
      "100002    a successful and high achieving specialist sch...\n",
      "200002    web designer html , css , javascript , photosh...\n",
      "Name: FullDescription, dtype: object\n"
     ]
    }
   ],
   "source": [
    "print(\"Tokenized:\")\n",
    "print(data[\"FullDescription\"][2::100000])\n",
    "assert data[\"FullDescription\"][2][:50] == 'mathematical modeller / simulation analyst / opera'\n",
    "assert data[\"Title\"][54321] == 'international digital account manager ( german )'"
   ]
  },
  {
   "cell_type": "markdown",
   "metadata": {},
   "source": [
    "Not all words are equally useful. Some of them are typos or rare words that are only present a few times. \n",
    "\n",
    "Let's count how many times is each word present in the data so that we can build a \"white list\" of known words."
   ]
  },
  {
   "cell_type": "code",
   "execution_count": 20,
   "metadata": {},
   "outputs": [],
   "source": [
    "# Count how many times does each token occur in both \"Title\" and \"FullDescription\" in total\n",
    "# build a dictionary { token -> it's count }\n",
    "from collections import Counter\n",
    "\n",
    "\n",
    "token_counts = Counter()\n",
    "\n",
    "# hint: you may or may not want to use collections.Counter\n",
    "for col in text_columns:\n",
    "    data[col].apply(lambda x: token_counts.update(x.split()))"
   ]
  },
  {
   "cell_type": "code",
   "execution_count": 21,
   "metadata": {},
   "outputs": [
    {
     "name": "stdout",
     "output_type": "stream",
     "text": [
      "Total unique tokens : 202704\n",
      "('and', 2657388)\n",
      "('.', 2523216)\n",
      "(',', 2318606)\n",
      "('the', 2080994)\n",
      "('to', 2019884)\n",
      "...\n",
      "('stephanietraveltraderecruitmnt', 1)\n",
      "('ruabon', 1)\n",
      "('lowehays', 1)\n",
      "Correct!\n"
     ]
    }
   ],
   "source": [
    "print(\"Total unique tokens :\", len(token_counts))\n",
    "print('\\n'.join(map(str, token_counts.most_common(n=5))))\n",
    "print('...')\n",
    "print('\\n'.join(map(str, token_counts.most_common()[-3:])))\n",
    "\n",
    "assert token_counts.most_common(1)[0][1] in  range(2600000, 2700000)\n",
    "assert len(token_counts) in range(200000, 210000)\n",
    "print('Correct!')"
   ]
  },
  {
   "cell_type": "code",
   "execution_count": 22,
   "metadata": {},
   "outputs": [
    {
     "data": {
      "text/plain": "<Figure size 640x480 with 1 Axes>",
      "image/png": "[encoded data removed]"
     },
     "metadata": {},
     "output_type": "display_data"
    }
   ],
   "source": [
    "# Let's see how many words are there for each count\n",
    "plt.hist(list(token_counts.values()), range=[0, 10**4], bins=50, log=True)\n",
    "plt.xlabel(\"Word counts\");"
   ]
  },
  {
   "cell_type": "markdown",
   "metadata": {},
   "source": [
    "Now filter tokens a list of all tokens that occur at least 10 times."
   ]
  },
  {
   "cell_type": "code",
   "execution_count": 23,
   "metadata": {},
   "outputs": [],
   "source": [
    "min_count = 10\n",
    "\n",
    "# tokens from token_counts keys that had at least min_count occurrences throughout the dataset\n",
    "tokens = sorted(t for t, c in token_counts.items() if c >= min_count)"
   ]
  },
  {
   "cell_type": "code",
   "execution_count": 24,
   "metadata": {},
   "outputs": [
    {
     "name": "stdout",
     "output_type": "stream",
     "text": [
      "Vocabulary size: 34158\n",
      "Correct!\n"
     ]
    }
   ],
   "source": [
    "# Add a special tokens for unknown and empty words\n",
    "UNK, PAD = \"UNK\", \"PAD\"\n",
    "tokens = [UNK, PAD] + sorted(tokens)\n",
    "print(\"Vocabulary size:\", len(tokens))\n",
    "\n",
    "assert type(tokens) == list\n",
    "assert len(tokens) in range(30000, 40000)\n",
    "assert 'me' in tokens\n",
    "assert UNK in tokens\n",
    "print(\"Correct!\")"
   ]
  },
  {
   "cell_type": "markdown",
   "metadata": {},
   "source": [
    "Build an inverse token index: a dictionary from token(string) to it's index in `tokens` (int)"
   ]
  },
  {
   "cell_type": "code",
   "execution_count": 25,
   "metadata": {},
   "outputs": [],
   "source": [
    "token_to_id = {}\n",
    "for i in range(len(tokens)):\n",
    "    token_to_id.update({tokens[i]: i})"
   ]
  },
  {
   "cell_type": "code",
   "execution_count": 26,
   "metadata": {},
   "outputs": [
    {
     "name": "stdout",
     "output_type": "stream",
     "text": [
      "Correct!\n"
     ]
    }
   ],
   "source": [
    "assert isinstance(token_to_id, dict)\n",
    "assert len(token_to_id) == len(tokens)\n",
    "for tok in tokens:\n",
    "    assert tokens[token_to_id[tok]] == tok\n",
    "\n",
    "print(\"Correct!\")"
   ]
  },
  {
   "cell_type": "markdown",
   "metadata": {},
   "source": [
    "And finally, let's use the vocabulary you've built to map text lines into neural network-digestible matrices."
   ]
  },
  {
   "cell_type": "code",
   "execution_count": 27,
   "metadata": {},
   "outputs": [],
   "source": [
    "UNK_IX, PAD_IX = map(token_to_id.get, [UNK, PAD])\n",
    "\n",
    "def as_matrix(sequences, max_len=None):\n",
    "    \"\"\" Convert a list of tokens into a matrix with padding \"\"\"\n",
    "    if isinstance(sequences[0], str):\n",
    "        sequences = list(map(str.split, sequences))\n",
    "        \n",
    "    max_len = min(max(map(len, sequences)), max_len or float('inf'))\n",
    "    \n",
    "    matrix = np.full((len(sequences), max_len), np.int32(PAD_IX))\n",
    "    for i,seq in enumerate(sequences):\n",
    "        row_ix = [token_to_id.get(word, UNK_IX) for word in seq[:max_len]]\n",
    "        matrix[i, :len(row_ix)] = row_ix\n",
    "    \n",
    "    return matrix"
   ]
  },
  {
   "cell_type": "code",
   "execution_count": 28,
   "metadata": {},
   "outputs": [
    {
     "name": "stdout",
     "output_type": "stream",
     "text": [
      "Lines:\n",
      "engineering systems analyst\n",
      "hr assistant\n",
      "senior ec & i engineer\n",
      "\n",
      "Matrix:\n",
      "[[10807 30161  2166     1     1]\n",
      " [15020  2844     1     1     1]\n",
      " [27645 10201    16 15215 10804]]\n"
     ]
    }
   ],
   "source": [
    "print(\"Lines:\")\n",
    "print('\\n'.join(data[\"Title\"][::100000].values), end='\\n\\n')\n",
    "print(\"Matrix:\")\n",
    "print(as_matrix(data[\"Title\"][::100000]))"
   ]
  },
  {
   "cell_type": "markdown",
   "metadata": {},
   "source": [
    "Now let's  encode the categirical data we have.\n",
    "\n",
    "As usual, we shall use one-hot encoding for simplicity. Kudos if you implement more advanced encodings: tf-idf, pseudo-time-series, etc."
   ]
  },
  {
   "cell_type": "code",
   "execution_count": 29,
   "metadata": {},
   "outputs": [
    {
     "data": {
      "text/plain": "DictVectorizer(dtype=<class 'numpy.float32'>, sparse=False)",
      "text/html": "<style>#sk-container-id-1 {color: black;background-color: white;}#sk-container-id-1 pre{padding: 0;}#sk-container-id-1 div.sk-toggleable {background-color: white;}#sk-container-id-1 label.sk-toggleable__label {cursor: pointer;display: block;width: 100%;margin-bottom: 0;padding: 0.3em;box-sizing: border-box;text-align: center;}#sk-container-id-1 label.sk-toggleable__label-arrow:before {content: \"▸\";float: left;margin-right: 0.25em;color: #696969;}#sk-container-id-1 label.sk-toggleable__label-arrow:hover:before {color: black;}#sk-container-id-1 div.sk-estimator:hover label.sk-toggleable__label-arrow:before {color: black;}#sk-container-id-1 div.sk-toggleable__content {max-height: 0;max-width: 0;overflow: hidden;text-align: left;background-color: #f0f8ff;}#sk-container-id-1 div.sk-toggleable__content pre {margin: 0.2em;color: black;border-radius: 0.25em;background-color: #f0f8ff;}#sk-container-id-1 input.sk-toggleable__control:checked~div.sk-toggleable__content {max-height: 200px;max-width: 100%;overflow: auto;}#sk-container-id-1 input.sk-toggleable__control:checked~label.sk-toggleable__label-arrow:before {content: \"▾\";}#sk-container-id-1 div.sk-estimator input.sk-toggleable__control:checked~label.sk-toggleable__label {background-color: #d4ebff;}#sk-container-id-1 div.sk-label input.sk-toggleable__control:checked~label.sk-toggleable__label {background-color: #d4ebff;}#sk-container-id-1 input.sk-hidden--visually {border: 0;clip: rect(1px 1px 1px 1px);clip: rect(1px, 1px, 1px, 1px);height: 1px;margin: -1px;overflow: hidden;padding: 0;position: absolute;width: 1px;}#sk-container-id-1 div.sk-estimator {font-family: monospace;background-color: #f0f8ff;border: 1px dotted black;border-radius: 0.25em;box-sizing: border-box;margin-bottom: 0.5em;}#sk-container-id-1 div.sk-estimator:hover {background-color: #d4ebff;}#sk-container-id-1 div.sk-parallel-item::after {content: \"\";width: 100%;border-bottom: 1px solid gray;flex-grow: 1;}#sk-container-id-1 div.sk-label:hover label.sk-toggleable__label {background-color: #d4ebff;}#sk-container-id-1 div.sk-serial::before {content: \"\";position: absolute;border-left: 1px solid gray;box-sizing: border-box;top: 0;bottom: 0;left: 50%;z-index: 0;}#sk-container-id-1 div.sk-serial {display: flex;flex-direction: column;align-items: center;background-color: white;padding-right: 0.2em;padding-left: 0.2em;position: relative;}#sk-container-id-1 div.sk-item {position: relative;z-index: 1;}#sk-container-id-1 div.sk-parallel {display: flex;align-items: stretch;justify-content: center;background-color: white;position: relative;}#sk-container-id-1 div.sk-item::before, #sk-container-id-1 div.sk-parallel-item::before {content: \"\";position: absolute;border-left: 1px solid gray;box-sizing: border-box;top: 0;bottom: 0;left: 50%;z-index: -1;}#sk-container-id-1 div.sk-parallel-item {display: flex;flex-direction: column;z-index: 1;position: relative;background-color: white;}#sk-container-id-1 div.sk-parallel-item:first-child::after {align-self: flex-end;width: 50%;}#sk-container-id-1 div.sk-parallel-item:last-child::after {align-self: flex-start;width: 50%;}#sk-container-id-1 div.sk-parallel-item:only-child::after {width: 0;}#sk-container-id-1 div.sk-dashed-wrapped {border: 1px dashed gray;margin: 0 0.4em 0.5em 0.4em;box-sizing: border-box;padding-bottom: 0.4em;background-color: white;}#sk-container-id-1 div.sk-label label {font-family: monospace;font-weight: bold;display: inline-block;line-height: 1.2em;}#sk-container-id-1 div.sk-label-container {text-align: center;}#sk-container-id-1 div.sk-container {/* jupyter's `normalize.less` sets `[hidden] { display: none; }` but bootstrap.min.css set `[hidden] { display: none !important; }` so we also need the `!important` here to be able to override the default hidden behavior on the sphinx rendered scikit-learn.org. See: https://github.com/scikit-learn/scikit-learn/issues/21755 */display: inline-block !important;position: relative;}#sk-container-id-1 div.sk-text-repr-fallback {display: none;}</style><div id=\"sk-container-id-1\" class=\"sk-top-container\"><div class=\"sk-text-repr-fallback\"><pre>DictVectorizer(dtype=&lt;class &#x27;numpy.float32&#x27;&gt;, sparse=False)</pre><b>In a Jupyter environment, please rerun this cell to show the HTML representation or trust the notebook. <br />On GitHub, the HTML representation is unable to render, please try loading this page with nbviewer.org.</b></div><div class=\"sk-container\" hidden><div class=\"sk-item\"><div class=\"sk-estimator sk-toggleable\"><input class=\"sk-toggleable__control sk-hidden--visually\" id=\"sk-estimator-id-1\" type=\"checkbox\" checked><label for=\"sk-estimator-id-1\" class=\"sk-toggleable__label sk-toggleable__label-arrow\">DictVectorizer</label><div class=\"sk-toggleable__content\"><pre>DictVectorizer(dtype=&lt;class &#x27;numpy.float32&#x27;&gt;, sparse=False)</pre></div></div></div></div></div>"
     },
     "execution_count": 29,
     "metadata": {},
     "output_type": "execute_result"
    }
   ],
   "source": [
    "from sklearn.feature_extraction import DictVectorizer\n",
    "\n",
    "# we only consider top-1k most frequent companies to minimize memory usage\n",
    "top_companies, top_counts = zip(*Counter(data['Company']).most_common(1000))\n",
    "recognized_companies = set(top_companies)\n",
    "data[\"Company\"] = data[\"Company\"].apply(lambda comp: comp if comp in recognized_companies else \"Other\")\n",
    "\n",
    "categorical_vectorizer = DictVectorizer(dtype=np.float32, sparse=False)\n",
    "categorical_vectorizer.fit(data[categorical_columns].apply(dict, axis=1))"
   ]
  },
  {
   "cell_type": "markdown",
   "metadata": {},
   "source": [
    "### The deep learning part\n",
    "\n",
    "Once we've learned to tokenize the data, let's design a machine learning experiment.\n",
    "\n",
    "As before, we won't focus too much on validation, opting for a simple train-test split.\n",
    "\n",
    "__To be completely rigorous,__ we've comitted a small crime here: we used the whole data for tokenization and vocabulary building. A more strict way would be to do that part on training set only. You may want to do that and measure the magnitude of changes."
   ]
  },
  {
   "cell_type": "code",
   "execution_count": 30,
   "metadata": {},
   "outputs": [
    {
     "name": "stdout",
     "output_type": "stream",
     "text": [
      "Train size =  195814\n",
      "Validation size =  48954\n"
     ]
    }
   ],
   "source": [
    "from sklearn.model_selection import train_test_split\n",
    "\n",
    "data_train, data_val = train_test_split(data, test_size=0.2, random_state=42)\n",
    "data_train.index = range(len(data_train))\n",
    "data_val.index = range(len(data_val))\n",
    "\n",
    "print(\"Train size = \", len(data_train))\n",
    "print(\"Validation size = \", len(data_val))"
   ]
  },
  {
   "cell_type": "code",
   "execution_count": 31,
   "metadata": {},
   "outputs": [],
   "source": [
    "def make_batch(data, max_len=None, word_dropout=0):\n",
    "    \"\"\"\n",
    "    Creates a keras-friendly dict from the batch data.\n",
    "    :param word_dropout: replaces token index with UNK_IX with this probability\n",
    "    :returns: a dict with {'title' : int64[batch, title_max_len]\n",
    "    \"\"\"\n",
    "    batch = {}\n",
    "    batch[\"Title\"] = as_matrix(data[\"Title\"].values, max_len)\n",
    "    batch[\"FullDescription\"] = as_matrix(data[\"FullDescription\"].values, max_len)\n",
    "    batch['Categorical'] = categorical_vectorizer.transform(data[categorical_columns].apply(dict, axis=1))\n",
    "    \n",
    "    if word_dropout != 0:\n",
    "        batch[\"FullDescription\"] = apply_word_dropout(batch[\"FullDescription\"], 1. - word_dropout)\n",
    "    \n",
    "    if target_column in data.columns:\n",
    "        batch[target_column] = data[target_column].values\n",
    "    \n",
    "    return batch\n",
    "\n",
    "def apply_word_dropout(matrix, keep_prop, replace_with=UNK_IX, pad_ix=PAD_IX,):\n",
    "    dropout_mask = np.random.choice(2, np.shape(matrix), p=[keep_prop, 1 - keep_prop])\n",
    "    dropout_mask &= matrix != pad_ix\n",
    "    return np.choose(dropout_mask, [matrix, np.full_like(matrix, replace_with)])"
   ]
  },
  {
   "cell_type": "code",
   "execution_count": 32,
   "metadata": {},
   "outputs": [
    {
     "data": {
      "text/plain": "{'Title': array([[27645, 29893, 33674,     1,     1,     1,     1],\n        [29239,   197, 19175, 20042, 15554, 23162,  4051],\n        [10609, 30412, 17746,    33,  8705, 29157,    65]]),\n 'FullDescription': array([[27645, 29893, 33674, 32939,   982, 27645, 29893, 33674, 16451,\n         32939],\n        [29239,   197, 19175, 20042, 15554, 23162,  4051, 25511,   907,\n            82],\n        [30746, 21956, 20601,  6409, 16451,  8165, 27493,   982, 30412,\n         17746]]),\n 'Categorical': array([[0., 0., 0., ..., 0., 0., 0.],\n        [0., 0., 0., ..., 0., 0., 0.],\n        [0., 0., 0., ..., 0., 0., 0.]], dtype=float32),\n 'Log1pSalary': array([ 9.71154 , 10.463132, 10.71444 ], dtype=float32)}"
     },
     "execution_count": 32,
     "metadata": {},
     "output_type": "execute_result"
    }
   ],
   "source": [
    "make_batch(data_train[:3], max_len=10)"
   ]
  },
  {
   "cell_type": "markdown",
   "metadata": {},
   "source": [
    "#### Architecture\n",
    "\n",
    "Our basic model consists of three branches:\n",
    "* Title encoder\n",
    "* Description encoder\n",
    "* Categorical features encoder\n",
    "\n",
    "We will then feed all 3 branches into one common network that predicts salary.\n",
    "\n",
    "<img src=\"https://github.com/yandexdataschool/nlp_course/raw/master/resources/w2_conv_arch.png\" width=600px>"
   ]
  },
  {
   "cell_type": "markdown",
   "metadata": {},
   "source": [
    "This clearly doesn't fit into keras' __Sequential__ interface. To build such a network, one will have to use __[Keras Functional API](https://keras.io/models/model/)__."
   ]
  },
  {
   "cell_type": "code",
   "execution_count": 33,
   "metadata": {},
   "outputs": [],
   "source": [
    "import keras\n",
    "import keras.layers as L"
   ]
  },
  {
   "cell_type": "code",
   "execution_count": 34,
   "metadata": {},
   "outputs": [
    {
     "name": "stdout",
     "output_type": "stream",
     "text": [
      "Model: \"model\"\n",
      "__________________________________________________________________________________________________\n",
      " Layer (type)                   Output Shape         Param #     Connected to                     \n",
      "==================================================================================================\n",
      " Title (InputLayer)             [(None, None)]       0           []                               \n",
      "                                                                                                  \n",
      " FullDescription (InputLayer)   [(None, None)]       0           []                               \n",
      "                                                                                                  \n",
      " embedding (Embedding)          (None, None, 64)     2186112     ['Title[0][0]',                  \n",
      "                                                                  'FullDescription[0][0]']        \n",
      "                                                                                                  \n",
      " conv1d (Conv1D)                (None, None, 64)     12352       ['embedding[0][0]']              \n",
      "                                                                                                  \n",
      " conv1d_1 (Conv1D)              (None, None, 64)     8256        ['embedding[1][0]']              \n",
      "                                                                                                  \n",
      " Categorical (InputLayer)       [(None, 3768)]       0           []                               \n",
      "                                                                                                  \n",
      " global_max_pooling1d (GlobalMa  (None, 64)          0           ['conv1d[0][0]']                 \n",
      " xPooling1D)                                                                                      \n",
      "                                                                                                  \n",
      " global_max_pooling1d_1 (Global  (None, 64)          0           ['conv1d_1[0][0]']               \n",
      " MaxPooling1D)                                                                                    \n",
      "                                                                                                  \n",
      " dense (Dense)                  (None, 64)           241216      ['Categorical[0][0]']            \n",
      "                                                                                                  \n",
      " concatenate (Concatenate)      (None, 192)          0           ['global_max_pooling1d[0][0]',   \n",
      "                                                                  'global_max_pooling1d_1[0][0]', \n",
      "                                                                  'dense[0][0]']                  \n",
      "                                                                                                  \n",
      " dense_1 (Dense)                (None, 128)          24704       ['concatenate[0][0]']            \n",
      "                                                                                                  \n",
      " dense_2 (Dense)                (None, 1)            129         ['dense_1[0][0]']                \n",
      "                                                                                                  \n",
      "==================================================================================================\n",
      "Total params: 2,472,769\n",
      "Trainable params: 2,472,769\n",
      "Non-trainable params: 0\n",
      "__________________________________________________________________________________________________\n"
     ]
    }
   ],
   "source": [
    "def build_model(n_tokens=len(tokens), n_cat_features=len(categorical_vectorizer.vocabulary_), hid_size=64):\n",
    "    \"\"\" Build a model that maps three data sources to a single linear output: predicted log1p(salary) \"\"\"\n",
    "    l_title = L.Input(shape=[None], name=\"Title\")\n",
    "    l_descr = L.Input(shape=[None], name=\"FullDescription\")\n",
    "    l_categ = L.Input(shape=[n_cat_features], name=\"Categorical\")\n",
    "\n",
    "    emb = L.Embedding(n_tokens, hid_size)\n",
    "\n",
    "    l_title_emb = emb(l_title)\n",
    "    l_title_conv = L.Conv1D(filters=hid_size, kernel_size=3, activation='relu')(l_title_emb)\n",
    "    l_title_out = L.GlobalMaxPool1D()(l_title_conv)\n",
    "\n",
    "    l_descr_emb = emb(l_descr)\n",
    "    l_descr_conv = L.Conv1D(filters=hid_size,kernel_size=2, activation='relu')(l_descr_emb)\n",
    "    l_descr_out = L.GlobalMaxPool1D()(l_descr_conv)\n",
    "\n",
    "    l_categ_out = L.Dense(hid_size, activation='relu')(l_categ)\n",
    "\n",
    "    l_combined = L.Concatenate()([l_title_out, l_descr_out, l_categ_out])\n",
    "    l_combined_dense = L.Dense(2*hid_size, activation='relu')(l_combined)\n",
    "\n",
    "    output_layer = L.Dense(1)(l_combined_dense)\n",
    "\n",
    "    model = keras.models.Model(inputs=[l_title, l_descr, l_categ], outputs=[output_layer])\n",
    "    model.compile('adam', 'mean_squared_error', metrics=['mean_absolute_error'])\n",
    "    return model\n",
    "\n",
    "model = build_model()\n",
    "model.summary()\n",
    "    "
   ]
  },
  {
   "cell_type": "code",
   "execution_count": 35,
   "metadata": {},
   "outputs": [
    {
     "name": "stdout",
     "output_type": "stream",
     "text": [
      "Model: \"model_1\"\n",
      "__________________________________________________________________________________________________\n",
      " Layer (type)                   Output Shape         Param #     Connected to                     \n",
      "==================================================================================================\n",
      " Title (InputLayer)             [(None, None)]       0           []                               \n",
      "                                                                                                  \n",
      " FullDescription (InputLayer)   [(None, None)]       0           []                               \n",
      "                                                                                                  \n",
      " embedding_1 (Embedding)        (None, None, 64)     2186112     ['Title[0][0]',                  \n",
      "                                                                  'FullDescription[0][0]']        \n",
      "                                                                                                  \n",
      " conv1d_2 (Conv1D)              (None, None, 64)     12352       ['embedding_1[0][0]']            \n",
      "                                                                                                  \n",
      " conv1d_3 (Conv1D)              (None, None, 64)     8256        ['embedding_1[1][0]']            \n",
      "                                                                                                  \n",
      " Categorical (InputLayer)       [(None, 3768)]       0           []                               \n",
      "                                                                                                  \n",
      " global_max_pooling1d_2 (Global  (None, 64)          0           ['conv1d_2[0][0]']               \n",
      " MaxPooling1D)                                                                                    \n",
      "                                                                                                  \n",
      " global_max_pooling1d_3 (Global  (None, 64)          0           ['conv1d_3[0][0]']               \n",
      " MaxPooling1D)                                                                                    \n",
      "                                                                                                  \n",
      " dense_3 (Dense)                (None, 64)           241216      ['Categorical[0][0]']            \n",
      "                                                                                                  \n",
      " concatenate_1 (Concatenate)    (None, 192)          0           ['global_max_pooling1d_2[0][0]', \n",
      "                                                                  'global_max_pooling1d_3[0][0]', \n",
      "                                                                  'dense_3[0][0]']                \n",
      "                                                                                                  \n",
      " dense_4 (Dense)                (None, 128)          24704       ['concatenate_1[0][0]']          \n",
      "                                                                                                  \n",
      " dense_5 (Dense)                (None, 1)            129         ['dense_4[0][0]']                \n",
      "                                                                                                  \n",
      "==================================================================================================\n",
      "Total params: 2,472,769\n",
      "Trainable params: 2,472,769\n",
      "Non-trainable params: 0\n",
      "__________________________________________________________________________________________________\n",
      "4/4 [==============================] - 0s 0s/step\n"
     ]
    },
    {
     "name": "stderr",
     "output_type": "stream",
     "text": [
      "C:\\Users\\pavel.sokolov\\Miniconda3\\envs\\nlp\\lib\\site-packages\\keras\\engine\\functional.py:638: UserWarning: Input dict contained keys ['Log1pSalary'] which did not match any model input. They will be ignored by the model.\n",
      "  inputs = self._flatten_to_reference_inputs(inputs)\n",
      "C:\\Users\\pavel.sokolov\\Miniconda3\\envs\\nlp\\lib\\site-packages\\keras\\engine\\functional.py:638: UserWarning: Input dict contained keys ['Log1pSalary'] which did not match any model input. They will be ignored by the model.\n",
      "  inputs = self._flatten_to_reference_inputs(inputs)\n"
     ]
    }
   ],
   "source": [
    "model = build_model()\n",
    "model.summary()\n",
    "\n",
    "dummy_pred = model.predict(make_batch(data_train[:100]))\n",
    "dummy_loss = model.train_on_batch(make_batch(data_train[:100]), data_train['Log1pSalary'][:100])[0]\n",
    "assert dummy_pred.shape == (100, 1)\n",
    "assert len(np.unique(dummy_pred)) > 20, \"model returns suspiciously few unique outputs. Check your initialization\"\n",
    "assert np.ndim(dummy_loss) == 0 and 0. <= dummy_loss <= 250., \"make sure you minimize MSE\""
   ]
  },
  {
   "cell_type": "markdown",
   "metadata": {},
   "source": [
    "#### Training and evaluation\n",
    "\n",
    "As usual, we gonna feed our monster with random minibatches of data. \n",
    "\n",
    "As we train, we want to monitor not only loss function, which is computed in log-space, but also the actual error measured in dollars."
   ]
  },
  {
   "cell_type": "code",
   "execution_count": 36,
   "metadata": {},
   "outputs": [],
   "source": [
    "def iterate_minibatches(data, batch_size=256, shuffle=True, cycle=False, **kwargs):\n",
    "    \"\"\" iterates minibatches of data in random order \"\"\"\n",
    "    while True:\n",
    "        indices = np.arange(len(data))\n",
    "        if shuffle:\n",
    "            indices = np.random.permutation(indices)\n",
    "\n",
    "        for start in range(0, len(indices), batch_size):\n",
    "            batch = make_batch(data.iloc[indices[start : start + batch_size]], **kwargs)\n",
    "            target = batch.pop(target_column)\n",
    "            yield batch, target\n",
    "        \n",
    "        if not cycle: break"
   ]
  },
  {
   "cell_type": "markdown",
   "metadata": {},
   "source": [
    "### Model training\n",
    "\n",
    "We can now fit our model the usual minibatch way. The interesting part is that we train on an infinite stream of minibatches, produced by `iterate_minibatches` function."
   ]
  },
  {
   "cell_type": "code",
   "execution_count": 37,
   "metadata": {},
   "outputs": [
    {
     "name": "stdout",
     "output_type": "stream",
     "text": [
      "Epoch 1/10\n"
     ]
    },
    {
     "name": "stderr",
     "output_type": "stream",
     "text": [
      "C:\\Users\\pavel.sokolov\\AppData\\Local\\Temp\\ipykernel_10704\\36497711.py:7: UserWarning: `Model.fit_generator` is deprecated and will be removed in a future version. Please use `Model.fit`, which supports generators.\n",
      "  model.fit_generator(iterate_minibatches(data_train, batch_size, cycle=True, word_dropout=0.05),\n"
     ]
    },
    {
     "name": "stdout",
     "output_type": "stream",
     "text": [
      "100/100 [==============================] - 25s 242ms/step - loss: 18.3090 - mean_absolute_error: 2.6778 - val_loss: 0.2924 - val_mean_absolute_error: 0.4227\n",
      "Epoch 2/10\n",
      "100/100 [==============================] - 25s 249ms/step - loss: 0.2398 - mean_absolute_error: 0.3752 - val_loss: 0.1932 - val_mean_absolute_error: 0.3345\n",
      "Epoch 3/10\n",
      "100/100 [==============================] - 24s 246ms/step - loss: 0.1754 - mean_absolute_error: 0.3180 - val_loss: 0.1560 - val_mean_absolute_error: 0.2983\n",
      "Epoch 4/10\n",
      "100/100 [==============================] - 25s 250ms/step - loss: 0.1404 - mean_absolute_error: 0.2833 - val_loss: 0.1333 - val_mean_absolute_error: 0.2747\n",
      "Epoch 5/10\n",
      "100/100 [==============================] - 25s 250ms/step - loss: 0.1253 - mean_absolute_error: 0.2660 - val_loss: 0.1196 - val_mean_absolute_error: 0.2597\n",
      "Epoch 6/10\n",
      "100/100 [==============================] - 25s 252ms/step - loss: 0.1136 - mean_absolute_error: 0.2512 - val_loss: 0.1085 - val_mean_absolute_error: 0.2470\n",
      "Epoch 7/10\n",
      "100/100 [==============================] - 24s 246ms/step - loss: 0.1045 - mean_absolute_error: 0.2420 - val_loss: 0.1069 - val_mean_absolute_error: 0.2454\n",
      "Epoch 8/10\n",
      "100/100 [==============================] - 25s 249ms/step - loss: 0.0937 - mean_absolute_error: 0.2287 - val_loss: 0.0988 - val_mean_absolute_error: 0.2350\n",
      "Epoch 9/10\n",
      "100/100 [==============================] - 24s 245ms/step - loss: 0.0865 - mean_absolute_error: 0.2188 - val_loss: 0.0920 - val_mean_absolute_error: 0.2270\n",
      "Epoch 10/10\n",
      "100/100 [==============================] - 26s 258ms/step - loss: 0.0858 - mean_absolute_error: 0.2170 - val_loss: 0.0935 - val_mean_absolute_error: 0.2284\n"
     ]
    },
    {
     "data": {
      "text/plain": "<keras.callbacks.History at 0x21a97ea3af0>"
     },
     "execution_count": 37,
     "metadata": {},
     "output_type": "execute_result"
    }
   ],
   "source": [
    "batch_size = 256\n",
    "epochs = 10            # definitely too small\n",
    "steps_per_epoch = 100  # for full pass over data: (len(data_train) - 1) // batch_size + 1\n",
    "\n",
    "model = build_model()\n",
    "\n",
    "model.fit_generator(iterate_minibatches(data_train, batch_size, cycle=True, word_dropout=0.05), \n",
    "                    epochs=epochs, steps_per_epoch=steps_per_epoch,\n",
    "                    \n",
    "                    validation_data=iterate_minibatches(data_val, batch_size, cycle=True),\n",
    "                    validation_steps=data_val.shape[0] // batch_size\n",
    "                   )"
   ]
  },
  {
   "cell_type": "code",
   "execution_count": null,
   "metadata": {
    "pycharm": {
     "is_executing": true
    }
   },
   "outputs": [],
   "source": [
    "def print_metrics(model, data, batch_size=batch_size, name=\"\", **kw):\n",
    "    squared_error = abs_error = num_samples = 0.0\n",
    "    for batch_x, batch_y in iterate_minibatches(data, batch_size=batch_size, shuffle=False, **kw):\n",
    "        batch_pred = model.predict(batch_x)[:, 0]\n",
    "        squared_error += np.sum(np.square(batch_pred - batch_y))\n",
    "        abs_error += np.sum(np.abs(batch_pred - batch_y))\n",
    "        num_samples += len(batch_y)\n",
    "    print(\"%s results:\" % (name or \"\"))\n",
    "    print(\"Mean square error: %.5f\" % (squared_error / num_samples))\n",
    "    print(\"Mean absolute error: %.5f\" % (abs_error / num_samples))\n",
    "    return squared_error, abs_error\n",
    "    \n",
    "print_metrics(model, data_train, name='Train')\n",
    "print_metrics(model, data_val, name='Val');"
   ]
  },
  {
   "cell_type": "markdown",
   "metadata": {},
   "source": [
    "### Bonus part: explaining model predictions\n",
    "\n",
    "It's usually a good idea to understand how your model works before you let it make actual decisions. It's simple for linear models: just see which words learned positive or negative weights. However, its much harder for neural networks that learn complex nonlinear dependencies.\n",
    "\n",
    "There are, however, some ways to look inside the black box:\n",
    "* Seeing how model responds to input perturbations\n",
    "* Finding inputs that maximize/minimize activation of some chosen neurons (_read more [on distill.pub](https://distill.pub/2018/building-blocks/)_)\n",
    "* Building local linear approximations to your neural network: [article](https://arxiv.org/abs/1602.04938), [eli5 library](https://github.com/TeamHG-Memex/eli5/tree/master/eli5/formatters)\n",
    "\n",
    "Today we gonna try the first method just because it's the simplest one."
   ]
  },
  {
   "cell_type": "code",
   "execution_count": 39,
   "metadata": {},
   "outputs": [],
   "source": [
    "def explain(model, sample, col_name='Title'):\n",
    "    \"\"\" Computes the effect each word had on model predictions \"\"\"\n",
    "    sample = dict(sample)\n",
    "    sample_col_tokens = [tokens[token_to_id.get(tok, 0)] for tok in sample[col_name].split()]\n",
    "    data_drop_one_token = pd.DataFrame([sample] * (len(sample_col_tokens) + 1))\n",
    "\n",
    "    for drop_i in range(len(sample_col_tokens)):\n",
    "        data_drop_one_token.loc[drop_i, col_name] = ' '.join(UNK if i == drop_i else tok\n",
    "                                                   for i, tok in enumerate(sample_col_tokens)) \n",
    "\n",
    "    *predictions_drop_one_token, baseline_pred = model.predict(make_batch(data_drop_one_token))[:, 0]\n",
    "    diffs = baseline_pred - predictions_drop_one_token\n",
    "    return list(zip(sample_col_tokens, diffs))"
   ]
  },
  {
   "cell_type": "code",
   "execution_count": 40,
   "metadata": {},
   "outputs": [],
   "source": [
    "from IPython.display import HTML, display_html\n",
    "\n",
    "def draw_html(tokens_and_weights, cmap=plt.get_cmap(\"bwr\"), display=True,\n",
    "              token_template=\"\"\"<span style=\"background-color: {color_hex}\">{token}</span>\"\"\",\n",
    "              font_style=\"font-size:14px;\"\n",
    "             ):\n",
    "    \n",
    "    def get_color_hex(weight):\n",
    "        rgba = cmap(1. / (1 + np.exp(weight)), bytes=True)\n",
    "        return '#%02X%02X%02X' % rgba[:3]\n",
    "    \n",
    "    tokens_html = [\n",
    "        token_template.format(token=token, color_hex=get_color_hex(weight))\n",
    "        for token, weight in tokens_and_weights\n",
    "    ]\n",
    "    \n",
    "    \n",
    "    raw_html = \"\"\"<p style=\"{}\">{}</p>\"\"\".format(font_style, ' '.join(tokens_html))\n",
    "    if display:\n",
    "        display_html(HTML(raw_html))\n",
    "        \n",
    "    return raw_html\n",
    "    "
   ]
  },
  {
   "cell_type": "code",
   "execution_count": 41,
   "metadata": {},
   "outputs": [
    {
     "name": "stderr",
     "output_type": "stream",
     "text": [
      "C:\\Users\\pavel.sokolov\\Miniconda3\\envs\\nlp\\lib\\site-packages\\keras\\engine\\functional.py:638: UserWarning: Input dict contained keys ['Log1pSalary'] which did not match any model input. They will be ignored by the model.\n",
      "  inputs = self._flatten_to_reference_inputs(inputs)\n"
     ]
    },
    {
     "name": "stdout",
     "output_type": "stream",
     "text": [
      "1/1 [==============================] - 0s 264ms/step\n"
     ]
    },
    {
     "data": {
      "text/html": "<p style=\"font-size:20px;\"><span style=\"background-color: #FFF4F4\">sales</span> <span style=\"background-color: #8383FF\">specialist</span> <span style=\"background-color: #FF8888\">iv</span> <span style=\"background-color: #FFDEDE\">access</span> <span style=\"background-color: #FFE6E6\">and</span> <span style=\"background-color: #FFF2F2\">infusion</span></p>"
     },
     "metadata": {},
     "output_type": "display_data"
    },
    {
     "name": "stdout",
     "output_type": "stream",
     "text": [
      "11/11 [==============================] - 0s 3ms/step\n"
     ]
    },
    {
     "data": {
      "text/html": "<p style=\"font-size:14px;\"><span style=\"background-color: #FFFEFE\">sales</span> <span style=\"background-color: #FFFAFA\">representative</span> <span style=\"background-color: #FFF0F0\">medical</span> <span style=\"background-color: #FFFCFC\">sales</span> <span style=\"background-color: #FFF8F8\">iv</span> <span style=\"background-color: #FFFEFE\">access</span> <span style=\"background-color: #FFFEFE\">and</span> <span style=\"background-color: #FFF8F8\">infusion</span> <span style=\"background-color: #FFF8F8\">an</span> <span style=\"background-color: #FFD2D2\">opportunity</span> <span style=\"background-color: #FFE6E6\">to</span> <span style=\"background-color: #FFEEEE\">work</span> <span style=\"background-color: #FFFEFE\">for</span> <span style=\"background-color: #FFFCFC\">the</span> <span style=\"background-color: #FFF2F2\">industry</span> <span style=\"background-color: #FEFEFF\">leading</span> <span style=\"background-color: #FFEEEE\">manufacturer</span> <span style=\"background-color: #FFEEEE\">of</span> <span style=\"background-color: #FFEEEE\">iv</span> <span style=\"background-color: #FFFEFE\">access</span> <span style=\"background-color: #FFFEFE\">and</span> <span style=\"background-color: #FFFAFA\">infusion</span> <span style=\"background-color: #FFF8F8\">solutions</span> <span style=\"background-color: #FFF8F8\">.</span> <span style=\"background-color: #FFFEFE\">formally</span> <span style=\"background-color: #FEFEFF\">recognised</span> <span style=\"background-color: #FFFAFA\">as</span> <span style=\"background-color: #FFF2F2\">the</span> <span style=\"background-color: #FFF4F4\">number</span> <span style=\"background-color: #FFFEFE\">****</span> <span style=\"background-color: #FFFEFE\">company</span> <span style=\"background-color: #FFF4F4\">in</span> <span style=\"background-color: #FFF6F6\">this</span> <span style=\"background-color: #FFF6F6\">market</span> <span style=\"background-color: #FFEEEE\">space</span> <span style=\"background-color: #FFEAEA\">,</span> <span style=\"background-color: #FFF8F8\">our</span> <span style=\"background-color: #FFF0F0\">client</span> <span style=\"background-color: #FFECEC\">are</span> <span style=\"background-color: #FFEEEE\">an</span> <span style=\"background-color: #FFD2D2\">ethical</span> <span style=\"background-color: #FFFEFE\">and</span> <span style=\"background-color: #FFFAFA\">dynamic</span> <span style=\"background-color: #FFFAFA\">organisation</span> <span style=\"background-color: #FFEAEA\">absolutely</span> <span style=\"background-color: #FFFCFC\">committed</span> <span style=\"background-color: #FAFAFF\">to</span> <span style=\"background-color: #FFEEEE\">the</span> <span style=\"background-color: #FFF4F4\">advancement</span> <span style=\"background-color: #FFF0F0\">of</span> <span style=\"background-color: #FFE8E8\">innovative</span> <span style=\"background-color: #FFEEEE\">technologies</span> <span style=\"background-color: #FFFEFE\">.</span> <span style=\"background-color: #FFFCFC\">job</span> <span style=\"background-color: #FFF6F6\">title</span> <span style=\"background-color: #FFF8F8\">:</span> <span style=\"background-color: #FFF2F2\">sales</span> <span style=\"background-color: #FFF8F8\">specialist</span> <span style=\"background-color: #FFFCFC\">iv</span> <span style=\"background-color: #FFFEFE\">access</span> <span style=\"background-color: #FFFEFE\">and</span> <span style=\"background-color: #FFF8F8\">infusion</span> <span style=\"background-color: #FFF8F8\">selling</span> <span style=\"background-color: #FFE8E8\">:</span> <span style=\"background-color: #FFF6F6\">medication</span> <span style=\"background-color: #FFFCFC\">delivery</span> <span style=\"background-color: #FFFAFA\">solutions</span> <span style=\"background-color: #FFF8F8\">selling</span> <span style=\"background-color: #FFE8E8\">to</span> <span style=\"background-color: #FFEEEE\">:</span> <span style=\"background-color: #FFF2F2\">iv</span> <span style=\"background-color: #FFFEFE\">teams</span> <span style=\"background-color: #FFFEFE\">,</span> <span style=\"background-color: #FFF8F8\">infection</span> <span style=\"background-color: #FFFCFC\">control</span> <span style=\"background-color: #FFECEC\">,</span> <span style=\"background-color: #FFFCFC\">lead</span> <span style=\"background-color: #FFFCFC\">intensive</span> <span style=\"background-color: #FFF2F2\">care</span> <span style=\"background-color: #FFF2F2\">nurse</span> <span style=\"background-color: #FFFCFC\">specialists</span> <span style=\"background-color: #FFF0F0\">,</span> <span style=\"background-color: #FFF8F8\">ward</span> <span style=\"background-color: #FFF6F6\">managers</span> <span style=\"background-color: #FFF8F8\">territory</span> <span style=\"background-color: #FFFCFC\">:</span> <span style=\"background-color: #FFF6F6\">east</span> <span style=\"background-color: #FFD8D8\">midlands</span> <span style=\"background-color: #FFFCFC\">location</span> <span style=\"background-color: #FFF2F2\">:</span> <span style=\"background-color: #FFF6F6\">east</span> <span style=\"background-color: #FFF2F2\">midlands</span> <span style=\"background-color: #FFF4F4\">package</span> <span style=\"background-color: #FFF4F4\">:</span> <span style=\"background-color: #FFF6F6\">basic</span> <span style=\"background-color: #FFFEFE\">:</span> <span style=\"background-color: #FFF4F4\">****</span> <span style=\"background-color: #FFFEFE\">k</span> <span style=\"background-color: #FFE8E8\">****</span> <span style=\"background-color: #F8F8FF\">k</span> <span style=\"background-color: #FFF0F0\">,</span> <span style=\"background-color: #FFF8F8\">uncapped</span> <span style=\"background-color: #FFF2F2\">bonus</span> <span style=\"background-color: #FFF6F6\">in</span> <span style=\"background-color: #FFF6F6\">addition</span> <span style=\"background-color: #FFE8E8\">,</span> <span style=\"background-color: #FCFCFF\">full</span> <span style=\"background-color: #FFEEEE\">corporate</span> <span style=\"background-color: #FFEAEA\">benefits</span> <span style=\"background-color: #FFFAFA\">company</span> <span style=\"background-color: #FFF4F4\">information</span> <span style=\"background-color: #FFF6F6\">hugely</span> <span style=\"background-color: #FFFCFC\">ethical</span> <span style=\"background-color: #FFFEFE\">and</span> <span style=\"background-color: #FFF8F8\">professional</span> <span style=\"background-color: #FFFCFC\">global</span> <span style=\"background-color: #FFE0E0\">organisation</span> <span style=\"background-color: #FFE4E4\">extremely</span> <span style=\"background-color: #FFFCFC\">well</span> <span style=\"background-color: #FFFCFC\">established</span> <span style=\"background-color: #FFF2F2\">in</span> <span style=\"background-color: #FFF6F6\">the</span> <span style=\"background-color: #FFF4F4\">uk</span> <span style=\"background-color: #FFF6F6\">the</span> <span style=\"background-color: #FFF4F4\">market</span> <span style=\"background-color: #FFECEC\">leader</span> <span style=\"background-color: #FFF2F2\">across</span> <span style=\"background-color: #FFF6F6\">all</span> <span style=\"background-color: #FFFEFE\">of</span> <span style=\"background-color: #FFE8E8\">their</span> <span style=\"background-color: #FFEAEA\">core</span> <span style=\"background-color: #FFF2F2\">business</span> <span style=\"background-color: #FFFAFA\">areas</span> <span style=\"background-color: #FFFEFE\">focus</span> <span style=\"background-color: #FFFCFC\">on</span> <span style=\"background-color: #FFF8F8\">providing</span> <span style=\"background-color: #FFFCFC\">cutting</span> <span style=\"background-color: #F3F3FF\">edge</span> <span style=\"background-color: #FFFAFA\">solutions</span> <span style=\"background-color: #FFF8F8\">along</span> <span style=\"background-color: #FFF4F4\">with</span> <span style=\"background-color: #FFEEEE\">outstanding</span> <span style=\"background-color: #FFFCFC\">service</span> <span style=\"background-color: #FFF0F0\">and</span> <span style=\"background-color: #E0E0FF\">support</span> <span style=\"background-color: #E2E2FF\">a</span> <span style=\"background-color: #FFFAFA\">business</span> <span style=\"background-color: #FFFAFA\">that</span> <span style=\"background-color: #FFFAFA\">retain</span> <span style=\"background-color: #FFFAFA\">talented</span> <span style=\"background-color: #FFF6F6\">personnel</span> <span style=\"background-color: #FFF0F0\">by</span> <span style=\"background-color: #FFFEFE\">offering</span> <span style=\"background-color: #FFFEFE\">a</span> <span style=\"background-color: #FFFAFA\">strong</span> <span style=\"background-color: #F6F6FF\">platform</span> <span style=\"background-color: #FFF0F0\">for</span> <span style=\"background-color: #FFFEFE\">career</span> <span style=\"background-color: #FFFEFE\">development</span> <span style=\"background-color: #FFF0F0\">sales</span> <span style=\"background-color: #FFF8F8\">specialist</span> <span style=\"background-color: #FFFCFC\">iv</span> <span style=\"background-color: #FFFEFE\">access</span> <span style=\"background-color: #FFFEFE\">and</span> <span style=\"background-color: #FFFAFA\">infusion</span> <span style=\"background-color: #FFF8F8\">you</span> <span style=\"background-color: #FFFAFA\">must</span> <span style=\"background-color: #FFECEC\">have</span> <span style=\"background-color: #FFEEEE\">/</span> <span style=\"background-color: #FEFEFF\">be</span> <span style=\"background-color: #FEFEFF\">the</span> <span style=\"background-color: #FFF2F2\">following</span> <span style=\"background-color: #FFF8F8\">at</span> <span style=\"background-color: #FFFCFC\">least</span> <span style=\"background-color: #FFE8E8\">2</span> <span style=\"background-color: #FFF4F4\">years</span> <span style=\"background-color: #FFFCFC\">medical</span> <span style=\"background-color: #FFFCFC\">device</span> <span style=\"background-color: #FFDEDE\">sales</span> <span style=\"background-color: #F0F0FF\">experience</span> <span style=\"background-color: #FFECEC\">.</span> <span style=\"background-color: #FCFCFF\">candidates</span> <span style=\"background-color: #FAFAFF\">who</span> <span style=\"background-color: #FFFEFE\">have</span> <span style=\"background-color: #FFFCFC\">sold</span> <span style=\"background-color: #FFFEFE\">disposables</span> <span style=\"background-color: #FFF4F4\">/</span> <span style=\"background-color: #FFFEFE\">consumables</span> <span style=\"background-color: #FFFAFA\">or</span> <span style=\"background-color: #FFF6F6\">similar</span> <span style=\"background-color: #FFFEFE\">into</span> <span style=\"background-color: #FFFAFA\">hospitals</span> <span style=\"background-color: #FFECEC\">would</span> <span style=\"background-color: #EAEAFF\">be</span> <span style=\"background-color: #E2E2FF\">of</span> <span style=\"background-color: #FFEEEE\">particular</span> <span style=\"background-color: #FFEAEA\">interest</span> <span style=\"background-color: #FFFCFC\">.</span> <span style=\"background-color: #FFFEFE\">candidates</span> <span style=\"background-color: #FFFEFE\">must</span> <span style=\"background-color: #FFECEC\">have</span> <span style=\"background-color: #FFFCFC\">sold</span> <span style=\"background-color: #FFFEFE\">into</span> <span style=\"background-color: #FFFAFA\">hospitals</span> <span style=\"background-color: #FFF8F8\">demonstrable</span> <span style=\"background-color: #FFFEFE\">performance</span> <span style=\"background-color: #FFF2F2\">and</span> <span style=\"background-color: #FFFAFA\">achievements</span> <span style=\"background-color: #FFFEFE\">so</span> <span style=\"background-color: #FFFEFE\">far</span> <span style=\"background-color: #FFF0F0\">personable</span> <span style=\"background-color: #FFF6F6\">,</span> <span style=\"background-color: #FFF8F8\">adaptable</span> <span style=\"background-color: #FFFEFE\">and</span> <span style=\"background-color: #FFFAFA\">willing</span> <span style=\"background-color: #FFF6F6\">to</span> <span style=\"background-color: #FFEEEE\">learn</span> <span style=\"background-color: #FFF8F8\">keen</span> <span style=\"background-color: #FFFCFC\">and</span> <span style=\"background-color: #FFFAFA\">eager</span> <span style=\"background-color: #FFEEEE\">to</span> <span style=\"background-color: #FFEEEE\">be</span> <span style=\"background-color: #FFFEFE\">a</span> <span style=\"background-color: #FFFAFA\">success</span> <span style=\"background-color: #FFE6E6\">candidates</span> <span style=\"background-color: #FFFEFE\">must</span> <span style=\"background-color: #FFECEC\">have</span> <span style=\"background-color: #FFFCFC\">a</span> <span style=\"background-color: #FFFAFA\">degree</span> <span style=\"background-color: #FFFAFA\">or</span> <span style=\"background-color: #FFF6F6\">at</span> <span style=\"background-color: #FFF0F0\">least</span> <span style=\"background-color: #FFECEC\">be</span> <span style=\"background-color: #FFFEFE\">able</span> <span style=\"background-color: #FFFEFE\">to</span> <span style=\"background-color: #FFEEEE\">show</span> <span style=\"background-color: #FFF2F2\">a</span> <span style=\"background-color: #F8F8FF\">strong</span> <span style=\"background-color: #FFFEFE\">ability</span> <span style=\"background-color: #FEFEFF\">to</span> <span style=\"background-color: #FFECEC\">learn</span> <span style=\"background-color: #FFF8F8\">role</span> <span style=\"background-color: #FFF8F8\">information</span> <span style=\"background-color: #FFFAFA\">managing</span> <span style=\"background-color: #FFF0F0\">the</span> <span style=\"background-color: #FFF4F4\">east</span> <span style=\"background-color: #FFF2F2\">midlands</span> <span style=\"background-color: #FFF4F4\">region</span> <span style=\"background-color: #FFDEDE\">selling</span> <span style=\"background-color: #FFE8E8\">across</span> <span style=\"background-color: #FFF8F8\">the</span> <span style=\"background-color: #FFF2F2\">company</span> <span style=\"background-color: #FFF4F4\">'</span> <span style=\"background-color: #FFF8F8\">s</span> <span style=\"background-color: #FFFCFC\">range</span> <span style=\"background-color: #FFF8F8\">of</span> <span style=\"background-color: #FFEEEE\">iv</span> <span style=\"background-color: #FFFEFE\">and</span> <span style=\"background-color: #FFFAFA\">infusion</span> <span style=\"background-color: #FFFAFA\">solutions</span> <span style=\"background-color: #FFFAFA\">portfolio</span> <span style=\"background-color: #FFF2F2\">selling</span> <span style=\"background-color: #FFDEDE\">into</span> <span style=\"background-color: #FFFAFA\">lead</span> <span style=\"background-color: #FFFCFC\">intensive</span> <span style=\"background-color: #FFF2F2\">care</span> <span style=\"background-color: #FFF2F2\">nurse</span> <span style=\"background-color: #FFFCFC\">specialists</span> <span style=\"background-color: #FFF0F0\">,</span> <span style=\"background-color: #FFF8F8\">ward</span> <span style=\"background-color: #FFF6F6\">managers</span> <span style=\"background-color: #FFF8F8\">,</span> <span style=\"background-color: #FFF4F4\">iv</span> <span style=\"background-color: #FFFEFE\">teams</span> <span style=\"background-color: #FFFEFE\">,</span> <span style=\"background-color: #FFF8F8\">infection</span> <span style=\"background-color: #FFF8F8\">control</span> <span style=\"background-color: #FFF2F2\">teams</span> <span style=\"background-color: #FFFEFE\">,</span> <span style=\"background-color: #FFF8F8\">procurement</span> <span style=\"background-color: #FFF4F4\">sales</span> <span style=\"background-color: #FFF8F8\">specialist</span> <span style=\"background-color: #FFFCFC\">iv</span> <span style=\"background-color: #FFFEFE\">access</span> <span style=\"background-color: #FFFEFE\">and</span> <span style=\"background-color: #FFFAFA\">infusion</span> <span style=\"background-color: #FFF8F8\">candidates</span> <span style=\"background-color: #FFF2F2\">must</span> <span style=\"background-color: #FCFCFF\">be</span> <span style=\"background-color: #F6F6FF\">eligible</span> <span style=\"background-color: #FFF6F6\">to</span> <span style=\"background-color: #FFEEEE\">work</span> <span style=\"background-color: #FFFEFE\">and</span> <span style=\"background-color: #FFF8F8\">live</span> <span style=\"background-color: #FFFAFA\">in</span> <span style=\"background-color: #FFF6F6\">the</span> <span style=\"background-color: #FFF4F4\">uk</span> <span style=\"background-color: #FFF6F6\">.</span> <span style=\"background-color: #F8F8FF\">please</span> <span style=\"background-color: #F8F8FF\">contact</span> <span style=\"background-color: #FFFCFC\">allan</span> <span style=\"background-color: #FFFEFE\">waller</span> <span style=\"background-color: #FFFEFE\">on</span> <span style=\"background-color: #FFF8F8\">****</span> <span style=\"background-color: #FFFEFE\">****</span> <span style=\"background-color: #FFFEFE\">****</span> <span style=\"background-color: #FEFEFF\">or</span> <span style=\"background-color: #FFFCFC\">please</span> <span style=\"background-color: #FCFCFF\">hit</span> <span style=\"background-color: #FFFEFE\">the</span> <span style=\"background-color: #FFF4F4\">apply</span> <span style=\"background-color: #FFE2E2\">button</span> <span style=\"background-color: #FFF4F4\">.</span> <span style=\"background-color: #FFFEFE\">this</span> <span style=\"background-color: #FFF6F6\">job</span> <span style=\"background-color: #FFF4F4\">was</span> <span style=\"background-color: #EAEAFF\">originally</span> <span style=\"background-color: #FFD6D6\">posted</span> <span style=\"background-color: #FFF2F2\">as</span> <span style=\"background-color: #FFF2F2\">www</span> <span style=\"background-color: #FFF8F8\">.</span> <span style=\"background-color: #FFFEFE\">salestarget</span> <span style=\"background-color: #FFF0F0\">.</span> <span style=\"background-color: #FCFCFF\">co</span> <span style=\"background-color: #FFFEFE\">.</span> <span style=\"background-color: #FEFEFF\">uk</span> <span style=\"background-color: #FFF6F6\">/</span> <span style=\"background-color: #FFFEFE\">jobseeking</span> <span style=\"background-color: #EAEAFF\">/</span> <span style=\"background-color: #FFFEFE\">UNK</span> <span style=\"background-color: #FFFEFE\">****</span></p>"
     },
     "metadata": {},
     "output_type": "display_data"
    }
   ],
   "source": [
    "i = 36605\n",
    "tokens_and_weights = explain(model, data.loc[i], \"Title\")\n",
    "draw_html([(tok, weight * 5) for tok, weight in tokens_and_weights], font_style='font-size:20px;');\n",
    "\n",
    "tokens_and_weights = explain(model, data.loc[i], \"FullDescription\")\n",
    "draw_html([(tok, weight * 10) for tok, weight in tokens_and_weights]);"
   ]
  },
  {
   "cell_type": "code",
   "execution_count": 42,
   "metadata": {},
   "outputs": [
    {
     "name": "stderr",
     "output_type": "stream",
     "text": [
      "C:\\Users\\pavel.sokolov\\Miniconda3\\envs\\nlp\\lib\\site-packages\\keras\\engine\\functional.py:638: UserWarning: Input dict contained keys ['Log1pSalary'] which did not match any model input. They will be ignored by the model.\n",
      "  inputs = self._flatten_to_reference_inputs(inputs)\n"
     ]
    },
    {
     "name": "stdout",
     "output_type": "stream",
     "text": [
      "1/1 [==============================] - 0s 249ms/step\n"
     ]
    },
    {
     "data": {
      "text/html": "<p style=\"font-size:20px;\"><span style=\"background-color: #FFFEFE\">cleaning</span> <span style=\"background-color: #FFFEFE\">operative</span></p>"
     },
     "metadata": {},
     "output_type": "display_data"
    },
    {
     "name": "stdout",
     "output_type": "stream",
     "text": [
      "3/3 [==============================] - 0s 0s/step\n"
     ]
    },
    {
     "data": {
      "text/html": "<p style=\"font-size:14px;\"><span style=\"background-color: #FFFAFA\">12</span> <span style=\"background-color: #F2F2FF\">.</span> <span style=\"background-color: #E6E6FF\">5</span> <span style=\"background-color: #EAEAFF\">hours</span> <span style=\"background-color: #C2C2FF\">per</span> <span style=\"background-color: #ECECFF\">week</span> <span style=\"background-color: #FFF8F8\">monday</span> <span style=\"background-color: #FFF2F2\">friday</span> <span style=\"background-color: #FFF2F2\">9am</span> <span style=\"background-color: #FFF4F4\">11</span> <span style=\"background-color: #ECECFF\">.</span> <span style=\"background-color: #FFF8F8\">30am</span> <span style=\"background-color: #FCFCFF\">duties</span> <span style=\"background-color: #FFFCFC\">to</span> <span style=\"background-color: #F6F6FF\">include</span> <span style=\"background-color: #CACAFF\">sweeping</span> <span style=\"background-color: #F8F8FF\">,</span> <span style=\"background-color: #FCFCFF\">mopping</span> <span style=\"background-color: #E6E6FF\">,</span> <span style=\"background-color: #FFFAFA\">vacuuming</span> <span style=\"background-color: #FAFAFF\">,</span> <span style=\"background-color: #FFFAFA\">buffing</span> <span style=\"background-color: #FCFCFF\">,</span> <span style=\"background-color: #FFE4E4\">cleaning</span> <span style=\"background-color: #EAEAFF\">staff</span> <span style=\"background-color: #DEDEFF\">toilets</span> <span style=\"background-color: #FFF8F8\">and</span> <span style=\"background-color: #FAFAFF\">rest</span> <span style=\"background-color: #FFF4F4\">room</span> <span style=\"background-color: #E2E2FF\">.</span> <span style=\"background-color: #FFFEFE\">must</span> <span style=\"background-color: #FFE8E8\">be</span> <span style=\"background-color: #FFFAFA\">able</span> <span style=\"background-color: #FFF2F2\">to</span> <span style=\"background-color: #FFECEC\">read</span> <span style=\"background-color: #FFFAFA\">as</span> <span style=\"background-color: #FFF6F6\">they</span> <span style=\"background-color: #FFECEC\">will</span> <span style=\"background-color: #FFE8E8\">be</span> <span style=\"background-color: #E6E6FF\">using</span> <span style=\"background-color: #FFFEFE\">UNK</span> <span style=\"background-color: #FFFEFE\">which</span> <span style=\"background-color: #FFFEFE\">need</span> <span style=\"background-color: #FFFEFE\">UNK</span> <span style=\"background-color: #FFEEEE\">as</span> <span style=\"background-color: #FFFAFA\">per</span> <span style=\"background-color: #FFD2D2\">instructions</span> <span style=\"background-color: #FFF8F8\">on</span> <span style=\"background-color: #D3D3FF\">the</span> <span style=\"background-color: #FCFCFF\">containers</span> <span style=\"background-color: #FFFCFC\">.</span> <span style=\"background-color: #FFFAFA\">sucessfull</span> <span style=\"background-color: #FFFAFA\">applicants</span> <span style=\"background-color: #FFF4F4\">will</span> <span style=\"background-color: #FFE8E8\">be</span> <span style=\"background-color: #FFE2E2\">trained</span> <span style=\"background-color: #FFE8E8\">on</span> <span style=\"background-color: #F8F8FF\">all</span> <span style=\"background-color: #FCFCFF\">electrical</span> <span style=\"background-color: #FFF0F0\">appliances</span> <span style=\"background-color: #FFFEFE\">and</span> <span style=\"background-color: #FFFEFE\">UNK</span> <span style=\"background-color: #FFFCFC\">of</span> <span style=\"background-color: #FFE8E8\">cleaning</span> <span style=\"background-color: #FFFEFE\">materials</span> <span style=\"background-color: #FFFCFC\">.</span></p>"
     },
     "metadata": {},
     "output_type": "display_data"
    }
   ],
   "source": [
    "i = 12077\n",
    "tokens_and_weights = explain(model, data.loc[i], \"Title\")\n",
    "draw_html([(tok, weight * 5) for tok, weight in tokens_and_weights], font_style='font-size:20px;');\n",
    "\n",
    "tokens_and_weights = explain(model, data.loc[i], \"FullDescription\")\n",
    "draw_html([(tok, weight * 10) for tok, weight in tokens_and_weights]);"
   ]
  },
  {
   "cell_type": "code",
   "execution_count": 43,
   "metadata": {},
   "outputs": [
    {
     "name": "stdout",
     "output_type": "stream",
     "text": [
      "Index: 64405\n",
      "1/1 [==============================] - 0s 8ms/step\n",
      "Salary (gbp): 2574.227\n",
      "1/1 [==============================] - 0s 26ms/step\n"
     ]
    },
    {
     "data": {
      "text/html": "<p style=\"font-size:20px;\"><span style=\"background-color: #4848FF\">senior</span> <span style=\"background-color: #FF9393\">procurement</span> <span style=\"background-color: #FFB2B2\">officer</span></p>"
     },
     "metadata": {},
     "output_type": "display_data"
    },
    {
     "name": "stdout",
     "output_type": "stream",
     "text": [
      "8/8 [==============================] - 0s 4ms/step\n"
     ]
    },
    {
     "data": {
      "text/html": "<p style=\"font-size:14px;\"><span style=\"background-color: #FFF6F6\">senior</span> <span style=\"background-color: #FFD3D3\">procurement</span> <span style=\"background-color: #FFF4F4\">officer</span> <span style=\"background-color: #FFF0F0\">(</span> <span style=\"background-color: #FFD3D3\">cips</span> <span style=\"background-color: #EEEEFF\">qualified</span> <span style=\"background-color: #FEFEFF\">)</span> <span style=\"background-color: #FFE6E6\">belfast</span> <span style=\"background-color: #FFF8F8\">area</span> <span style=\"background-color: #FFFCFC\">.</span> <span style=\"background-color: #FEFEFF\">a</span> <span style=\"background-color: #FFFCFC\">high</span> <span style=\"background-color: #E3E3FF\">profile</span> <span style=\"background-color: #F0F0FF\">central</span> <span style=\"background-color: #FFECEC\">government</span> <span style=\"background-color: #FFECEC\">body</span> <span style=\"background-color: #FFFAFA\">have</span> <span style=\"background-color: #FFF8F8\">appointed</span> <span style=\"background-color: #FFF4F4\">hays</span> <span style=\"background-color: #FFF6F6\">to</span> <span style=\"background-color: #FFEAEA\">recruit</span> <span style=\"background-color: #FFFCFC\">for</span> <span style=\"background-color: #F8F8FF\">a</span> <span style=\"background-color: #FFF8F8\">senior</span> <span style=\"background-color: #FFD3D3\">procurement</span> <span style=\"background-color: #FFF4F4\">officer</span> <span style=\"background-color: #FFF0F0\">to</span> <span style=\"background-color: #F0F0FF\">support</span> <span style=\"background-color: #E2E2FF\">a</span> <span style=\"background-color: #FFF6F6\">category</span> <span style=\"background-color: #FFE2E2\">spend</span> <span style=\"background-color: #FFF0F0\">team</span> <span style=\"background-color: #FFE6E6\">within</span> <span style=\"background-color: #FFEAEA\">the</span> <span style=\"background-color: #FFEEEE\">procurement</span> <span style=\"background-color: #FFF8F8\">function</span> <span style=\"background-color: #FFF6F6\">.</span> <span style=\"background-color: #FEFEFF\">this</span> <span style=\"background-color: #FFF6F6\">is</span> <span style=\"background-color: #FFEAEA\">a</span> <span style=\"background-color: #FFF6F6\">temporary</span> <span style=\"background-color: #FFF8F8\">opportunity</span> <span style=\"background-color: #FFE2E2\">within</span> <span style=\"background-color: #FFF4F4\">a</span> <span style=\"background-color: #FFF6F6\">centre</span> <span style=\"background-color: #FFECEC\">of</span> <span style=\"background-color: #FFE2E2\">procurement</span> <span style=\"background-color: #E0E0FF\">expertise</span> <span style=\"background-color: #EAEAFF\">.</span> <span style=\"background-color: #FEFEFF\">(</span> <span style=\"background-color: #FFF0F0\">cope</span> <span style=\"background-color: #FFF6F6\">).</span> <span style=\"background-color: #FFECEC\">candidates</span> <span style=\"background-color: #FFEEEE\">must</span> <span style=\"background-color: #FFE8E8\">be</span> <span style=\"background-color: #FFFEFE\">a</span> <span style=\"background-color: #FFF8F8\">full</span> <span style=\"background-color: #FFEEEE\">corporate</span> <span style=\"background-color: #FFE6E6\">member</span> <span style=\"background-color: #FFEEEE\">of</span> <span style=\"background-color: #FFDEDE\">the</span> <span style=\"background-color: #FFFCFC\">chartered</span> <span style=\"background-color: #FFF8F8\">institute</span> <span style=\"background-color: #FFECEC\">of</span> <span style=\"background-color: #FFEAEA\">purchasing</span> <span style=\"background-color: #FFF6F6\">and</span> <span style=\"background-color: #FFF4F4\">supply</span> <span style=\"background-color: #FFDEDE\">to</span> <span style=\"background-color: #FFEAEA\">be</span> <span style=\"background-color: #FFFEFE\">considered</span> <span style=\"background-color: #FFECEC\">for</span> <span style=\"background-color: #FFFEFE\">this</span> <span style=\"background-color: #FFF4F4\">post</span> <span style=\"background-color: #FFF2F2\">.</span> <span style=\"background-color: #FCFCFF\">salary</span> <span style=\"background-color: #FFEEEE\">is</span> <span style=\"background-color: #FFE2E2\">dependant</span> <span style=\"background-color: #FFCCCC\">on</span> <span style=\"background-color: #FFE2E2\">experience</span> <span style=\"background-color: #FFEEEE\">,</span> <span style=\"background-color: #FFF8F8\">candidates</span> <span style=\"background-color: #FFFAFA\">should</span> <span style=\"background-color: #FFEEEE\">expect</span> <span style=\"background-color: #FFF4F4\">a</span> <span style=\"background-color: #FFF6F6\">remuneration</span> <span style=\"background-color: #FFF6F6\">package</span> <span style=\"background-color: #FFF2F2\">of</span> <span style=\"background-color: #FFFAFA\">****</span> <span style=\"background-color: #EEEEFF\">****</span> <span style=\"background-color: #FEFEFF\">you</span> <span style=\"background-color: #FFF6F6\">can</span> <span style=\"background-color: #FFF0F0\">also</span> <span style=\"background-color: #FFF0F0\">enjoy</span> <span style=\"background-color: #FFFCFC\">up</span> <span style=\"background-color: #FFFCFC\">to</span> <span style=\"background-color: #FFDCDC\">37</span> <span style=\"background-color: #FFF2F2\">days</span> <span style=\"background-color: #FFF6F6\">paid</span> <span style=\"background-color: #FFFCFC\">holiday</span> <span style=\"background-color: #FFFEFE\">per</span> <span style=\"background-color: #FFE6E6\">annum</span> <span style=\"background-color: #FFF4F4\">pro</span> <span style=\"background-color: #FFFEFE\">rota</span> <span style=\"background-color: #FFF8F8\">.</span> <span style=\"background-color: #FEFEFF\">your</span> <span style=\"background-color: #FFFCFC\">job</span> <span style=\"background-color: #FFE4E4\">will</span> <span style=\"background-color: #FFE8E8\">be</span> <span style=\"background-color: #FFFEFE\">to</span> <span style=\"background-color: #FFEAEA\">deliver</span> <span style=\"background-color: #FFF0F0\">value</span> <span style=\"background-color: #FFFCFC\">money</span> <span style=\"background-color: #FFF0F0\">solutions</span> <span style=\"background-color: #FFFAFA\">in</span> <span style=\"background-color: #FFEAEA\">the</span> <span style=\"background-color: #FFF0F0\">procurement</span> <span style=\"background-color: #FFF0F0\">of</span> <span style=\"background-color: #FFEAEA\">security</span> <span style=\"background-color: #FFE6E6\">solutions</span> <span style=\"background-color: #FFF8F8\">.</span> <span style=\"background-color: #FEFEFF\">there</span> <span style=\"background-color: #FFECEC\">will</span> <span style=\"background-color: #FFE8E8\">be</span> <span style=\"background-color: #FFFEFE\">a</span> <span style=\"background-color: #FFF6F6\">considerable</span> <span style=\"background-color: #FFF2F2\">amount</span> <span style=\"background-color: #FFF2F2\">of</span> <span style=\"background-color: #FFECEC\">stakeholder</span> <span style=\"background-color: #FFDADA\">engagement</span> <span style=\"background-color: #FFFCFC\">and</span> <span style=\"background-color: #FFF4F4\">data</span> <span style=\"background-color: #FFF6F6\">analysis</span> <span style=\"background-color: #FFF0F0\">required</span> <span style=\"background-color: #FFE8E8\">and</span> <span style=\"background-color: #FFF4F4\">candidates</span> <span style=\"background-color: #FFEEEE\">should</span> <span style=\"background-color: #FFEEEE\">be</span> <span style=\"background-color: #FFFEFE\">able</span> <span style=\"background-color: #FEFEFF\">to</span> <span style=\"background-color: #FFEAEA\">demonstrate</span> <span style=\"background-color: #FFF6F6\">success</span> <span style=\"background-color: #FFFEFE\">in</span> <span style=\"background-color: #FFF2F2\">this</span> <span style=\"background-color: #FFF4F4\">area</span> <span style=\"background-color: #FFFCFC\">.</span> <span style=\"background-color: #FEFEFF\">you</span> <span style=\"background-color: #FFF8F8\">will</span> <span style=\"background-color: #FFE8E8\">develop</span> <span style=\"background-color: #FFF8F8\">tender</span> <span style=\"background-color: #FFF8F8\">documentation</span> <span style=\"background-color: #FEFEFF\">and</span> <span style=\"background-color: #FFF8F8\">manage</span> <span style=\"background-color: #FFE8E8\">suppliers</span> <span style=\"background-color: #FFFEFE\">on</span> <span style=\"background-color: #FFF4F4\">a</span> <span style=\"background-color: #FFF6F6\">day</span> <span style=\"background-color: #FFEAEA\">to</span> <span style=\"background-color: #FFEAEA\">day</span> <span style=\"background-color: #FFEAEA\">basis</span> <span style=\"background-color: #FFF2F2\">.</span> <span style=\"background-color: #FFFEFE\">hays</span> <span style=\"background-color: #FFF6F6\">specialist</span> <span style=\"background-color: #FFFAFA\">recruitment</span> <span style=\"background-color: #EAEAFF\">limited</span> <span style=\"background-color: #FAFAFF\">acts</span> <span style=\"background-color: #FFFAFA\">as</span> <span style=\"background-color: #FFF2F2\">an</span> <span style=\"background-color: #FFEEEE\">employment</span> <span style=\"background-color: #FFF8F8\">agency</span> <span style=\"background-color: #FFFEFE\">for</span> <span style=\"background-color: #FEFEFF\">permanent</span> <span style=\"background-color: #FFFCFC\">recruitment</span> <span style=\"background-color: #FFFEFE\">and</span> <span style=\"background-color: #FFF0F0\">employment</span> <span style=\"background-color: #FFF8F8\">business</span> <span style=\"background-color: #FFF6F6\">for</span> <span style=\"background-color: #F2F2FF\">the</span> <span style=\"background-color: #FFF2F2\">supply</span> <span style=\"background-color: #FFECEC\">of</span> <span style=\"background-color: #FFEAEA\">temporary</span> <span style=\"background-color: #FFF8F8\">workers</span> <span style=\"background-color: #FFF4F4\">.</span> <span style=\"background-color: #FEFEFF\">by</span> <span style=\"background-color: #FEFEFF\">applying</span> <span style=\"background-color: #FFE4E4\">for</span> <span style=\"background-color: #FEFEFF\">this</span> <span style=\"background-color: #FFF6F6\">job</span> <span style=\"background-color: #FFF0F0\">you</span> <span style=\"background-color: #FFF6F6\">accept</span> <span style=\"background-color: #FFECEC\">the</span> <span style=\"background-color: #FFF2F2\">t</span> <span style=\"background-color: #FFF8F8\">c</span> <span style=\"background-color: #FFEEEE\">'</span> <span style=\"background-color: #FFE0E0\">s</span> <span style=\"background-color: #FAFAFF\">,</span> <span style=\"background-color: #FFFAFA\">privacy</span> <span style=\"background-color: #FFF0F0\">policy</span> <span style=\"background-color: #F6F6FF\">and</span> <span style=\"background-color: #F2F2FF\">disclaimers</span> <span style=\"background-color: #FFF6F6\">which</span> <span style=\"background-color: #FFE8E8\">can</span> <span style=\"background-color: #FFF2F2\">be</span> <span style=\"background-color: #F6F6FF\">found</span> <span style=\"background-color: #FFF0F0\">at</span> <span style=\"background-color: #FFF8F8\">hays</span> <span style=\"background-color: #FFFCFC\">.</span> <span style=\"background-color: #FCFCFF\">co</span> <span style=\"background-color: #FEFEFF\">.</span> <span style=\"background-color: #FEFEFF\">uk</span> <span style=\"background-color: #FFF2F2\">this</span> <span style=\"background-color: #FFF6F6\">job</span> <span style=\"background-color: #FFF0F0\">was</span> <span style=\"background-color: #F0F0FF\">originally</span> <span style=\"background-color: #FFD0D0\">posted</span> <span style=\"background-color: #FFEEEE\">as</span> <span style=\"background-color: #FFECEC\">www</span> <span style=\"background-color: #FFF4F4\">.</span> <span style=\"background-color: #FFFEFE\">totaljobs</span> <span style=\"background-color: #FFEAEA\">.</span> <span style=\"background-color: #FEFEFF\">com</span> <span style=\"background-color: #FFFCFC\">/</span> <span style=\"background-color: #FEFEFF\">jobseeking</span> <span style=\"background-color: #FFFCFC\">/</span> <span style=\"background-color: #FFFEFE\">UNK</span> <span style=\"background-color: #FFFAFA\">****</span></p>"
     },
     "metadata": {},
     "output_type": "display_data"
    }
   ],
   "source": [
    "i = np.random.randint(len(data))\n",
    "print(\"Index:\", i)\n",
    "print(\"Salary (gbp):\", np.expm1(model.predict(make_batch(data.iloc[i: i+1]))[0, 0]))\n",
    "\n",
    "tokens_and_weights = explain(model, data.loc[i], \"Title\")\n",
    "draw_html([(tok, weight * 5) for tok, weight in tokens_and_weights], font_style='font-size:20px;');\n",
    "\n",
    "tokens_and_weights = explain(model, data.loc[i], \"FullDescription\")\n",
    "draw_html([(tok, weight * 10) for tok, weight in tokens_and_weights]);"
   ]
  },
  {
   "cell_type": "markdown",
   "metadata": {},
   "source": [
    "__Terrible start-up idea #1962:__ make a tool that automaticaly rephrases your job description (or CV) to meet salary expectations :)"
   ]
  },
  {
   "cell_type": "code",
   "execution_count": null,
   "outputs": [],
   "source": [],
   "metadata": {
    "collapsed": false
   }
  }
 ],
 "metadata": {
  "kernelspec": {
   "display_name": "Python 3",
   "language": "python",
   "name": "python3"
  },
  "language_info": {
   "codemirror_mode": {
    "name": "ipython",
    "version": 3
   },
   "file_extension": ".py",
   "mimetype": "text/x-python",
   "name": "python",
   "nbconvert_exporter": "python",
   "pygments_lexer": "ipython3",
   "version": "3.8.1"
  }
 },
 "nbformat": 4,
 "nbformat_minor": 2
}
